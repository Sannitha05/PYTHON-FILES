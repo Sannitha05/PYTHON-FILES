{
 "cells": [
  {
   "cell_type": "code",
   "execution_count": 7,
   "id": "9dfc4cae",
   "metadata": {},
   "outputs": [
    {
     "data": {
      "text/plain": [
       "'class Solution:\\n    def missingNumber(self, nums: List[int]) -> int:\\n        n = len(nums)\\n        v=[-1] * (n+1)\\n        for num in nums:\\n            v[num]=num\\n        for i in range(len(v)):\\n            if v[i] == -1:\\n                return i\\n        return 0'"
      ]
     },
     "execution_count": 7,
     "metadata": {},
     "output_type": "execute_result"
    }
   ],
   "source": [
    "# LOGIC\n",
    "\n",
    "'''class Solution:\n",
    "    def missingNumber(self, nums: List[int]) -> int:\n",
    "        n = len(nums)\n",
    "        v=[-1] * (n+1)\n",
    "        for num in nums:\n",
    "            v[num]=num\n",
    "        for i in range(len(v)):\n",
    "            if v[i] == -1:\n",
    "                return i\n",
    "        return 0'''"
   ]
  },
  {
   "cell_type": "code",
   "execution_count": 2,
   "id": "d18556eb",
   "metadata": {},
   "outputs": [
    {
     "name": "stdout",
     "output_type": "stream",
     "text": [
      "Enter numbers separated by space: 0 3 2 4\n",
      "Missing number: 1\n"
     ]
    }
   ],
   "source": [
    "def missingNumber(nums):\n",
    "    n = len(nums)\n",
    "    expected_sum = n * (n + 1) // 2 \n",
    "    actual_sum = sum(nums)\n",
    "    return expected_sum - actual_sum\n",
    "\n",
    "nums = list(map(int, input(\"Enter numbers separated by space: \").split()))\n",
    "print(\"Missing number:\", missingNumber(nums))\n"
   ]
  },
  {
   "cell_type": "code",
   "execution_count": 6,
   "id": "dcb7f7f3",
   "metadata": {},
   "outputs": [
    {
     "name": "stdout",
     "output_type": "stream",
     "text": [
      "Enter numbers separated by spaces: 0 2 3 4\n",
      "Missing number: 1\n"
     ]
    }
   ],
   "source": [
    "class Solution:\n",
    "    def missingNumber(self, nums: List[int]) -> int:\n",
    "        n = len(nums)\n",
    "        v = [-1] * (n + 1)\n",
    "        for num in nums:\n",
    "            v[num] = num\n",
    "        for i in range(len(v)):\n",
    "            if v[i] == -1:\n",
    "                return i\n",
    "        return 0\n",
    "\n",
    "nums = list(map(int, input(\"Enter numbers separated by spaces: \").split()))\n",
    "sol = Solution()\n",
    "print(\"Missing number:\", sol.missingNumber(nums))\n"
   ]
  },
  {
   "cell_type": "code",
   "execution_count": null,
   "id": "a6634ae6",
   "metadata": {},
   "outputs": [],
   "source": []
  }
 ],
 "metadata": {
  "kernelspec": {
   "display_name": "Python 3 (ipykernel)",
   "language": "python",
   "name": "python3"
  },
  "language_info": {
   "codemirror_mode": {
    "name": "ipython",
    "version": 3
   },
   "file_extension": ".py",
   "mimetype": "text/x-python",
   "name": "python",
   "nbconvert_exporter": "python",
   "pygments_lexer": "ipython3",
   "version": "3.11.5"
  }
 },
 "nbformat": 4,
 "nbformat_minor": 5
}
