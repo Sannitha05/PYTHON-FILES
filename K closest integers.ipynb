{
 "cells": [
  {
   "cell_type": "code",
   "execution_count": 6,
   "id": "ee27005c",
   "metadata": {},
   "outputs": [
    {
     "name": "stdout",
     "output_type": "stream",
     "text": [
      "5\n",
      "1 2 3 4 5\n",
      "4 3\n",
      "[1, 2, 3, 4]\n"
     ]
    }
   ],
   "source": [
    "class Solution(object):\n",
    "    def findClosestElements(self, arr, k, x):\n",
    "        return sorted(sorted(arr, key=lambda num: (abs(num - x), num))[:k])\n",
    "    \n",
    "    \n",
    "n = int(input())\n",
    "arr = list(map(int,input().split()))\n",
    "k,x = map(int, input().split())\n",
    "solution = Solution()\n",
    "result=solution.findClosestElements(arr,k,x)\n",
    "print(result)"
   ]
  },
  {
   "cell_type": "code",
   "execution_count": 3,
   "id": "f1765576",
   "metadata": {},
   "outputs": [
    {
     "name": "stdout",
     "output_type": "stream",
     "text": [
      "5\n",
      "1 2 3 4 5\n",
      "4 3\n",
      "[1, 2, 3, 4]\n"
     ]
    }
   ],
   "source": [
    "class Solution(object):\n",
    "    def findClosestElements(self, arr, k, x):\n",
    "        return sorted(sorted(arr, key=lambda num: (abs(num - x), num))[:k])\n",
    "\n",
    "n = int(input())  \n",
    "arr = list(map(int, input().split()))  \n",
    "k, x = map(int, input().split())  \n",
    "\n",
    "solution = Solution()\n",
    "result = solution.findClosestElements(arr, k, x)\n",
    "print(result)\n"
   ]
  },
  {
   "cell_type": "code",
   "execution_count": null,
   "id": "543f380d",
   "metadata": {},
   "outputs": [],
   "source": []
  }
 ],
 "metadata": {
  "kernelspec": {
   "display_name": "Python 3 (ipykernel)",
   "language": "python",
   "name": "python3"
  },
  "language_info": {
   "codemirror_mode": {
    "name": "ipython",
    "version": 3
   },
   "file_extension": ".py",
   "mimetype": "text/x-python",
   "name": "python",
   "nbconvert_exporter": "python",
   "pygments_lexer": "ipython3",
   "version": "3.11.5"
  }
 },
 "nbformat": 4,
 "nbformat_minor": 5
}
