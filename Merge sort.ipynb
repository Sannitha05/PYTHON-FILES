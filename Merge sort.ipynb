{
 "cells": [
  {
   "cell_type": "code",
   "execution_count": 1,
   "id": "e4334999",
   "metadata": {},
   "outputs": [
    {
     "name": "stdout",
     "output_type": "stream",
     "text": [
      "[3, 9, 10, 27, 38, 43, 82]\n"
     ]
    }
   ],
   "source": [
    "def merge_sort(arr):\n",
    "    if len(arr) <= 1:\n",
    "        return arr\n",
    "    \n",
    "    mid = len(arr) // 2\n",
    "    left = merge_sort(arr[:mid])\n",
    "    right = merge_sort(arr[mid:])\n",
    "    \n",
    "    return merge(left, right)\n",
    "\n",
    "def merge(left, right):\n",
    "    result = []\n",
    "    i = j = 0\n",
    "    \n",
    "    while i < len(left) and j < len(right):\n",
    "        if left[i] < right[j]:\n",
    "            result.append(left[i])\n",
    "            i += 1\n",
    "        else:\n",
    "            result.append(right[j])\n",
    "            j += 1\n",
    "\n",
    "    result.extend(left[i:])\n",
    "    result.extend(right[j:])\n",
    "    \n",
    "    return result\n",
    "\n",
    "arr = [38, 27, 43, 3, 9, 82, 10]\n",
    "print(merge_sort(arr))\n"
   ]
  },
  {
   "cell_type": "code",
   "execution_count": 3,
   "id": "04da1155",
   "metadata": {},
   "outputs": [
    {
     "name": "stdout",
     "output_type": "stream",
     "text": [
      "[-5, -3, -2, 1, 4, 5, 8]\n"
     ]
    }
   ],
   "source": [
    "def merge_two_sorted(nums1, nums2):\n",
    "    result = []\n",
    "    i = j = 0\n",
    "    \n",
    "    while i < len(nums1) and j < len(nums2):\n",
    "        if nums1[i] < nums2[j]:\n",
    "            result.append(nums1[i])\n",
    "            i += 1\n",
    "        else:\n",
    "            result.append(nums2[j])\n",
    "            j += 1\n",
    "    \n",
    "    result.extend(nums1[i:])\n",
    "    result.extend(nums2[j:])\n",
    "    \n",
    "    return result\n",
    "\n",
    "nums1 = [-5, -2, 4, 5]\n",
    "nums2 = [-3, 1, 8]\n",
    "merged = merge_two_sorted(nums1, nums2)\n",
    "print(merged)\n"
   ]
  },
  {
   "cell_type": "code",
   "execution_count": 7,
   "id": "7110cdbf",
   "metadata": {},
   "outputs": [
    {
     "name": "stdout",
     "output_type": "stream",
     "text": [
      "[-5, -3, -2, 1, 4, 5, 8]\n"
     ]
    }
   ],
   "source": [
    "def merge_new(nums1, nums2):\n",
    "    temp = []\n",
    "    i = j = 0\n",
    "    m, n = len(nums1), len(nums2)\n",
    "\n",
    "    while i < m and j < n:\n",
    "        if nums1[i] < nums2[j]:\n",
    "            temp.append(nums1[i])\n",
    "            i += 1\n",
    "        else:\n",
    "            temp.append(nums2[j])\n",
    "            j += 1\n",
    "\n",
    "    temp.extend(nums1[i:])\n",
    "    temp.extend(nums2[j:])\n",
    "    return temp\n",
    "\n",
    "nums1 = [-5, -2, 4, 5]\n",
    "nums2 = [-3, 1, 8]\n",
    "merged = merge_new(nums1, nums2)\n",
    "print(merged)\n"
   ]
  },
  {
   "cell_type": "code",
   "execution_count": null,
   "id": "1003c378",
   "metadata": {},
   "outputs": [],
   "source": []
  }
 ],
 "metadata": {
  "kernelspec": {
   "display_name": "Python 3 (ipykernel)",
   "language": "python",
   "name": "python3"
  },
  "language_info": {
   "codemirror_mode": {
    "name": "ipython",
    "version": 3
   },
   "file_extension": ".py",
   "mimetype": "text/x-python",
   "name": "python",
   "nbconvert_exporter": "python",
   "pygments_lexer": "ipython3",
   "version": "3.11.5"
  }
 },
 "nbformat": 4,
 "nbformat_minor": 5
}
