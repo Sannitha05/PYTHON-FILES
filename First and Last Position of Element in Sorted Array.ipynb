{
 "cells": [
  {
   "cell_type": "code",
   "execution_count": 3,
   "id": "ec8a4fae",
   "metadata": {},
   "outputs": [
    {
     "name": "stdout",
     "output_type": "stream",
     "text": [
      "5 7 7 8 8 10\n",
      "6\n",
      "[-1, -1]\n"
     ]
    }
   ],
   "source": [
    "'''Given an array of integers nums sorted in non-decreasing order, find the starting and ending position of a given target value.\n",
    "If target is not found in the array, return [-1, -1].\n",
    "You must write an algorithm with O(log n) runtime complexity.\n",
    "\n",
    "Example 1:\n",
    "Input: nums = [5,7,7,8,8,10], target = 8\n",
    "Output: [3,4]\n",
    "\n",
    "Example 2:\n",
    "Input: nums = [5,7,7,8,8,10], target = 6\n",
    "Output: [-1,-1]\n",
    "\n",
    "Example 3:\n",
    "Input: nums = [], target = 0\n",
    "Output: [-1,-1]\n",
    " \n",
    "Constraints:\n",
    "0 <= nums.length <= 105\n",
    "-109 <= nums[i] <= 109\n",
    "nums is a non-decreasing array.\n",
    "-109 <= target <= 109'''\n",
    "\n",
    "\n",
    "from typing import List\n",
    "\n",
    "class Solution:\n",
    "    def searchRange(self, nums: List[int], target: int) -> List[int]:\n",
    "        return [self.binary(nums, target, True), self.binary(nums, target, False)]\n",
    "\n",
    "    def binary(self, nums, target, findFirst):\n",
    "        s, e = 0, len(nums) - 1\n",
    "        ans = -1\n",
    "        while s <= e:\n",
    "            mid = (s + e) // 2\n",
    "            if target > nums[mid]:\n",
    "                s = mid + 1\n",
    "            elif target < nums[mid]:\n",
    "                e = mid - 1\n",
    "            else:\n",
    "                ans = mid\n",
    "                if findFirst:\n",
    "                    e = mid - 1\n",
    "                else:\n",
    "                    s = mid + 1\n",
    "        return ans\n",
    "\n",
    "nums = list(map(int, input().split()))\n",
    "target = int(input())\n",
    "\n",
    "sol = Solution()\n",
    "print(sol.searchRange(nums, target))"
   ]
  },
  {
   "cell_type": "code",
   "execution_count": 4,
   "id": "6eda1e94",
   "metadata": {},
   "outputs": [
    {
     "name": "stdout",
     "output_type": "stream",
     "text": [
      "Enter the sorted array elements (space-separated): 5 7 7 8 8 10\n",
      "Enter the target value: 6\n",
      "First and Last Position of target: [-1, -1]\n"
     ]
    }
   ],
   "source": [
    "#brute force\n",
    "\n",
    "def searchRange(nums, target):\n",
    "    start = -1\n",
    "    end = -1\n",
    "\n",
    "    for i in range(len(nums)):\n",
    "        if nums[i] == target:\n",
    "            if start == -1:\n",
    "                start = i\n",
    "            end = i\n",
    "\n",
    "    return [start, end]\n",
    "\n",
    "nums = list(map(int, input(\"Enter the sorted array elements (space-separated): \").split()))\n",
    "target = int(input(\"Enter the target value: \"))\n",
    "\n",
    "result = searchRange(nums, target)\n",
    "print(\"First and Last Position of target:\", result)\n",
    "\n",
    "\n",
    "\n",
    "\n",
    "\n",
    "'''Time and Space Complexity:\n",
    "Time Complexity: O(n) — where n is the length of the array, because we may iterate the entire array.\n",
    "\n",
    "Space Complexity: O(1) — no extra space used except variables.'''\n"
   ]
  },
  {
   "cell_type": "code",
   "execution_count": 5,
   "id": "b2415210",
   "metadata": {},
   "outputs": [
    {
     "name": "stdout",
     "output_type": "stream",
     "text": [
      "Enter the sorted array elements (space-separated): 5 7 8 8 10\n",
      "Enter the target value: 8\n",
      "First and Last Position of target: [2, 3]\n"
     ]
    }
   ],
   "source": [
    "#optimization\n",
    "\n",
    "def findFirst(nums, target):\n",
    "    left, right = 0, len(nums) - 1\n",
    "    first = -1\n",
    "    while left <= right:\n",
    "        mid = (left + right) // 2\n",
    "        if nums[mid] == target:\n",
    "            first = mid\n",
    "            right = mid - 1  \n",
    "        elif nums[mid] < target:\n",
    "            left = mid + 1\n",
    "        else:\n",
    "            right = mid - 1\n",
    "    return first\n",
    "\n",
    "def findLast(nums, target):\n",
    "    left, right = 0, len(nums) - 1\n",
    "    last = -1\n",
    "    while left <= right:\n",
    "        mid = (left + right) // 2\n",
    "        if nums[mid] == target:\n",
    "            last = mid\n",
    "            left = mid + 1 \n",
    "        elif nums[mid] < target:\n",
    "            left = mid + 1\n",
    "        else:\n",
    "            right = mid - 1\n",
    "    return last\n",
    "\n",
    "def searchRange(nums, target):\n",
    "    return [findFirst(nums, target), findLast(nums, target)]\n",
    "\n",
    "nums = list(map(int, input(\"Enter the sorted array elements (space-separated): \").split()))\n",
    "target = int(input(\"Enter the target value: \"))\n",
    "\n",
    "result = searchRange(nums, target)\n",
    "print(\"First and Last Position of target:\", result)\n",
    "\n",
    "\n",
    "\n",
    "\n",
    "\n",
    "\n",
    "\n",
    "''' Time and Space Complexity:\n",
    "Time Complexity: O(log n) — thanks to binary search.\n",
    "\n",
    "Space Complexity: O(1) — no extra data structures used.\n",
    "\n",
    "'''\n"
   ]
  },
  {
   "cell_type": "code",
   "execution_count": null,
   "id": "55cfa141",
   "metadata": {},
   "outputs": [],
   "source": []
  }
 ],
 "metadata": {
  "kernelspec": {
   "display_name": "Python 3 (ipykernel)",
   "language": "python",
   "name": "python3"
  },
  "language_info": {
   "codemirror_mode": {
    "name": "ipython",
    "version": 3
   },
   "file_extension": ".py",
   "mimetype": "text/x-python",
   "name": "python",
   "nbconvert_exporter": "python",
   "pygments_lexer": "ipython3",
   "version": "3.11.5"
  }
 },
 "nbformat": 4,
 "nbformat_minor": 5
}
