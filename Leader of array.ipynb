{
 "cells": [
  {
   "cell_type": "code",
   "execution_count": 1,
   "id": "2998310e",
   "metadata": {},
   "outputs": [
    {
     "name": "stdout",
     "output_type": "stream",
     "text": [
      "[5, 3, 2]\n"
     ]
    }
   ],
   "source": [
    "def find_leaders(arr):\n",
    "    leaders = []\n",
    "    max_right = arr[-1]  \n",
    "    leaders.append(max_right)\n",
    "\n",
    "    for i in range(len(arr) - 2, -1, -1): \n",
    "        if arr[i] >= max_right:\n",
    "            max_right = arr[i]\n",
    "            leaders.append(max_right)\n",
    "\n",
    "    return leaders[::-1]  \n",
    "\n",
    "arr = [1, 2, 5, 3, 1, 2]\n",
    "print(find_leaders(arr))  "
   ]
  },
  {
   "cell_type": "code",
   "execution_count": 2,
   "id": "1b845f7a",
   "metadata": {},
   "outputs": [
    {
     "name": "stdout",
     "output_type": "stream",
     "text": [
      "2: True\n",
      "1: False\n",
      "3: True\n",
      "5: True\n",
      "2: False\n",
      "1: False\n",
      "Leaders: [5, 3, 2]\n"
     ]
    }
   ],
   "source": [
    "def find_leaders(arr):\n",
    "    leaders = []\n",
    "    max_right = arr[-1]  \n",
    "    leaders.append(max_right)\n",
    "\n",
    "    print(f\"{max_right}: True\")  \n",
    "\n",
    "    for i in range(len(arr) - 2, -1, -1): \n",
    "        is_leader = arr[i] >= max_right \n",
    "        print(f\"{arr[i]}: {is_leader}\")  \n",
    "        if is_leader:\n",
    "            max_right = arr[i]\n",
    "            leaders.append(max_right)\n",
    "\n",
    "    return leaders[::-1]  \n",
    "\n",
    "arr = [1, 2, 5, 3, 1, 2]\n",
    "print(\"Leaders:\", find_leaders(arr))"
   ]
  },
  {
   "cell_type": "code",
   "execution_count": null,
   "id": "062abde4",
   "metadata": {},
   "outputs": [],
   "source": []
  }
 ],
 "metadata": {
  "kernelspec": {
   "display_name": "Python 3 (ipykernel)",
   "language": "python",
   "name": "python3"
  },
  "language_info": {
   "codemirror_mode": {
    "name": "ipython",
    "version": 3
   },
   "file_extension": ".py",
   "mimetype": "text/x-python",
   "name": "python",
   "nbconvert_exporter": "python",
   "pygments_lexer": "ipython3",
   "version": "3.11.5"
  }
 },
 "nbformat": 4,
 "nbformat_minor": 5
}
