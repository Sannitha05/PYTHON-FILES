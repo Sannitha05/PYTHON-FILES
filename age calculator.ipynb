{
 "cells": [
  {
   "cell_type": "code",
   "execution_count": 2,
   "id": "67b2b58a",
   "metadata": {},
   "outputs": [
    {
     "name": "stdout",
     "output_type": "stream",
     "text": [
      "Enter your birthdate in YYYY-MM-DD format: 2003-08-03\n",
      "You are 20 years old.\n"
     ]
    }
   ],
   "source": [
    "from datetime import date\n",
    "\n",
    "def calculate_age(birth_date):\n",
    "    today = date.today()\n",
    "    age = today.year - birth_date.year - ((today.month, today.day) < (birth_date.month, birth_date.day))\n",
    "    return age\n",
    "\n",
    "def main():\n",
    "    birthdate_str = input(\"Enter your birthdate in YYYY-MM-DD format: \")\n",
    "    year, month, day = map(int, birthdate_str.split('-'))\n",
    "    birth_date = date(year, month, day)\n",
    "    \n",
    "    age = calculate_age(birth_date)\n",
    "    print(f\"You are {age} years old.\")\n",
    "\n",
    "if __name__ == \"__main__\":\n",
    "    main()"
   ]
  },
  {
   "cell_type": "code",
   "execution_count": 1,
   "id": "9b00c2c5",
   "metadata": {},
   "outputs": [
    {
     "name": "stdout",
     "output_type": "stream",
     "text": [
      "Enter your birthdate in YYYY-MM-DD format: 2005-01-13\n",
      "You are 19 years old.\n"
     ]
    }
   ],
   "source": [
    "from datetime import date\n",
    "\n",
    "def calculate_age(birth_date):\n",
    "    today = date.today()\n",
    "    age = today.year - birth_date.year - ((today.month, today.day) < (birth_date.month, birth_date.day))\n",
    "    return age\n",
    "\n",
    "def main():\n",
    "    birthdate_str = input(\"Enter your birthdate in YYYY-MM-DD format: \")\n",
    "    year, month, day = map(int, birthdate_str.split('-'))\n",
    "    birth_date = date(year, month, day)\n",
    "    \n",
    "    age = calculate_age(birth_date)\n",
    "    print(f\"You are {age} years old.\")\n",
    "\n",
    "if __name__ == \"__main__\":\n",
    "    main()"
   ]
  },
  {
   "cell_type": "code",
   "execution_count": 2,
   "id": "a2e3a743",
   "metadata": {},
   "outputs": [
    {
     "name": "stdout",
     "output_type": "stream",
     "text": [
      "Enter your birthdate in YYYY-MM-DD format: 2008-01-13\n",
      "You are 16 years old.\n"
     ]
    }
   ],
   "source": [
    "from datetime import date\n",
    "\n",
    "def calculate_age(birth_date):\n",
    "    today = date.today()\n",
    "    age = today.year - birth_date.year - ((today.month, today.day) < (birth_date.month, birth_date.day))\n",
    "    return age\n",
    "\n",
    "def main():\n",
    "    birthdate_str = input(\"Enter your birthdate in YYYY-MM-DD format: \")\n",
    "    year, month, day = map(int, birthdate_str.split('-'))\n",
    "    birth_date = date(year, month, day)\n",
    "    \n",
    "    age = calculate_age(birth_date)\n",
    "    print(f\"You are {age} years old.\")\n",
    "\n",
    "if __name__ == \"__main__\":\n",
    "    main()"
   ]
  },
  {
   "cell_type": "code",
   "execution_count": null,
   "id": "5bbfe2ca",
   "metadata": {},
   "outputs": [],
   "source": []
  }
 ],
 "metadata": {
  "kernelspec": {
   "display_name": "Python 3 (ipykernel)",
   "language": "python",
   "name": "python3"
  },
  "language_info": {
   "codemirror_mode": {
    "name": "ipython",
    "version": 3
   },
   "file_extension": ".py",
   "mimetype": "text/x-python",
   "name": "python",
   "nbconvert_exporter": "python",
   "pygments_lexer": "ipython3",
   "version": "3.11.5"
  }
 },
 "nbformat": 4,
 "nbformat_minor": 5
}
