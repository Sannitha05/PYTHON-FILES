{
 "cells": [
  {
   "cell_type": "code",
   "execution_count": 2,
   "id": "4f932e9c",
   "metadata": {},
   "outputs": [
    {
     "name": "stdout",
     "output_type": "stream",
     "text": [
      "1 2 2 3 3 4 4 \n",
      "4\n"
     ]
    }
   ],
   "source": [
    "def longestConsecutive(nums):\n",
    "    if not nums:\n",
    "        return 0\n",
    "\n",
    "    nums.sort()\n",
    "    longest = 1\n",
    "    count = 1\n",
    "\n",
    "    for i in range(1, len(nums)):\n",
    "        if nums[i] == nums[i - 1]:\n",
    "            continue  \n",
    "        elif nums[i] == nums[i - 1] + 1:\n",
    "            count += 1\n",
    "            longest = max(longest, count)\n",
    "        else:\n",
    "            count = 1  \n",
    "    return longest\n",
    "\n",
    "\n",
    "nums = list(map(int,input().split()))\n",
    "print(longestConsecutive(nums))"
   ]
  },
  {
   "cell_type": "code",
   "execution_count": 3,
   "id": "fb64002e",
   "metadata": {},
   "outputs": [
    {
     "name": "stdout",
     "output_type": "stream",
     "text": [
      "100 4 200 1 3 2\n",
      "4\n"
     ]
    }
   ],
   "source": [
    "def longestConsecutive(nums):\n",
    "    if not nums:\n",
    "        return 0\n",
    "\n",
    "    nums.sort()\n",
    "    longest = 1\n",
    "    count = 1\n",
    "\n",
    "    for i in range(1, len(nums)):\n",
    "        if nums[i] == nums[i - 1]:\n",
    "            continue  \n",
    "        elif nums[i] == nums[i - 1] + 1:\n",
    "            count += 1\n",
    "            longest = max(longest, count)\n",
    "        else:\n",
    "            count = 1  \n",
    "    return longest\n",
    "\n",
    "\n",
    "nums = list(map(int,input().split()))\n",
    "print(longestConsecutive(nums))"
   ]
  },
  {
   "cell_type": "code",
   "execution_count": 5,
   "id": "3c7341c8",
   "metadata": {},
   "outputs": [
    {
     "name": "stdout",
     "output_type": "stream",
     "text": [
      "Numbers400 2 100 1 3 4\n",
      "Length 4\n",
      "sequence: [1, 2, 3, 4]\n"
     ]
    }
   ],
   "source": [
    "def longestConsecutive(nums):\n",
    "    if not nums:\n",
    "        return 0\n",
    "\n",
    "    nums.sort()\n",
    "    longest = 1\n",
    "    count = 1\n",
    "    current_seq = [nums[0]]\n",
    "    longest_seq = [nums[0]]\n",
    "\n",
    "    for i in range(1, len(nums)):\n",
    "        if nums[i] == nums[i - 1]:\n",
    "            continue  \n",
    "        elif nums[i] == nums[i - 1] + 1:\n",
    "            count += 1\n",
    "            current_seq.append(nums[i])\n",
    "            if count > longest:\n",
    "                longest = count\n",
    "                longest_seq = current_seq[:]\n",
    "        else:\n",
    "            count = 1\n",
    "            current_seq = [nums[i]] \n",
    "\n",
    "    return longest, longest_seq\n",
    "\n",
    "nums = list(map(int, input(\"Numbers\").split()))\n",
    "length, sequence = longestConsecutive(nums)\n",
    "print(\"Length\", length)\n",
    "print(\"sequence:\", sequence)\n"
   ]
  },
  {
   "cell_type": "code",
   "execution_count": null,
   "id": "7adbf468",
   "metadata": {},
   "outputs": [],
   "source": []
  },
  {
   "cell_type": "code",
   "execution_count": null,
   "id": "0732d350",
   "metadata": {},
   "outputs": [],
   "source": []
  }
 ],
 "metadata": {
  "kernelspec": {
   "display_name": "Python 3 (ipykernel)",
   "language": "python",
   "name": "python3"
  },
  "language_info": {
   "codemirror_mode": {
    "name": "ipython",
    "version": 3
   },
   "file_extension": ".py",
   "mimetype": "text/x-python",
   "name": "python",
   "nbconvert_exporter": "python",
   "pygments_lexer": "ipython3",
   "version": "3.11.5"
  }
 },
 "nbformat": 4,
 "nbformat_minor": 5
}
