{
 "cells": [
  {
   "cell_type": "code",
   "execution_count": 4,
   "id": "44836377",
   "metadata": {},
   "outputs": [
    {
     "name": "stdout",
     "output_type": "stream",
     "text": [
      "Enter space-separated numbers: 2 13 67 4 234 8\n",
      "Concatenated list: [2, 13, 67, 4, 234, 8, 2, 13, 67, 4, 234, 8]\n"
     ]
    }
   ],
   "source": [
    "class Solution:\n",
    "    def getConcatenation(self, nums):\n",
    "        n = len(nums)\n",
    "        result = []\n",
    "\n",
    "        while len(result) < 2 * n:\n",
    "            for i in range(n):\n",
    "                result.append(nums[i])\n",
    "                if len(result) == 2 * n:\n",
    "                    break  \n",
    "        return result\n",
    "\n",
    "nums = list(map(int, input(\"Enter space-separated numbers: \").split()))\n",
    "sol = Solution()\n",
    "print(\"Concatenated list:\", sol.getConcatenation(nums))\n"
   ]
  },
  {
   "cell_type": "code",
   "execution_count": 2,
   "id": "99f6409d",
   "metadata": {},
   "outputs": [
    {
     "name": "stdout",
     "output_type": "stream",
     "text": [
      "Enter space-separated numbers: 12 3 42\n",
      "Concatenated list: [12, 3, 42, 12, 3, 42]\n"
     ]
    }
   ],
   "source": [
    "class Solution:\n",
    "    def getConcatenation(self, nums):\n",
    "        return nums + nums  \n",
    "    \n",
    "    \n",
    "nums = list(map(int, input(\"Enter space-separated numbers: \").split()))\n",
    "sol = Solution()\n",
    "print(\"Concatenated list:\", sol.getConcatenation(nums))\n"
   ]
  },
  {
   "cell_type": "code",
   "execution_count": 3,
   "id": "4fb194d8",
   "metadata": {},
   "outputs": [
    {
     "name": "stdout",
     "output_type": "stream",
     "text": [
      "Enter space-separated numbers: 2 3 321 23 1\n",
      "Concatenated list: [2, 3, 321, 23, 1, 2, 3, 321, 23, 1]\n"
     ]
    }
   ],
   "source": [
    "from typing import List\n",
    "\n",
    "class Solution:\n",
    "    def getConcatenation(self, nums: List[int]) -> List[int]:\n",
    "        return nums + nums  \n",
    "\n",
    "nums = list(map(int, input(\"Enter space-separated numbers: \").split()))\n",
    "sol = Solution()\n",
    "print(\"Concatenated list:\", sol.getConcatenation(nums))\n"
   ]
  },
  {
   "cell_type": "code",
   "execution_count": null,
   "id": "d9770bab",
   "metadata": {},
   "outputs": [],
   "source": []
  }
 ],
 "metadata": {
  "kernelspec": {
   "display_name": "Python 3 (ipykernel)",
   "language": "python",
   "name": "python3"
  },
  "language_info": {
   "codemirror_mode": {
    "name": "ipython",
    "version": 3
   },
   "file_extension": ".py",
   "mimetype": "text/x-python",
   "name": "python",
   "nbconvert_exporter": "python",
   "pygments_lexer": "ipython3",
   "version": "3.11.5"
  }
 },
 "nbformat": 4,
 "nbformat_minor": 5
}
