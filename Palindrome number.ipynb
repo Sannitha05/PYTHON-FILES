{
 "cells": [
  {
   "cell_type": "code",
   "execution_count": 1,
   "id": "35eb0886",
   "metadata": {},
   "outputs": [
    {
     "name": "stdout",
     "output_type": "stream",
     "text": [
      "Palindrome\n"
     ]
    }
   ],
   "source": [
    "num = 1221\n",
    "temp = num\n",
    "reverse = 0\n",
    "while temp > 0:\n",
    "    remainder = temp % 10\n",
    "    reverse = (reverse * 10) + remainder\n",
    "    temp = temp // 10\n",
    "if num == reverse:\n",
    "  print('Palindrome')\n",
    "else:\n",
    "  print(\"Not Palindrome\")"
   ]
  },
  {
   "cell_type": "code",
   "execution_count": 2,
   "id": "0cf3246d",
   "metadata": {},
   "outputs": [
    {
     "name": "stdout",
     "output_type": "stream",
     "text": [
      "Palindrome\n"
     ]
    }
   ],
   "source": [
    "def palindrome(arr, n):\n",
    "\n",
    "    flag = 0;\n",
    "    i = 0;\n",
    "    while (i <= n // 2 and n != 0):\n",
    "\n",
    "        if (arr[i] != arr[n - i - 1]):\n",
    "            flag = 1;\n",
    "            break;\n",
    "        i += 1;\n",
    "\n",
    "    if (flag == 1):\n",
    "        print(\"Not Palindrome\");\n",
    "    else:\n",
    "        print(\"Palindrome\");\n",
    "arr = [ 1, 2, 3, 2, 1 ];\n",
    "n = len(arr);\n",
    "\n",
    "palindrome(arr, n);\n"
   ]
  },
  {
   "cell_type": "code",
   "execution_count": 5,
   "id": "5c8dfc1b",
   "metadata": {},
   "outputs": [
    {
     "name": "stdout",
     "output_type": "stream",
     "text": [
      "Intersection of palindrome: [1, 2, 5]\n"
     ]
    }
   ],
   "source": [
    "nums1 = [1, 2, 2, 3, 4, 4, 5, 6]\n",
    "nums2 = [1, 2, 5, 7, 8]\n",
    "\n",
    "i, j = 0, 0\n",
    "nums1.sort()\n",
    "nums2.sort()\n",
    "temp_list = []\n",
    "\n",
    "while i < len(nums1) and j < len(nums2):\n",
    "    if nums1[i] < nums2[j]:\n",
    "        i += 1\n",
    "    elif nums1[i] > nums2[j]:\n",
    "        j += 1\n",
    "    else:\n",
    "        if nums1[i] not in temp_list:\n",
    "            temp_list.append(nums1[i])\n",
    "        i += 1\n",
    "        j += 1\n",
    "\n",
    "def is_palindrome(n):\n",
    "    return str(n) == str(n)[::-1]\n",
    "\n",
    "print(\"Intersection of palindrome:\", temp_list)"
   ]
  },
  {
   "cell_type": "code",
   "execution_count": null,
   "id": "093fb9ad",
   "metadata": {},
   "outputs": [],
   "source": []
  }
 ],
 "metadata": {
  "kernelspec": {
   "display_name": "Python 3 (ipykernel)",
   "language": "python",
   "name": "python3"
  },
  "language_info": {
   "codemirror_mode": {
    "name": "ipython",
    "version": 3
   },
   "file_extension": ".py",
   "mimetype": "text/x-python",
   "name": "python",
   "nbconvert_exporter": "python",
   "pygments_lexer": "ipython3",
   "version": "3.11.5"
  }
 },
 "nbformat": 4,
 "nbformat_minor": 5
}
