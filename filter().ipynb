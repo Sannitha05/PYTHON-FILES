{
 "cells": [
  {
   "cell_type": "code",
   "execution_count": 14,
   "id": "a36eb252",
   "metadata": {},
   "outputs": [
    {
     "name": "stdout",
     "output_type": "stream",
     "text": [
      "[1, 2, 3, 4, 5, 6, 7, 8, 9, 10]\n",
      "385\n"
     ]
    }
   ],
   "source": [
    "def squares(x):\n",
    "    return(x**2)\n",
    "    squares=[]\n",
    "squares=list(filter(squares,range(1,11)))\n",
    "print(squares)\n",
    "sum=0\n",
    "for i in squares:\n",
    "    sum+=i**2\n",
    "print(sum)"
   ]
  },
  {
   "cell_type": "code",
   "execution_count": 2,
   "id": "80c1427d",
   "metadata": {},
   "outputs": [
    {
     "name": "stdout",
     "output_type": "stream",
     "text": [
      "12\n",
      "[1, 2, 3, 4, 5, 6, 7, 8, 9, 10, 11]\n",
      "506\n"
     ]
    }
   ],
   "source": [
    "def squares(x):\n",
    "    return(x**2)\n",
    "    squares=[]\n",
    "n=int(input())\n",
    "squares=list(filter(squares,range(1,n)))\n",
    "print(squares)\n",
    "sum=0\n",
    "for i in squares:\n",
    "    sum+=i**2\n",
    "print(sum)"
   ]
  },
  {
   "cell_type": "code",
   "execution_count": 3,
   "id": "ad068c60",
   "metadata": {},
   "outputs": [
    {
     "name": "stdout",
     "output_type": "stream",
     "text": [
      "10\n",
      "[1, 2, 3, 4, 5, 6, 7, 8, 9, 10]\n",
      "385\n"
     ]
    }
   ],
   "source": [
    "def squares(x):\n",
    "    return(x**2)\n",
    "    squares=[]\n",
    "n=int(input())\n",
    "squares=list(filter(squares,range(1,n+1)))\n",
    "print(squares)\n",
    "sum=0\n",
    "for i in squares:\n",
    "    sum+=i**2\n",
    "print(sum)"
   ]
  },
  {
   "cell_type": "code",
   "execution_count": 4,
   "id": "26af22ec",
   "metadata": {},
   "outputs": [
    {
     "name": "stdout",
     "output_type": "stream",
     "text": [
      "15\n",
      "[1, 2, 3, 4, 5, 6, 7, 8, 9, 10, 11, 12, 13, 14, 15]\n",
      "1240\n"
     ]
    }
   ],
   "source": [
    "def squares(x):\n",
    "    return(x**2)\n",
    "    squares=[]\n",
    "n=int(input())\n",
    "squares=list(filter(squares,range(1,n+1)))\n",
    "print(squares)\n",
    "sum=0\n",
    "for i in squares:\n",
    "    sum+=i**2\n",
    "print(sum)"
   ]
  },
  {
   "cell_type": "code",
   "execution_count": null,
   "id": "e616d398",
   "metadata": {},
   "outputs": [],
   "source": []
  }
 ],
 "metadata": {
  "kernelspec": {
   "display_name": "Python 3 (ipykernel)",
   "language": "python",
   "name": "python3"
  },
  "language_info": {
   "codemirror_mode": {
    "name": "ipython",
    "version": 3
   },
   "file_extension": ".py",
   "mimetype": "text/x-python",
   "name": "python",
   "nbconvert_exporter": "python",
   "pygments_lexer": "ipython3",
   "version": "3.11.5"
  }
 },
 "nbformat": 4,
 "nbformat_minor": 5
}
