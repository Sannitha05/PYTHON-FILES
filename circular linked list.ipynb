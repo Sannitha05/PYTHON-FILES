{
 "cells": [
  {
   "cell_type": "code",
   "execution_count": 3,
   "id": "2bbd278d",
   "metadata": {},
   "outputs": [
    {
     "name": "stdout",
     "output_type": "stream",
     "text": [
      "Traversing Circular Linked List:\n",
      "1 -> 2 -> 3 -> 4 -> "
     ]
    }
   ],
   "source": [
    "# Python Program of Traversal of Circular Linked List\n",
    "class Node:\n",
    "    def __init__(self, data):\n",
    "        # Initialize a node with data and next pointer\n",
    "        self.data = data\n",
    "        self.next = None\n",
    "\n",
    "class CircularLinkedList:\n",
    "    def __init__(self):\n",
    "        # Initialize an empty circular linked list with head pointer pointing to None\n",
    "        self.head = None\n",
    "\n",
    "    def append(self, data):\n",
    "        # Append a new node with data to the end of the circular linked list\n",
    "        new_node = Node(data)\n",
    "        if not self.head:\n",
    "            # If the list is empty, make the new node point to itself\n",
    "            new_node.next = new_node\n",
    "            self.head = new_node\n",
    "        else:\n",
    "            current = self.head\n",
    "            while current.next != self.head:\n",
    "                # Traverse the list until the last node\n",
    "                current = current.next\n",
    "            # Make the last node point to the new node\n",
    "            current.next = new_node\n",
    "            # Make the new node point back to the head\n",
    "            new_node.next = self.head\n",
    "\n",
    "    def traverse(self):\n",
    "        # Traverse and display the elements of the circular linked list\n",
    "        if not self.head:\n",
    "            print(\"Circular Linked List is empty\")\n",
    "            return\n",
    "        current = self.head\n",
    "        while True:\n",
    "            print(current.data, end=\" -> \")\n",
    "            current = current.next\n",
    "            if current == self.head:\n",
    "                # Break the loop when we reach the head again\n",
    "                break\n",
    "\n",
    "# Driver Code\n",
    "circular_list = CircularLinkedList()\n",
    "circular_list.append(1)\n",
    "circular_list.append(2)\n",
    "circular_list.append(3)\n",
    "circular_list.append(4)\n",
    "\n",
    "print(\"Traversing Circular Linked List:\")\n",
    "circular_list.traverse()\n"
   ]
  },
  {
   "cell_type": "code",
   "execution_count": null,
   "id": "6730e9e6",
   "metadata": {},
   "outputs": [],
   "source": []
  }
 ],
 "metadata": {
  "kernelspec": {
   "display_name": "Python 3 (ipykernel)",
   "language": "python",
   "name": "python3"
  },
  "language_info": {
   "codemirror_mode": {
    "name": "ipython",
    "version": 3
   },
   "file_extension": ".py",
   "mimetype": "text/x-python",
   "name": "python",
   "nbconvert_exporter": "python",
   "pygments_lexer": "ipython3",
   "version": "3.11.5"
  }
 },
 "nbformat": 4,
 "nbformat_minor": 5
}
