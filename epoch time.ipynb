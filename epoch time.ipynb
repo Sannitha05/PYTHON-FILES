{
 "cells": [
  {
   "cell_type": "code",
   "execution_count": 1,
   "id": "55907e15-b7b8-4bba-a3c2-48e1f3753dbb",
   "metadata": {},
   "outputs": [
    {
     "name": "stdout",
     "output_type": "stream",
     "text": [
      "1718598564.2151067\n"
     ]
    }
   ],
   "source": [
    "import time\n",
    "epoch=time.time()\n",
    "print(epoch)"
   ]
  },
  {
   "cell_type": "code",
   "execution_count": 2,
   "id": "ad7cae32-25c2-485d-beb7-b8cfaca7ef6a",
   "metadata": {},
   "outputs": [
    {
     "name": "stdout",
     "output_type": "stream",
     "text": [
      "Mon Jun 17 09:59:24 2024\n"
     ]
    }
   ],
   "source": [
    "import time\n",
    "t=time.ctime(1718598564.2151067)\n",
    "print(t)"
   ]
  },
  {
   "cell_type": "code",
   "execution_count": 4,
   "id": "39e4f8ca-bf3d-4064-b3a0-73fc1e5b963c",
   "metadata": {},
   "outputs": [
    {
     "name": "stdout",
     "output_type": "stream",
     "text": [
      "Mon Jun 17 10:33:58 2024\n"
     ]
    }
   ],
   "source": [
    "import time\n",
    "t=time.ctime()\n",
    "print(t)"
   ]
  },
  {
   "cell_type": "code",
   "execution_count": 19,
   "id": "a5e20eba-28ac-4ba3-bd5f-8fdef468165a",
   "metadata": {},
   "outputs": [
    {
     "name": "stdout",
     "output_type": "stream",
     "text": [
      "2024-06-17 10:49:17.811986\n",
      "time now:{}/{}/{} (10, 49, 17)\n"
     ]
    }
   ],
   "source": [
    "from datetime import*\n",
    "now=datetime.now()\n",
    "print(now)\n",
    "#print('date now:{}/{}',format(now.day,now.month))\n",
    "print('time now:{}/{}/{}',(now.hour,now.minute,now.second))"
   ]
  },
  {
   "cell_type": "code",
   "execution_count": 20,
   "id": "86ece897-ec7a-4d7e-a4fb-442e5605738e",
   "metadata": {},
   "outputs": [
    {
     "name": "stdout",
     "output_type": "stream",
     "text": [
      "2024-06-17 10:50:33.041721\n",
      "time now:-/-/- (10, 50, 33)\n"
     ]
    }
   ],
   "source": [
    "from datetime import*\n",
    "now=datetime.now()\n",
    "print(now)\n",
    "print('time now:-/-/-',(now.hour,now.minute,now.second))"
   ]
  },
  {
   "cell_type": "code",
   "execution_count": 22,
   "id": "bbe37616-7cf0-4a27-9aa4-79da28407ce2",
   "metadata": {},
   "outputs": [
    {
     "name": "stdout",
     "output_type": "stream",
     "text": [
      "2024-06-17 10:56:23.340403\n",
      "current Time:{Hour:10,Minute:56,Second:23}\n"
     ]
    }
   ],
   "source": [
    "from datetime import*\n",
    "now=datetime.now()\n",
    "print(now)\n",
    "hour=now.hour\n",
    "minute=now.minute\n",
    "second=now.second\n",
    "print(f\"current Time:{{Hour:{hour},Minute:{minute},Second:{second}}}\")"
   ]
  },
  {
   "cell_type": "code",
   "execution_count": 30,
   "id": "a855427a-5661-426c-8b17-cada39ddda3e",
   "metadata": {},
   "outputs": [
    {
     "name": "stdout",
     "output_type": "stream",
     "text": [
      "2024-06-17 11:03:44.733645\n",
      "current date:{17-6-2024}\n",
      "current Time:{11:3:44}\n"
     ]
    }
   ],
   "source": [
    "from datetime import*\n",
    "now=datetime.now()\n",
    "print(now)\n",
    "today=date.today()\n",
    "day=today.day\n",
    "month=today.month\n",
    "year=today.year\n",
    "hour=now.hour\n",
    "minute=now.minute\n",
    "second=now.second\n",
    "print(f\"current date:{{{day}-{month}-{year}}}\")\n",
    "print(f\"current Time:{{{hour}:{minute}:{second}}}\")"
   ]
  },
  {
   "cell_type": "code",
   "execution_count": 31,
   "id": "6b17b679-26e4-4659-aad2-8b10d2b15c3b",
   "metadata": {},
   "outputs": [
    {
     "name": "stdout",
     "output_type": "stream",
     "text": [
      "2024-06-17 11:04:02.063294\n",
      "time now:11:4:2\n"
     ]
    }
   ],
   "source": [
    "from datetime import*\n",
    "now=datetime.now()\n",
    "print(now)\n",
    "print('time now:{}:{}:{}'.format(now.hour,now.minute,now.second))"
   ]
  },
  {
   "cell_type": "code",
   "execution_count": 32,
   "id": "5b155e6f-6423-4cde-8f65-38e8084aa857",
   "metadata": {},
   "outputs": [
    {
     "name": "stdout",
     "output_type": "stream",
     "text": [
      "2024-06-17 11:05:20.637746\n",
      "date now:17/6/2024\n",
      "time now:11:5:20\n"
     ]
    }
   ],
   "source": [
    "from datetime import*\n",
    "now=datetime.now()\n",
    "print(now)\n",
    "print('date now:{}/{}/{}'.format(now.day,now.month,now.year))\n",
    "print('time now:{}:{}:{}'.format(now.hour,now.minute,now.second))"
   ]
  },
  {
   "cell_type": "code",
   "execution_count": 3,
   "id": "10eecda9-91bb-4335-8787-2a94e61a47b6",
   "metadata": {},
   "outputs": [
    {
     "name": "stdout",
     "output_type": "stream",
     "text": [
      "2023-10-28 14:10:30\n",
      "2022-12-14 13:30:20\n"
     ]
    }
   ],
   "source": [
    "from datetime import*\n",
    "dt1=datetime(year=2023,month=10,day=28,hour=14,minute=10,second=30)\n",
    "print(dt1)\n",
    "dt2=dt1.replace(year=2022,month=12,day=14,hour=13,minute=30,second=20)\n",
    "print(dt2)"
   ]
  },
  {
   "cell_type": "code",
   "execution_count": null,
   "id": "f32aa0fa-f8ba-4a7d-83ea-7870a9a5c03d",
   "metadata": {},
   "outputs": [],
   "source": [
    "  "
   ]
  }
 ],
 "metadata": {
  "kernelspec": {
   "display_name": "Python 3 (ipykernel)",
   "language": "python",
   "name": "python3"
  },
  "language_info": {
   "codemirror_mode": {
    "name": "ipython",
    "version": 3
   },
   "file_extension": ".py",
   "mimetype": "text/x-python",
   "name": "python",
   "nbconvert_exporter": "python",
   "pygments_lexer": "ipython3",
   "version": "3.11.7"
  }
 },
 "nbformat": 4,
 "nbformat_minor": 5
}
