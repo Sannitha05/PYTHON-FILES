{
 "cells": [
  {
   "cell_type": "code",
   "execution_count": 8,
   "id": "835f819a",
   "metadata": {},
   "outputs": [
    {
     "name": "stdout",
     "output_type": "stream",
     "text": [
      "33\n"
     ]
    }
   ],
   "source": [
    "# brute force approach\n",
    "def max_sum_subarray(arr):\n",
    "    max_sum=float('-inf')\n",
    "    for i in range(len(arr)):\n",
    "        current_sum=0\n",
    "        for j in range(i,len(arr)):\n",
    "            current_sum+=arr[j]\n",
    "            max_sum=max(max_sum,current_sum)\n",
    "    return max_sum\n",
    "arr=[2,4,-5,23,5,-4,8]\n",
    "print(max_sum_subarray(arr))"
   ]
  },
  {
   "cell_type": "code",
   "execution_count": 45,
   "id": "ca875365",
   "metadata": {},
   "outputs": [
    {
     "name": "stdout",
     "output_type": "stream",
     "text": [
      "[3, 23, 47, 67, 78, 97, 123, 609]\n"
     ]
    }
   ],
   "source": [
    "# divide and conquer\n",
    "def merge_sort(arr):\n",
    "    if len(arr) > 1:\n",
    "        mid = len(arr)//2\n",
    "        left_half=arr[:mid]\n",
    "        right_half=arr[mid:]\n",
    "        merge_sort(left_half)\n",
    "        merge_sort(right_half)\n",
    "        i=j=k=0\n",
    "        while i < len(left_half) and j < len(right_half):\n",
    "            if left_half[i] < right_half[j]:\n",
    "                arr[k]=left_half[i]\n",
    "                i+=1\n",
    "            else:\n",
    "                arr[k]=right_half[j]\n",
    "                j+=1\n",
    "            k+=1\n",
    "        while i < len(left_half):\n",
    "            arr[k]=left_half[i]\n",
    "            i+=1\n",
    "            k+=1\n",
    "        while j < len(right_half):\n",
    "            arr[k]=right_half[j]\n",
    "            j+=1\n",
    "            k+=1\n",
    "    return arr\n",
    "\n",
    "arr=[67,23,97,3,609,123,47,78]\n",
    "print(merge_sort(arr))"
   ]
  },
  {
   "cell_type": "code",
   "execution_count": 60,
   "id": "8177ea5c",
   "metadata": {},
   "outputs": [
    {
     "name": "stdout",
     "output_type": "stream",
     "text": [
      "9\n"
     ]
    }
   ],
   "source": [
    "# sliding window\n",
    "def max_sum_subarray(arr,k):\n",
    "    if len(arr) < k:\n",
    "        return -1\n",
    "    max_sum=0\n",
    "    window_sum=sum(arr[:k])\n",
    "    max_sum=window_sum\n",
    "    for i in range(len(arr)-k):\n",
    "        window_sum = window_sum - arr[i] + arr[i+k]\n",
    "        max_sum=max(max_sum,window_sum)\n",
    "    return max_sum\n",
    "arr=[2,1,5,1,3,2]\n",
    "k=3\n",
    "print(max_sum_subarray(arr,k))"
   ]
  },
  {
   "cell_type": "code",
   "execution_count": 64,
   "id": "8ec6d05b",
   "metadata": {},
   "outputs": [
    {
     "name": "stdout",
     "output_type": "stream",
     "text": [
      "[1, 2]\n"
     ]
    }
   ],
   "source": [
    "# two pointers\n",
    "def two_sum_sorted(arr,target):\n",
    "    arr.sort()\n",
    "    left,right=0,len(arr)-1\n",
    "    while left < right:\n",
    "        current_sum = arr[left]+arr[right]\n",
    "        if current_sum == target:\n",
    "            return [left +1 , right +1]\n",
    "        elif current_sum < target:\n",
    "            left+=1\n",
    "        else:\n",
    "            right-=1\n",
    "    return[]\n",
    "arr=[2,7,11,15,21,34]\n",
    "target=9\n",
    "print(two_sum_sorted(arr,target))"
   ]
  },
  {
   "cell_type": "code",
   "execution_count": 59,
   "id": "b59510a2",
   "metadata": {},
   "outputs": [
    {
     "name": "stdout",
     "output_type": "stream",
     "text": [
      "the number you have searched is at location = 3\n"
     ]
    }
   ],
   "source": [
    "# binary search\n",
    "def binary_search(arr,target):\n",
    "    left,right=0,len(arr)-1\n",
    "    while left <= right:\n",
    "        mid = left + (right - left)//2\n",
    "        if arr[mid]==target:\n",
    "            return mid\n",
    "        elif arr[mid] < target:\n",
    "            left = mid+1\n",
    "        else:\n",
    "            right = mid -1\n",
    "    return -1\n",
    "arr = [2,3,4,10,40]\n",
    "target=10\n",
    "print(\"the number you have searched is at location =\",binary_search(arr,target))"
   ]
  },
  {
   "cell_type": "code",
   "execution_count": null,
   "id": "8caf46ce",
   "metadata": {},
   "outputs": [],
   "source": [
    "tgg"
   ]
  }
 ],
 "metadata": {
  "kernelspec": {
   "display_name": "Python 3 (ipykernel)",
   "language": "python",
   "name": "python3"
  },
  "language_info": {
   "codemirror_mode": {
    "name": "ipython",
    "version": 3
   },
   "file_extension": ".py",
   "mimetype": "text/x-python",
   "name": "python",
   "nbconvert_exporter": "python",
   "pygments_lexer": "ipython3",
   "version": "3.11.5"
  }
 },
 "nbformat": 4,
 "nbformat_minor": 5
}
