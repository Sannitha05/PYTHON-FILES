{
 "cells": [
  {
   "cell_type": "code",
   "execution_count": 2,
   "id": "8846485a-eba4-48d2-b785-66a83f9bca47",
   "metadata": {},
   "outputs": [
    {
     "name": "stdout",
     "output_type": "stream",
     "text": [
      "output 48\n"
     ]
    }
   ],
   "source": [
    "output=lambda x,y,z:x+y*z\n",
    "print(\"output\",output(12,4,9))"
   ]
  },
  {
   "cell_type": "code",
   "execution_count": 8,
   "id": "3ae1b4e3-4559-4584-aed9-9db40dca70be",
   "metadata": {},
   "outputs": [
    {
     "name": "stdout",
     "output_type": "stream",
     "text": [
      "8\n"
     ]
    }
   ],
   "source": [
    "def func(f,n):\n",
    "    print(f(n))\n",
    "twice=lambda a:a*2\n",
    "func(twice,4)"
   ]
  },
  {
   "cell_type": "code",
   "execution_count": 9,
   "id": "4b7f7352-a970-46d8-b572-cdebb53a9510",
   "metadata": {},
   "outputs": [
    {
     "name": "stdout",
     "output_type": "stream",
     "text": [
      "10\n"
     ]
    }
   ],
   "source": [
    "def func(f,n):\n",
    "    print(f(n))\n",
    "twice=lambda a:a+6\n",
    "func(twice,4)"
   ]
  },
  {
   "cell_type": "code",
   "execution_count": 10,
   "id": "bc0747d5-da35-496e-b9ea-311b73f296f4",
   "metadata": {},
   "outputs": [
    {
     "name": "stdout",
     "output_type": "stream",
     "text": [
      "15\n"
     ]
    }
   ],
   "source": [
    "def func(f,n):\n",
    "    print(f(n))\n",
    "thrice=lambda a:a*3\n",
    "func(thrice,5)"
   ]
  },
  {
   "cell_type": "code",
   "execution_count": 14,
   "id": "ed8f74ae-0ae9-4c86-8567-dfeb3ca97df4",
   "metadata": {},
   "outputs": [
    {
     "name": "stdout",
     "output_type": "stream",
     "text": [
      "output 48\n"
     ]
    }
   ],
   "source": [
    "product=lambda x,y:x*y\n",
    "print(\"output\",product(12,4))"
   ]
  },
  {
   "cell_type": "code",
   "execution_count": 15,
   "id": "9c4afbfb-0ca1-4351-b078-f2757ea60756",
   "metadata": {},
   "outputs": [
    {
     "name": "stdout",
     "output_type": "stream",
     "text": [
      "output 16\n"
     ]
    }
   ],
   "source": [
    "summate=lambda x,y:x+y\n",
    "print(\"output\",summate(12,4))"
   ]
  },
  {
   "cell_type": "code",
   "execution_count": 17,
   "id": "f097c1a8-0af1-4087-a829-a30efcdcf529",
   "metadata": {},
   "outputs": [
    {
     "name": "stdout",
     "output_type": "stream",
     "text": [
      "12\n"
     ]
    }
   ],
   "source": [
    "def func(f,n):\n",
    "    print(f(n))\n",
    "twice=lambda a:a*2\n",
    "thrice=lambda a:a*3\n",
    "func(thrice,4)"
   ]
  },
  {
   "cell_type": "code",
   "execution_count": 33,
   "id": "a2e718a1-6513-45f4-a3f7-72b017836f42",
   "metadata": {},
   "outputs": [
    {
     "name": "stdout",
     "output_type": "stream",
     "text": [
      "sannitha telliboina\n"
     ]
    }
   ],
   "source": [
    "def name(firstname,lastname):\n",
    "    sep=' '\n",
    "    n=firstname+sep+lastname\n",
    "    return n\n",
    "print(name('sannitha','telliboina'))"
   ]
  },
  {
   "cell_type": "code",
   "execution_count": 34,
   "id": "98b4f21f-aa4f-46ab-8411-c19969d7dca9",
   "metadata": {},
   "outputs": [
    {
     "name": "stdin",
     "output_type": "stream",
     "text": [
      " sannitha\n",
      " telliboina\n"
     ]
    },
    {
     "name": "stdout",
     "output_type": "stream",
     "text": [
      "sannitha telliboina\n"
     ]
    }
   ],
   "source": [
    "def name(firstname,lastname):\n",
    "    sep=' '\n",
    "    firstname=str(input())\n",
    "    lastname=str(input())\n",
    "    n=firstname+sep+lastname\n",
    "    return n\n",
    "print(name(firstname,lastname))"
   ]
  },
  {
   "cell_type": "code",
   "execution_count": 36,
   "id": "80452e45-fd59-487a-afa0-f26631c63865",
   "metadata": {},
   "outputs": [
    {
     "data": {
      "text/plain": [
       "['ArithmeticError',\n",
       " 'AssertionError',\n",
       " 'AttributeError',\n",
       " 'BaseException',\n",
       " 'BaseExceptionGroup',\n",
       " 'BlockingIOError',\n",
       " 'BrokenPipeError',\n",
       " 'BufferError',\n",
       " 'BytesWarning',\n",
       " 'ChildProcessError',\n",
       " 'ConnectionAbortedError',\n",
       " 'ConnectionError',\n",
       " 'ConnectionRefusedError',\n",
       " 'ConnectionResetError',\n",
       " 'DeprecationWarning',\n",
       " 'EOFError',\n",
       " 'Ellipsis',\n",
       " 'EncodingWarning',\n",
       " 'EnvironmentError',\n",
       " 'Exception',\n",
       " 'ExceptionGroup',\n",
       " 'False',\n",
       " 'FileExistsError',\n",
       " 'FileNotFoundError',\n",
       " 'FloatingPointError',\n",
       " 'FutureWarning',\n",
       " 'GeneratorExit',\n",
       " 'IOError',\n",
       " 'ImportError',\n",
       " 'ImportWarning',\n",
       " 'IndentationError',\n",
       " 'IndexError',\n",
       " 'InterruptedError',\n",
       " 'IsADirectoryError',\n",
       " 'KeyError',\n",
       " 'KeyboardInterrupt',\n",
       " 'LookupError',\n",
       " 'MemoryError',\n",
       " 'ModuleNotFoundError',\n",
       " 'NameError',\n",
       " 'None',\n",
       " 'NotADirectoryError',\n",
       " 'NotImplemented',\n",
       " 'NotImplementedError',\n",
       " 'OSError',\n",
       " 'OverflowError',\n",
       " 'PendingDeprecationWarning',\n",
       " 'PermissionError',\n",
       " 'ProcessLookupError',\n",
       " 'RecursionError',\n",
       " 'ReferenceError',\n",
       " 'ResourceWarning',\n",
       " 'RuntimeError',\n",
       " 'RuntimeWarning',\n",
       " 'StopAsyncIteration',\n",
       " 'StopIteration',\n",
       " 'SyntaxError',\n",
       " 'SyntaxWarning',\n",
       " 'SystemError',\n",
       " 'SystemExit',\n",
       " 'TabError',\n",
       " 'TimeoutError',\n",
       " 'True',\n",
       " 'TypeError',\n",
       " 'UnboundLocalError',\n",
       " 'UnicodeDecodeError',\n",
       " 'UnicodeEncodeError',\n",
       " 'UnicodeError',\n",
       " 'UnicodeTranslateError',\n",
       " 'UnicodeWarning',\n",
       " 'UserWarning',\n",
       " 'ValueError',\n",
       " 'Warning',\n",
       " 'WindowsError',\n",
       " 'ZeroDivisionError',\n",
       " '__IPYTHON__',\n",
       " '__build_class__',\n",
       " '__debug__',\n",
       " '__doc__',\n",
       " '__import__',\n",
       " '__loader__',\n",
       " '__name__',\n",
       " '__package__',\n",
       " '__spec__',\n",
       " 'abs',\n",
       " 'aiter',\n",
       " 'all',\n",
       " 'anext',\n",
       " 'any',\n",
       " 'ascii',\n",
       " 'bin',\n",
       " 'bool',\n",
       " 'breakpoint',\n",
       " 'bytearray',\n",
       " 'bytes',\n",
       " 'callable',\n",
       " 'chr',\n",
       " 'classmethod',\n",
       " 'compile',\n",
       " 'complex',\n",
       " 'copyright',\n",
       " 'credits',\n",
       " 'delattr',\n",
       " 'dict',\n",
       " 'dir',\n",
       " 'display',\n",
       " 'divmod',\n",
       " 'enumerate',\n",
       " 'eval',\n",
       " 'exec',\n",
       " 'execfile',\n",
       " 'filter',\n",
       " 'float',\n",
       " 'format',\n",
       " 'frozenset',\n",
       " 'get_ipython',\n",
       " 'getattr',\n",
       " 'globals',\n",
       " 'hasattr',\n",
       " 'hash',\n",
       " 'help',\n",
       " 'hex',\n",
       " 'id',\n",
       " 'input',\n",
       " 'int',\n",
       " 'isinstance',\n",
       " 'issubclass',\n",
       " 'iter',\n",
       " 'len',\n",
       " 'license',\n",
       " 'list',\n",
       " 'locals',\n",
       " 'map',\n",
       " 'max',\n",
       " 'memoryview',\n",
       " 'min',\n",
       " 'next',\n",
       " 'object',\n",
       " 'oct',\n",
       " 'open',\n",
       " 'ord',\n",
       " 'pow',\n",
       " 'print',\n",
       " 'property',\n",
       " 'range',\n",
       " 'repr',\n",
       " 'reversed',\n",
       " 'round',\n",
       " 'runfile',\n",
       " 'set',\n",
       " 'setattr',\n",
       " 'slice',\n",
       " 'sorted',\n",
       " 'staticmethod',\n",
       " 'str',\n",
       " 'sum',\n",
       " 'super',\n",
       " 'tuple',\n",
       " 'type',\n",
       " 'vars',\n",
       " 'zip']"
      ]
     },
     "execution_count": 36,
     "metadata": {},
     "output_type": "execute_result"
    }
   ],
   "source": [
    "import builtins\n",
    "(dir(builtins))"
   ]
  },
  {
   "cell_type": "code",
   "execution_count": 39,
   "id": "3ac3f3d0-15dd-4397-a37c-ebc7e1b48303",
   "metadata": {},
   "outputs": [
    {
     "name": "stdout",
     "output_type": "stream",
     "text": [
      "491\n",
      "411\n",
      "77\n",
      "390\n",
      "242\n",
      "806\n",
      "252\n",
      "774\n",
      "729\n",
      "461\n"
     ]
    }
   ],
   "source": [
    "import random\n",
    "#import randint from random\n",
    "for i in range(10):\n",
    "    value=random.randint(1,1000)\n",
    "    print(value)"
   ]
  },
  {
   "cell_type": "code",
   "execution_count": 41,
   "id": "6ebcd7a9-f290-4f7b-874f-b05bd36f3989",
   "metadata": {},
   "outputs": [
    {
     "name": "stdout",
     "output_type": "stream",
     "text": [
      "Mon Jun 10 11:43:36 2024\n"
     ]
    }
   ],
   "source": [
    "import time\n",
    "localtime=time.asctime(time.localtime(time.time()))\n",
    "print(localtime)\n",
    "                "
   ]
  },
  {
   "cell_type": "code",
   "execution_count": null,
   "id": "635d053b-adec-42cc-8423-04d68e5a79dd",
   "metadata": {},
   "outputs": [],
   "source": []
  }
 ],
 "metadata": {
  "kernelspec": {
   "display_name": "Python 3 (ipykernel)",
   "language": "python",
   "name": "python3"
  },
  "language_info": {
   "codemirror_mode": {
    "name": "ipython",
    "version": 3
   },
   "file_extension": ".py",
   "mimetype": "text/x-python",
   "name": "python",
   "nbconvert_exporter": "python",
   "pygments_lexer": "ipython3",
   "version": "3.11.7"
  }
 },
 "nbformat": 4,
 "nbformat_minor": 5
}
