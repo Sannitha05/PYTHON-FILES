{
 "cells": [
  {
   "cell_type": "code",
   "execution_count": 5,
   "id": "c9cb95ee",
   "metadata": {},
   "outputs": [
    {
     "name": "stdout",
     "output_type": "stream",
     "text": [
      "6 \n",
      "23 2 4 6 7\n",
      "True\n"
     ]
    }
   ],
   "source": [
    "#bruteforce\n",
    "def checkSubarraySum(nums,k):\n",
    "    n = len(nums)\n",
    "    for i in range(n):\n",
    "        curr_sum = 0\n",
    "        for j in range(i, n):\n",
    "            curr_sum += nums[j]\n",
    "            if j - i + 1 >= 2:\n",
    "                if k == 0:\n",
    "                    if curr_sum == 0:\n",
    "                        return True\n",
    "                else:\n",
    "                    if curr_sum % k == 0:\n",
    "                        return True\n",
    "\n",
    "    return False\n",
    "k = int(input())\n",
    "nums = list(map(int,input().split()))\n",
    "print(checkSubarraySum(nums,k))"
   ]
  },
  {
   "cell_type": "code",
   "execution_count": 7,
   "id": "2a5071d2",
   "metadata": {},
   "outputs": [
    {
     "name": "stdout",
     "output_type": "stream",
     "text": [
      "13\n",
      "23 2 6 4 7\n",
      "False\n"
     ]
    }
   ],
   "source": [
    "#bruteforce\n",
    "def checkSubarraySum(nums,k):\n",
    "    n = len(nums)\n",
    "    for i in range(n):\n",
    "        curr_sum = 0\n",
    "        for j in range(i, n):\n",
    "            curr_sum += nums[j]\n",
    "            if j - i + 1 >= 2:\n",
    "                if k == 0:\n",
    "                    if curr_sum == 0:\n",
    "                        return True\n",
    "                else:\n",
    "                    if curr_sum % k == 0:\n",
    "                        return True\n",
    "\n",
    "    return False\n",
    "k = int(input())\n",
    "nums = list(map(int,input().split()))\n",
    "print(checkSubarraySum(nums,k))"
   ]
  },
  {
   "cell_type": "code",
   "execution_count": 9,
   "id": "bb2d158a",
   "metadata": {},
   "outputs": [
    {
     "name": "stdout",
     "output_type": "stream",
     "text": [
      "13\n",
      "23 2 6 4 7\n",
      "False\n"
     ]
    }
   ],
   "source": [
    "#hashmap\n",
    "def checkSubarraySum(nums,k):\n",
    "    first_occur = {0: -1}\n",
    "    total = 0\n",
    "    for i, n in enumerate(nums):\n",
    "        total += n\n",
    "        total %= k\n",
    "        if total in first_occur:\n",
    "            if i - first_occur[total] > 1:\n",
    "                return True\n",
    "        else:\n",
    "            first_occur[total] = i\n",
    "    return False\n",
    "\n",
    "k = int(input())\n",
    "nums = list(map(int,input().split()))\n",
    "print(checkSubarraySum(nums,k))"
   ]
  },
  {
   "cell_type": "code",
   "execution_count": 10,
   "id": "b6923e15",
   "metadata": {},
   "outputs": [
    {
     "name": "stdout",
     "output_type": "stream",
     "text": [
      "6\n",
      "23 2 4 6 7\n",
      "True\n"
     ]
    }
   ],
   "source": [
    "#hashmap\n",
    "def checkSubarraySum(nums,k):\n",
    "    first_occur = {0: -1}\n",
    "    total = 0\n",
    "    for i, n in enumerate(nums):\n",
    "        total += n\n",
    "        total %= k\n",
    "        if total in first_occur:\n",
    "            if i - first_occur[total] > 1:\n",
    "                return True\n",
    "        else:\n",
    "            first_occur[total] = i\n",
    "    return False\n",
    "\n",
    "k = int(input())\n",
    "nums = list(map(int,input().split()))\n",
    "print(checkSubarraySum(nums,k))"
   ]
  },
  {
   "cell_type": "code",
   "execution_count": null,
   "id": "a0b90698",
   "metadata": {},
   "outputs": [],
   "source": []
  }
 ],
 "metadata": {
  "kernelspec": {
   "display_name": "Python 3 (ipykernel)",
   "language": "python",
   "name": "python3"
  },
  "language_info": {
   "codemirror_mode": {
    "name": "ipython",
    "version": 3
   },
   "file_extension": ".py",
   "mimetype": "text/x-python",
   "name": "python",
   "nbconvert_exporter": "python",
   "pygments_lexer": "ipython3",
   "version": "3.11.5"
  }
 },
 "nbformat": 4,
 "nbformat_minor": 5
}
