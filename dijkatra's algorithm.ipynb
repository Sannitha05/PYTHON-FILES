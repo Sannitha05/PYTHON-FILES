{
 "cells": [
  {
   "cell_type": "code",
   "execution_count": 1,
   "id": "f979fb3c",
   "metadata": {},
   "outputs": [
    {
     "name": "stdout",
     "output_type": "stream",
     "text": [
      "[11, 0, 17, 20, 4, 7]\n"
     ]
    }
   ],
   "source": [
    "# Python implementation of Dijkstra Algorithm\n",
    "\n",
    "import heapq\n",
    "\n",
    "class Node:\n",
    "    def __init__(self, v, distance):\n",
    "        self.v = v\n",
    "        self.distance = distance\n",
    "\n",
    "    def __lt__(self, other):\n",
    "        return self.distance < other.distance\n",
    "\n",
    "def dijkstra(V, adj, S):\n",
    "    visited = [False] * V\n",
    "    map = {}\n",
    "    q = []\n",
    "\n",
    "    map[S] = Node(S, 0)\n",
    "    heapq.heappush(q, Node(S, 0))\n",
    "\n",
    "    while q:\n",
    "        n = heapq.heappop(q)\n",
    "        v = n.v\n",
    "        distance = n.distance\n",
    "        visited[v] = True\n",
    "\n",
    "        adjList = adj[v]\n",
    "        for adjLink in adjList:\n",
    "            if not visited[adjLink[0]]:\n",
    "                if adjLink[0] not in map:\n",
    "                    map[adjLink[0]] = Node(v, distance + adjLink[1])\n",
    "                else:\n",
    "                    sn = map[adjLink[0]]\n",
    "                    if distance + adjLink[1] < sn.distance:\n",
    "                        sn.v = v\n",
    "                        sn.distance = distance + adjLink[1]\n",
    "                heapq.heappush(q, Node(adjLink[0], distance + adjLink[1]))\n",
    "\n",
    "    result = [0] * V\n",
    "    for i in range(V):\n",
    "        result[i] = map[i].distance\n",
    "\n",
    "    return result\n",
    "\n",
    "def main():\n",
    "    adj = [[] for _ in range(6)]\n",
    "\n",
    "    V = 6\n",
    "    E = 5\n",
    "    u = [0, 0, 1, 2, 4]\n",
    "    v = [3, 5, 4, 5, 5]\n",
    "    w = [9, 4, 4, 10, 3]\n",
    "\n",
    "    for i in range(E):\n",
    "        edge = [v[i], w[i]]\n",
    "        adj[u[i]].append(edge)\n",
    "\n",
    "        edge2 = [u[i], w[i]]\n",
    "        adj[v[i]].append(edge2)\n",
    "\n",
    "    S = 1\n",
    "\n",
    "    result = dijkstra(V, adj, S)\n",
    "    print(result)\n",
    "\n",
    "if __name__ == \"__main__\":\n",
    "    main()\n",
    "\n"
   ]
  },
  {
   "cell_type": "code",
   "execution_count": null,
   "id": "e3cc413b",
   "metadata": {},
   "outputs": [],
   "source": []
  }
 ],
 "metadata": {
  "kernelspec": {
   "display_name": "Python 3 (ipykernel)",
   "language": "python",
   "name": "python3"
  },
  "language_info": {
   "codemirror_mode": {
    "name": "ipython",
    "version": 3
   },
   "file_extension": ".py",
   "mimetype": "text/x-python",
   "name": "python",
   "nbconvert_exporter": "python",
   "pygments_lexer": "ipython3",
   "version": "3.11.5"
  }
 },
 "nbformat": 4,
 "nbformat_minor": 5
}
