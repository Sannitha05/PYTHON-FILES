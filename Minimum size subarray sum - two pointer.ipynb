{
 "cells": [
  {
   "cell_type": "code",
   "execution_count": 1,
   "id": "dc7bb5bd",
   "metadata": {},
   "outputs": [
    {
     "name": "stdout",
     "output_type": "stream",
     "text": [
      "7\n",
      "2 3 1 2 4 3\n",
      "2\n"
     ]
    }
   ],
   "source": [
    "#TWO POINTER / SLIDING WINDOW\n",
    "def minSubArrayLen(target, nums):\n",
    "    left = 0\n",
    "    total = 0\n",
    "    min_len = len(nums) + 1  \n",
    "\n",
    "    for right in range(len(nums)):\n",
    "        total += nums[right]\n",
    "        while total >= target:\n",
    "            min_len = min(min_len, right - left + 1)\n",
    "            total -= nums[left]\n",
    "            left += 1\n",
    "\n",
    "    return min_len if min_len <= len(nums) else 0\n",
    "\n",
    "target = int(input())\n",
    "nums = list(map(int,input().split()))\n",
    "print(minSubArrayLen(target,nums))"
   ]
  },
  {
   "cell_type": "code",
   "execution_count": 3,
   "id": "f1fd1f36",
   "metadata": {},
   "outputs": [
    {
     "name": "stdout",
     "output_type": "stream",
     "text": [
      "7 \n",
      "2 3 1 2 4 3\n",
      "2\n"
     ]
    }
   ],
   "source": [
    "#BRUTE FORCE\n",
    "def minSubArrayLen(target, nums):\n",
    "    n = len(nums)\n",
    "    min_len = n + 1\n",
    "\n",
    "    for i in range(n):\n",
    "        total = 0\n",
    "        for j in range(i, n):\n",
    "            total += nums[j]\n",
    "            if total >= target:\n",
    "                min_len = min(min_len, j - i + 1)\n",
    "                break  \n",
    "\n",
    "    return min_len if min_len <= n else 0\n",
    "\n",
    "target = int(input())\n",
    "nums = list(map(int, input().split()))\n",
    "\n",
    "print(minSubArrayLen(target, nums))\n"
   ]
  },
  {
   "cell_type": "code",
   "execution_count": null,
   "id": "6ffc8ddf",
   "metadata": {},
   "outputs": [],
   "source": []
  }
 ],
 "metadata": {
  "kernelspec": {
   "display_name": "Python 3 (ipykernel)",
   "language": "python",
   "name": "python3"
  },
  "language_info": {
   "codemirror_mode": {
    "name": "ipython",
    "version": 3
   },
   "file_extension": ".py",
   "mimetype": "text/x-python",
   "name": "python",
   "nbconvert_exporter": "python",
   "pygments_lexer": "ipython3",
   "version": "3.11.5"
  }
 },
 "nbformat": 4,
 "nbformat_minor": 5
}
