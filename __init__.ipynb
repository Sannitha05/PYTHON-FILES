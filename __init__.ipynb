{
 "cells": [
  {
   "cell_type": "code",
   "execution_count": 1,
   "id": "e72a4dc7",
   "metadata": {},
   "outputs": [
    {
     "name": "stdout",
     "output_type": "stream",
     "text": [
      "Crab belongs to the Crustaceans group.\n"
     ]
    }
   ],
   "source": [
    "class Details:\n",
    "    def __init__(self, animal, group):\n",
    "        self.animal = animal\n",
    "        self.group = group\n",
    "\n",
    "obj1 = Details(\"Crab\", \"Crustaceans\")\n",
    "print(obj1.animal, \"belongs to the\", obj1.group, \"group.\")"
   ]
  },
  {
   "cell_type": "code",
   "execution_count": 5,
   "id": "45314cfc",
   "metadata": {},
   "outputs": [
    {
     "name": "stdout",
     "output_type": "stream",
     "text": [
      "dog belongs to sannitha\n"
     ]
    }
   ],
   "source": [
    "class Details:\n",
    "    def __init__(self, animal, group):\n",
    "        self.animal = animal\n",
    "        self.group = group\n",
    "\n",
    "obj1 = Details(\"dog\", \"sannitha\")\n",
    "obj1.animal = \"dog\"  \n",
    "print(obj1.animal, \"belongs to\", obj1.group)"
   ]
  },
  {
   "cell_type": "code",
   "execution_count": 2,
   "id": "29e8c575",
   "metadata": {},
   "outputs": [
    {
     "name": "stdout",
     "output_type": "stream",
     "text": [
      "simbu belongs to sannitha\n"
     ]
    }
   ],
   "source": [
    "class Details:\n",
    "    def __init__(self, animal, group):\n",
    "        self.animal = animal\n",
    "        self.group = group\n",
    "\n",
    "obj1 = Details(\"simbu\", \"sannitha\")\n",
    "obj1.animal = \"simbu\"  \n",
    "print(obj1.animal, \"belongs to\", obj1.group)"
   ]
  },
  {
   "cell_type": "code",
   "execution_count": null,
   "id": "f6439975",
   "metadata": {},
   "outputs": [],
   "source": []
  }
 ],
 "metadata": {
  "kernelspec": {
   "display_name": "Python 3 (ipykernel)",
   "language": "python",
   "name": "python3"
  },
  "language_info": {
   "codemirror_mode": {
    "name": "ipython",
    "version": 3
   },
   "file_extension": ".py",
   "mimetype": "text/x-python",
   "name": "python",
   "nbconvert_exporter": "python",
   "pygments_lexer": "ipython3",
   "version": "3.11.5"
  }
 },
 "nbformat": 4,
 "nbformat_minor": 5
}
