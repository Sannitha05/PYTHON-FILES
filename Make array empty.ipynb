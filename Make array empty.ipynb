{
 "cells": [
  {
   "cell_type": "code",
   "execution_count": 6,
   "id": "73a8051c",
   "metadata": {},
   "outputs": [
    {
     "name": "stdout",
     "output_type": "stream",
     "text": [
      "2 3 -1\n"
     ]
    },
    {
     "ename": "NameError",
     "evalue": "name 'countOperationsToEmptyArray' is not defined",
     "output_type": "error",
     "traceback": [
      "\u001b[1;31m---------------------------------------------------------------------------\u001b[0m",
      "\u001b[1;31mNameError\u001b[0m                                 Traceback (most recent call last)",
      "Cell \u001b[1;32mIn[6], line 13\u001b[0m\n\u001b[0;32m     10\u001b[0m         \u001b[38;5;28;01mreturn\u001b[39;00m ans\n\u001b[0;32m     12\u001b[0m nums \u001b[38;5;241m=\u001b[39m \u001b[38;5;28mlist\u001b[39m(\u001b[38;5;28mmap\u001b[39m(\u001b[38;5;28mint\u001b[39m,\u001b[38;5;28minput\u001b[39m()\u001b[38;5;241m.\u001b[39msplit()))\n\u001b[1;32m---> 13\u001b[0m \u001b[38;5;28mprint\u001b[39m(countOperationsToEmptyArray(nums))\n",
      "\u001b[1;31mNameError\u001b[0m: name 'countOperationsToEmptyArray' is not defined"
     ]
    }
   ],
   "source": [
    "from typing import List\n",
    "class Solution:\n",
    "    def countOperationsToEmptyArray(self, nums: List[int]) -> int:\n",
    "        n = len(nums)\n",
    "        map = {nums[i]: i for i in range(n)}\n",
    "        nums.sort()\n",
    "        ans = 1\n",
    "        for i in range(n - 2, -1, -1):\n",
    "            ans += (map[nums[i]] > map[nums[i+1]]) * (n - i) + (map[nums[i]] <= map[nums[i+1]])\n",
    "        return ans\n",
    "    \n",
    "nums = list(map(int,input().split()))\n",
    "print(countOperationsToEmptyArray(nums))"
   ]
  },
  {
   "cell_type": "code",
   "execution_count": null,
   "id": "aa82ad5e",
   "metadata": {},
   "outputs": [],
   "source": []
  }
 ],
 "metadata": {
  "kernelspec": {
   "display_name": "Python 3 (ipykernel)",
   "language": "python",
   "name": "python3"
  },
  "language_info": {
   "codemirror_mode": {
    "name": "ipython",
    "version": 3
   },
   "file_extension": ".py",
   "mimetype": "text/x-python",
   "name": "python",
   "nbconvert_exporter": "python",
   "pygments_lexer": "ipython3",
   "version": "3.11.5"
  }
 },
 "nbformat": 4,
 "nbformat_minor": 5
}
