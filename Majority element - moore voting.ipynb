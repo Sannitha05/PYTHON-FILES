{
 "cells": [
  {
   "cell_type": "code",
   "execution_count": 1,
   "id": "463339fd",
   "metadata": {},
   "outputs": [
    {
     "name": "stdout",
     "output_type": "stream",
     "text": [
      " The majority element is : 1\n"
     ]
    }
   ],
   "source": [
    "#OPTIMISED APPROACH\n",
    "\n",
    "def findMajority(arr, n):\n",
    "    candidate = -1\n",
    "    votes = 0\n",
    "    \n",
    "    for i in range (n):\n",
    "        if (votes == 0):\n",
    "            candidate = arr[i]\n",
    "            votes = 1\n",
    "        else:\n",
    "            if (arr[i] == candidate):\n",
    "                votes += 1\n",
    "            else:\n",
    "                votes -= 1\n",
    "    count = 0\n",
    "    \n",
    "    for i in range (n):\n",
    "        if (arr[i] == candidate):\n",
    "            count += 1\n",
    "            \n",
    "    if (count > n // 2):\n",
    "        return candidate\n",
    "    else:\n",
    "        return -1\n",
    "\n",
    "\n",
    "arr = [ 1, 1, 1, 1, 2, 3, 4 ]\n",
    "n = len(arr)\n",
    "majority = findMajority(arr, n)\n",
    "print(\" The majority element is :\" ,majority)\n",
    "    \n"
   ]
  },
  {
   "cell_type": "code",
   "execution_count": 4,
   "id": "ec2b7098",
   "metadata": {},
   "outputs": [
    {
     "name": "stdout",
     "output_type": "stream",
     "text": [
      "1 2 2 3 2 2 1 \n",
      " The majority element is : 2\n"
     ]
    }
   ],
   "source": [
    "#OPTIMISED APPROACH\n",
    "\n",
    "def findMajority(arr, n):\n",
    "    candidate = -1\n",
    "    votes = 0\n",
    "    \n",
    "    for i in range (n):\n",
    "        if (votes == 0):\n",
    "            candidate = arr[i]\n",
    "            votes = 1\n",
    "        else:\n",
    "            if (arr[i] == candidate):\n",
    "                votes += 1\n",
    "            else:\n",
    "                votes -= 1\n",
    "    count = 0\n",
    "    \n",
    "    for i in range (n):\n",
    "        if (arr[i] == candidate):\n",
    "            count += 1\n",
    "            \n",
    "    if (count > n // 3):\n",
    "        return candidate\n",
    "    else:\n",
    "        return -1\n",
    "\n",
    "\n",
    "arr = list(map(int,input().split()))\n",
    "n = len(arr)\n",
    "majority = findMajority(arr, n)\n",
    "print(\" The majority element is :\" ,majority)\n",
    "    \n"
   ]
  },
  {
   "cell_type": "code",
   "execution_count": 9,
   "id": "a07c18d7",
   "metadata": {},
   "outputs": [
    {
     "name": "stdout",
     "output_type": "stream",
     "text": [
      "Enter space-separated numbers: 1 2 1 1 1 3 4 1\n",
      "1\n"
     ]
    }
   ],
   "source": [
    "#BRUTE FORCE \n",
    "\n",
    "def findMajority(arr):\n",
    "    n = len(arr)\n",
    "    for i in range(n):\n",
    "        count = 0\n",
    "        for j in range(n):\n",
    "            if arr[i] == arr[j]:\n",
    "                count += 1\n",
    "        if count > n // 3:\n",
    "            return arr[i]\n",
    "    return -1\n",
    "\n",
    "arr = list(map(int, input(\"Enter space-separated numbers: \").split()))\n",
    "\n",
    "majority = findMajority(arr)\n",
    "print( majority)\n"
   ]
  },
  {
   "cell_type": "code",
   "execution_count": 8,
   "id": "fd77a0a0",
   "metadata": {},
   "outputs": [
    {
     "name": "stdout",
     "output_type": "stream",
     "text": [
      "1 1 2 1 1 3 4 1\n",
      "The majority element is: 1\n"
     ]
    }
   ],
   "source": [
    "def findMajority(arr, n):\n",
    "    element = -1  \n",
    "    count = 0     \n",
    "    \n",
    "    for i in range(n):\n",
    "        if count == 0:\n",
    "            element = arr[i]\n",
    "            count = 1\n",
    "        else:\n",
    "            if arr[i] == element:\n",
    "                count += 1\n",
    "            else:\n",
    "                count -= 1\n",
    "\n",
    "    final_count = 0\n",
    "    for i in range(n):\n",
    "        if arr[i] == element:\n",
    "            final_count += 1\n",
    "\n",
    "    if final_count > n // 2:\n",
    "        return element\n",
    "    else:\n",
    "        return -1\n",
    "\n",
    "arr = list(map(int,input().split()))\n",
    "n = len(arr)\n",
    "majority = findMajority(arr, n)\n",
    "print(\"The majority element is:\", majority)\n"
   ]
  },
  {
   "cell_type": "code",
   "execution_count": 1,
   "id": "7d3554f7",
   "metadata": {},
   "outputs": [
    {
     "name": "stdout",
     "output_type": "stream",
     "text": [
      "1 2 2 3 4 5 2 6\n",
      "2\n"
     ]
    }
   ],
   "source": [
    "#Brute force\n",
    "def maj_ele(nums):\n",
    "    count = None\n",
    "    count = 0\n",
    "    for num in nums:\n",
    "        if count == 0:\n",
    "            candidate = num\n",
    "        count += (1 if num==candidate else -1)\n",
    "    return candidate\n",
    "arr = list(map(int,input().split()))\n",
    "print(maj_ele(arr))"
   ]
  },
  {
   "cell_type": "code",
   "execution_count": null,
   "id": "eaf39d55",
   "metadata": {},
   "outputs": [],
   "source": []
  }
 ],
 "metadata": {
  "kernelspec": {
   "display_name": "Python 3 (ipykernel)",
   "language": "python",
   "name": "python3"
  },
  "language_info": {
   "codemirror_mode": {
    "name": "ipython",
    "version": 3
   },
   "file_extension": ".py",
   "mimetype": "text/x-python",
   "name": "python",
   "nbconvert_exporter": "python",
   "pygments_lexer": "ipython3",
   "version": "3.11.5"
  }
 },
 "nbformat": 4,
 "nbformat_minor": 5
}
