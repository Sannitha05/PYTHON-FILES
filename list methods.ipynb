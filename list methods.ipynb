{
 "cells": [
  {
   "cell_type": "code",
   "execution_count": 1,
   "id": "8a52e536-6646-4cf5-8e53-47d445e3b3bc",
   "metadata": {},
   "outputs": [
    {
     "name": "stdout",
     "output_type": "stream",
     "text": [
      "['1', '2', 'B', 'Def', 'a', 'abc']\n"
     ]
    }
   ],
   "source": [
    "list=['a','1','abc','2','B','Def']\n",
    "list.sort()\n",
    "print(list)"
   ]
  },
  {
   "cell_type": "code",
   "execution_count": 2,
   "id": "dd486deb-0b3d-41a4-9008-1d331e5dd482",
   "metadata": {},
   "outputs": [
    {
     "name": "stdout",
     "output_type": "stream",
     "text": [
      "[6, 3, 1, 8, 0, 7, 8]\n"
     ]
    }
   ],
   "source": [
    "num=[6,3,1,8,0,7]\n",
    "num.append(8)\n",
    "print(num)"
   ]
  },
  {
   "cell_type": "code",
   "execution_count": 3,
   "id": "9d63b1dd-9c6d-4123-a073-d087be3adaca",
   "metadata": {},
   "outputs": [
    {
     "name": "stdout",
     "output_type": "stream",
     "text": [
      "[6, 3, 1, 122, 8, 0, 7]\n"
     ]
    }
   ],
   "source": [
    "num=[6,3,1,8,0,7]\n",
    "num.insert(3,122)\n",
    "print(num)"
   ]
  },
  {
   "cell_type": "code",
   "execution_count": 4,
   "id": "7e9fa026-4562-436c-93c7-0a8b3be9a8fb",
   "metadata": {},
   "outputs": [
    {
     "name": "stdout",
     "output_type": "stream",
     "text": [
      "0\n",
      "[6, 3, 1, 8, 0, 7, 3, 2, 1]\n"
     ]
    }
   ],
   "source": [
    "num=[6,3,1,8,0,7,3,2,1,0]\n",
    "print(num.pop())\n",
    "print(num)"
   ]
  },
  {
   "cell_type": "code",
   "execution_count": 5,
   "id": "424635fc-6137-4a93-b8e6-43533fea1973",
   "metadata": {},
   "outputs": [
    {
     "name": "stdout",
     "output_type": "stream",
     "text": [
      "[6, 3, 8, 0, 7, 3, 2, 1, 0]\n",
      "[0, 1, 2, 3, 7, 0, 8, 3, 6]\n",
      "[0, 0, 1, 2, 3, 3, 6, 7, 8]\n"
     ]
    }
   ],
   "source": [
    "num=[6,3,1,8,0,7,3,2,1,0]\n",
    "num.remove(1)\n",
    "print(num)\n",
    "num.reverse()\n",
    "print(num)\n",
    "num.sort()\n",
    "print(num)"
   ]
  },
  {
   "cell_type": "code",
   "execution_count": 6,
   "id": "0b47f46a-42be-402d-aeaa-44b87ef16878",
   "metadata": {},
   "outputs": [
    {
     "name": "stdout",
     "output_type": "stream",
     "text": [
      "[1, 2, 3, 4, 5, 6, 7, 8, 9, 10]\n"
     ]
    }
   ],
   "source": [
    "one=[1,2,3,4,5]\n",
    "two=[6,7,8,9,10]\n",
    "one.extend(two)\n",
    "print(one)"
   ]
  },
  {
   "cell_type": "code",
   "execution_count": 1,
   "id": "f7cf4945-9104-475e-ad03-2b23459ee613",
   "metadata": {},
   "outputs": [
    {
     "name": "stdout",
     "output_type": "stream",
     "text": [
      "the original stack: [1, 2, 3, 4, 5, 6]\n",
      "stack after push operation: [1, 2, 3, 4, 5, 6, 7]\n",
      "stack after pop operation: [1, 2, 3, 4, 5, 6]\n",
      "stack after peep operation: 6\n"
     ]
    }
   ],
   "source": [
    "stack=[1,2,3,4,5,6]\n",
    "print(\"the original stack:\",stack)\n",
    "stack.append(7)\n",
    "print(\"stack after push operation:\",stack)\n",
    "stack.pop()\n",
    "print(\"stack after pop operation:\",stack)\n",
    "index_element=len(stack)-1\n",
    "print(\"stack after peep operation:\",stack[index_element])"
   ]
  },
  {
   "cell_type": "code",
   "execution_count": 4,
   "id": "cca636ae-2797-4873-be0f-839e286a15d0",
   "metadata": {},
   "outputs": [
    {
     "name": "stdin",
     "output_type": "stream",
     "text": [
      " 3\n",
      "no.of candies sold: 3\n"
     ]
    },
    {
     "name": "stdout",
     "output_type": "stream",
     "text": [
      "no.of candies available: 7\n"
     ]
    },
    {
     "name": "stdin",
     "output_type": "stream",
     "text": [
      "no.of candies sold: 5\n"
     ]
    },
    {
     "name": "stdout",
     "output_type": "stream",
     "text": [
      "no.of candies available: 5\n"
     ]
    },
    {
     "name": "stdin",
     "output_type": "stream",
     "text": [
      "no.of candies sold: 11\n"
     ]
    },
    {
     "name": "stdout",
     "output_type": "stream",
     "text": [
      "Invalid input\n"
     ]
    }
   ],
   "source": [
    "#jar\n",
    "T=int(input())\n",
    "for i in range(T):\n",
    "    N=10\n",
    "    M=int(input(\"no.of candies sold:\"))\n",
    "    if N>M:\n",
    "        print(\"no.of candies available:\",N-M)\n",
    "    else:\n",
    "        print(\"Invalid input\")"
   ]
  },
  {
   "cell_type": "code",
   "execution_count": 7,
   "id": "ead9a90a-6518-43c9-81d3-e969357d45fd",
   "metadata": {},
   "outputs": [
    {
     "name": "stdout",
     "output_type": "stream",
     "text": [
      "element at 0 is: 1\n",
      "element at 1 is: 2\n",
      "element at 2 is: 3\n",
      "element at 3 is: 4\n",
      "element at 4 is: 5\n"
     ]
    }
   ],
   "source": [
    "num=[1,2,3,4,5]\n",
    "iter(num)\n",
    "print(\"element at 0 is:\",num[0])\n",
    "print(\"element at 1 is:\",num[1])\n",
    "print(\"element at 2 is:\",num[2])\n",
    "print(\"element at 3 is:\",num[3])\n",
    "print(\"element at 4 is:\",num[4])"
   ]
  },
  {
   "cell_type": "code",
   "execution_count": 1,
   "id": "706668c9-5c54-4d68-9f8b-d8f63460cd4f",
   "metadata": {},
   "outputs": [
    {
     "name": "stdout",
     "output_type": "stream",
     "text": [
      "element at 0 is 1\n",
      "element at 1 is 2\n",
      "element at 2 is 3\n",
      "element at 3 is 4\n",
      "element at 4 is 5\n"
     ]
    }
   ],
   "source": [
    "num=[1,2,3,4,5]\n",
    "iter=iter(num)\n",
    "for i in range(len(num)):\n",
    "    print(\"element at\",i,\"is\",next(iter))"
   ]
  },
  {
   "cell_type": "code",
   "execution_count": null,
   "id": "b1ddab4f-d589-499d-9756-63ccd59b03ac",
   "metadata": {},
   "outputs": [],
   "source": []
  }
 ],
 "metadata": {
  "kernelspec": {
   "display_name": "Python 3 (ipykernel)",
   "language": "python",
   "name": "python3"
  },
  "language_info": {
   "codemirror_mode": {
    "name": "ipython",
    "version": 3
   },
   "file_extension": ".py",
   "mimetype": "text/x-python",
   "name": "python",
   "nbconvert_exporter": "python",
   "pygments_lexer": "ipython3",
   "version": "3.11.7"
  }
 },
 "nbformat": 4,
 "nbformat_minor": 5
}
