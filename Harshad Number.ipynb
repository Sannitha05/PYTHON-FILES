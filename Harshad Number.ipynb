{
 "cells": [
  {
   "cell_type": "code",
   "execution_count": 4,
   "id": "567f7a0e",
   "metadata": {},
   "outputs": [
    {
     "name": "stdout",
     "output_type": "stream",
     "text": [
      "9\n"
     ]
    }
   ],
   "source": [
    "class Solution:\n",
    "    def sumOfTheDigitsOfHarshadNumber(self, x: int) -> int:\n",
    "        l = str(x)\n",
    "        lst = [int(k) for k in l]\n",
    "        if x%sum(lst)==0:\n",
    "            return sum(lst)\n",
    "        else:\n",
    "            return -1\n",
    "        \n",
    "solution = Solution()\n",
    "result = solution.sumOfTheDigitsOfHarshadNumber(18) \n",
    "print(result)"
   ]
  },
  {
   "cell_type": "code",
   "execution_count": 5,
   "id": "8ec93302",
   "metadata": {},
   "outputs": [
    {
     "name": "stdout",
     "output_type": "stream",
     "text": [
      "-1\n"
     ]
    }
   ],
   "source": [
    "class Solution:\n",
    "    def sumOfTheDigitsOfHarshadNumber(self, x: int) -> int:\n",
    "        l = str(x)\n",
    "        lst = [int(k) for k in l]\n",
    "        if x%sum(lst)==0:\n",
    "            return sum(lst)\n",
    "        else:\n",
    "            return -1\n",
    "        \n",
    "solution = Solution()\n",
    "result = solution.sumOfTheDigitsOfHarshadNumber(23) \n",
    "print(result)"
   ]
  },
  {
   "cell_type": "code",
   "execution_count": 7,
   "id": "cbc2eb94",
   "metadata": {},
   "outputs": [
    {
     "name": "stdout",
     "output_type": "stream",
     "text": [
      "-1\n"
     ]
    }
   ],
   "source": [
    "class Solution:\n",
    "    def sumOfTheDigitsOfHarshadNumber(self, x: int) -> int:\n",
    "        l = str(x)\n",
    "        lst = [int(k) for k in l]\n",
    "        if x%sum(lst)==0:\n",
    "            return sum(lst)\n",
    "        else:\n",
    "            return -1\n",
    "        \n",
    "solution = Solution()\n",
    "result = solution.sumOfTheDigitsOfHarshadNumber(189) \n",
    "print(result)"
   ]
  },
  {
   "cell_type": "code",
   "execution_count": 8,
   "id": "56e0bfa2",
   "metadata": {},
   "outputs": [
    {
     "name": "stdout",
     "output_type": "stream",
     "text": [
      "-1\n"
     ]
    }
   ],
   "source": [
    "class Solution:\n",
    "    def sumOfTheDigitsOfHarshadNumber(self, x: int) -> int:\n",
    "        l = str(x)\n",
    "        lst = [int(k) for k in l]\n",
    "        if x%sum(lst)==0:\n",
    "            return sum(lst)\n",
    "        else:\n",
    "            return -1\n",
    "        \n",
    "solution = Solution()\n",
    "result = solution.sumOfTheDigitsOfHarshadNumber(17) \n",
    "print(result)"
   ]
  },
  {
   "cell_type": "code",
   "execution_count": 9,
   "id": "a93c75be",
   "metadata": {},
   "outputs": [
    {
     "name": "stdout",
     "output_type": "stream",
     "text": [
      "8\n"
     ]
    }
   ],
   "source": [
    "class Solution:\n",
    "    def sumOfTheDigitsOfHarshadNumber(self, x: int) -> int:\n",
    "        l = str(x)\n",
    "        lst = [int(k) for k in l]\n",
    "        if x%sum(lst)==0:\n",
    "            return sum(lst)\n",
    "        else:\n",
    "            return -1\n",
    "        \n",
    "solution = Solution()\n",
    "result = solution.sumOfTheDigitsOfHarshadNumber(8) \n",
    "print(result)"
   ]
  },
  {
   "cell_type": "code",
   "execution_count": 10,
   "id": "25f8f102",
   "metadata": {},
   "outputs": [
    {
     "name": "stdout",
     "output_type": "stream",
     "text": [
      "-1\n"
     ]
    }
   ],
   "source": [
    "class Solution:\n",
    "    def sumOfTheDigitsOfHarshadNumber(self, x: int) -> int:\n",
    "        l = str(x)\n",
    "        lst = [int(k) for k in l]\n",
    "        if x%sum(lst)==0:\n",
    "            return sum(lst)\n",
    "        else:\n",
    "            return -1\n",
    "        \n",
    "solution = Solution()\n",
    "result = solution.sumOfTheDigitsOfHarshadNumber(123) \n",
    "print(result)"
   ]
  },
  {
   "cell_type": "code",
   "execution_count": 11,
   "id": "158b925e",
   "metadata": {},
   "outputs": [
    {
     "name": "stdout",
     "output_type": "stream",
     "text": [
      "2\n"
     ]
    }
   ],
   "source": [
    "class Solution:\n",
    "    def sumOfTheDigitsOfHarshadNumber(self, x: int) -> int:\n",
    "        l = str(x)\n",
    "        lst = [int(k) for k in l]\n",
    "        if x%sum(lst)==0:\n",
    "            return sum(lst)\n",
    "        else:\n",
    "            return -1\n",
    "        \n",
    "solution = Solution()\n",
    "result = solution.sumOfTheDigitsOfHarshadNumber(20) \n",
    "print(result)"
   ]
  },
  {
   "cell_type": "code",
   "execution_count": null,
   "id": "9b9fde3d",
   "metadata": {},
   "outputs": [],
   "source": []
  }
 ],
 "metadata": {
  "kernelspec": {
   "display_name": "Python 3 (ipykernel)",
   "language": "python",
   "name": "python3"
  },
  "language_info": {
   "codemirror_mode": {
    "name": "ipython",
    "version": 3
   },
   "file_extension": ".py",
   "mimetype": "text/x-python",
   "name": "python",
   "nbconvert_exporter": "python",
   "pygments_lexer": "ipython3",
   "version": "3.11.5"
  }
 },
 "nbformat": 4,
 "nbformat_minor": 5
}
