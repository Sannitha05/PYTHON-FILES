{
 "cells": [
  {
   "cell_type": "code",
   "execution_count": 1,
   "id": "f7c792dd",
   "metadata": {},
   "outputs": [
    {
     "name": "stdout",
     "output_type": "stream",
     "text": [
      "100\n",
      "Element 100 is present at index 7\n"
     ]
    }
   ],
   "source": [
    "import re\n",
    "arr = [10, 20, 80, 30, 60, 50, 110, 100, 130, 170]\n",
    "x = int(input())\n",
    "arr_str = ','.join(str(i) for i in arr)\n",
    "match = re.search(r'\\b{}\\b'.format(x), arr_str)\n",
    "if match:\n",
    "    result = arr_str[:match.start()].count(',')\n",
    "    print(f\"Element {x} is present at index {result}\")\n",
    "else:\n",
    "    print(f\"Element {x} is not present in the array\")"
   ]
  },
  {
   "cell_type": "code",
   "execution_count": null,
   "id": "490260a7",
   "metadata": {},
   "outputs": [],
   "source": []
  },
  {
   "cell_type": "code",
   "execution_count": null,
   "id": "1baedcec",
   "metadata": {},
   "outputs": [],
   "source": []
  }
 ],
 "metadata": {
  "kernelspec": {
   "display_name": "Python 3 (ipykernel)",
   "language": "python",
   "name": "python3"
  },
  "language_info": {
   "codemirror_mode": {
    "name": "ipython",
    "version": 3
   },
   "file_extension": ".py",
   "mimetype": "text/x-python",
   "name": "python",
   "nbconvert_exporter": "python",
   "pygments_lexer": "ipython3",
   "version": "3.11.5"
  }
 },
 "nbformat": 4,
 "nbformat_minor": 5
}
