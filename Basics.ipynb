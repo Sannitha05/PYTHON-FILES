{
 "cells": [
  {
   "cell_type": "code",
   "execution_count": 1,
   "id": "c4c784ad",
   "metadata": {},
   "outputs": [
    {
     "name": "stdout",
     "output_type": "stream",
     "text": [
      "1 1 9 2 2 3 2 1\n",
      "3\n"
     ]
    }
   ],
   "source": [
    "arr = list(map(int, input().split()))\n",
    "print(arr.count(2))"
   ]
  },
  {
   "cell_type": "code",
   "execution_count": 2,
   "id": "46b0cf05",
   "metadata": {},
   "outputs": [
    {
     "name": "stdout",
     "output_type": "stream",
     "text": [
      "12 23 1 4 5\n",
      "Max: 23\n"
     ]
    }
   ],
   "source": [
    "arr = list(map(int, input().split()))\n",
    "print(\"Max:\", max(arr))"
   ]
  },
  {
   "cell_type": "code",
   "execution_count": 3,
   "id": "39501bdd",
   "metadata": {},
   "outputs": [
    {
     "name": "stdout",
     "output_type": "stream",
     "text": [
      "32 1 22 3 -1\n",
      "Min: -1\n"
     ]
    }
   ],
   "source": [
    "arr = list(map(int, input().split()))\n",
    "print(\"Min:\", min(arr))\n"
   ]
  },
  {
   "cell_type": "code",
   "execution_count": 4,
   "id": "5205ca33",
   "metadata": {},
   "outputs": [
    {
     "name": "stdout",
     "output_type": "stream",
     "text": [
      "2 3\n",
      "Product: 6\n"
     ]
    }
   ],
   "source": [
    "import math\n",
    "arr = list(map(int, input().split()))\n",
    "print(\"Product:\", math.prod(arr))\n"
   ]
  },
  {
   "cell_type": "code",
   "execution_count": 5,
   "id": "b781498f",
   "metadata": {},
   "outputs": [
    {
     "name": "stdout",
     "output_type": "stream",
     "text": [
      "2 3 4 5 \n",
      "Reversed: [5, 4, 3, 2]\n"
     ]
    }
   ],
   "source": [
    "arr = list(map(int, input().split()))\n",
    "print(\"Reversed:\", arr[::-1])\n"
   ]
  },
  {
   "cell_type": "code",
   "execution_count": 11,
   "id": "480fcc9e",
   "metadata": {},
   "outputs": [
    {
     "name": "stdout",
     "output_type": "stream",
     "text": [
      "1 2 2 2 3 3 4 5 5 6\n",
      "[1, 2, 3, 4, 5, 6]\n"
     ]
    }
   ],
   "source": [
    "arr = list(map(int, input().split()))\n",
    "unique = list(set(arr))\n",
    "print(unique)"
   ]
  },
  {
   "cell_type": "code",
   "execution_count": 3,
   "id": "644e7fd8",
   "metadata": {},
   "outputs": [
    {
     "name": "stdout",
     "output_type": "stream",
     "text": [
      "1 2 3 4 5 66 76 45 23 8\n",
      "Even: [2, 4, 66, 76, 8]\n",
      "Odd: [1, 3, 5, 45, 23]\n"
     ]
    }
   ],
   "source": [
    "arr = list(map(int, input().split()))\n",
    "even = [x for x in arr if x % 2 == 0]\n",
    "odd = [x for x in arr if x % 2 != 0]\n",
    "print(\"Even:\", even)\n",
    "print(\"Odd:\", odd)"
   ]
  },
  {
   "cell_type": "code",
   "execution_count": 4,
   "id": "ea71fcf1",
   "metadata": {},
   "outputs": [
    {
     "name": "stdout",
     "output_type": "stream",
     "text": [
      "-1 2 3 -4 5 -12 -89 45 90\n",
      "Positive: 5 Negative: 4\n"
     ]
    }
   ],
   "source": [
    "arr = list(map(int, input().split()))\n",
    "pos = len([x for x in arr if x > 0])\n",
    "neg = len([x for x in arr if x < 0])\n",
    "print(\"Positive:\", pos, \"Negative:\", neg)"
   ]
  },
  {
   "cell_type": "code",
   "execution_count": 5,
   "id": "bda89ecb",
   "metadata": {},
   "outputs": [
    {
     "name": "stdout",
     "output_type": "stream",
     "text": [
      "Equal\n"
     ]
    }
   ],
   "source": [
    "arr1 = [1, 2, 3]\n",
    "arr2 = [1, 2, 3]\n",
    "print(\"Equal\" if arr1 == arr2 else \"Not Equal\")"
   ]
  },
  {
   "cell_type": "code",
   "execution_count": 6,
   "id": "b0cceb14",
   "metadata": {},
   "outputs": [
    {
     "name": "stdout",
     "output_type": "stream",
     "text": [
      "Not Equal\n"
     ]
    }
   ],
   "source": [
    "arr1 = [1, 2, 32]\n",
    "arr2 = [1, 2, 31]\n",
    "print(\"Equal\" if arr1 == arr2 else \"Not Equal\")\n"
   ]
  },
  {
   "cell_type": "code",
   "execution_count": 9,
   "id": "392b0bce",
   "metadata": {},
   "outputs": [
    {
     "name": "stdout",
     "output_type": "stream",
     "text": [
      "1 2 3\n",
      "[3, 2, 1]\n"
     ]
    }
   ],
   "source": [
    "#swap first and last elements\n",
    "arr = list(map(int, input().split()))\n",
    "arr[0], arr[-1] = arr[-1], arr[0]\n",
    "print(arr)"
   ]
  },
  {
   "cell_type": "code",
   "execution_count": 10,
   "id": "0abad6c0",
   "metadata": {},
   "outputs": [
    {
     "name": "stdout",
     "output_type": "stream",
     "text": [
      "12 3 45 6 4\n",
      "Second largest: 12\n"
     ]
    }
   ],
   "source": [
    "#second largest num\n",
    "arr = list(map(int, input().split()))\n",
    "unique = list(set(arr))\n",
    "unique.sort()\n",
    "print(\"Second largest:\", unique[-2])\n"
   ]
  },
  {
   "cell_type": "code",
   "execution_count": 13,
   "id": "699bf32e",
   "metadata": {},
   "outputs": [
    {
     "name": "stdout",
     "output_type": "stream",
     "text": [
      "1 2 3 4 5 11 12 13 14 15\n",
      "[1, 2, 3, 4, 5] [11, 12, 13, 14, 15]\n"
     ]
    }
   ],
   "source": [
    "#split array into 2 halves\n",
    "arr = list(map(int, input().split()))\n",
    "mid = len(arr) // 2\n",
    "first_half = arr[:mid]\n",
    "second_half = arr[mid:]\n",
    "print(first_half,second_half)"
   ]
  },
  {
   "cell_type": "code",
   "execution_count": 15,
   "id": "293e8264",
   "metadata": {},
   "outputs": [
    {
     "name": "stdout",
     "output_type": "stream",
     "text": [
      "1 2 3 4\n",
      "[2, 3, 4, 1]\n"
     ]
    }
   ],
   "source": [
    "#Rotate array (left by 1)\n",
    "arr = list(map(int, input().split()))\n",
    "arr = arr[1:] + arr[:1]\n",
    "print(arr)"
   ]
  },
  {
   "cell_type": "code",
   "execution_count": 17,
   "id": "a07a6fbf",
   "metadata": {},
   "outputs": [
    {
     "name": "stdout",
     "output_type": "stream",
     "text": [
      "1 2 3 4\n",
      "[4, 1, 2, 3]\n"
     ]
    }
   ],
   "source": [
    "#Rotate array (right by 1)\n",
    "arr = list(map(int, input().split()))\n",
    "arr = arr[-1:] + arr[:-1]\n",
    "print(arr)"
   ]
  },
  {
   "cell_type": "code",
   "execution_count": 1,
   "id": "dde589af",
   "metadata": {},
   "outputs": [
    {
     "name": "stdout",
     "output_type": "stream",
     "text": [
      "[5, 7, 9]\n"
     ]
    }
   ],
   "source": [
    "#Add two arrays element-wise\n",
    "arr1 = [1, 2, 3]\n",
    "arr2 = [4, 5, 6]\n",
    "result = [x + y for x, y in zip(arr1, arr2)]\n",
    "print(result)"
   ]
  },
  {
   "cell_type": "code",
   "execution_count": null,
   "id": "dbd6c7fa",
   "metadata": {},
   "outputs": [],
   "source": []
  }
 ],
 "metadata": {
  "kernelspec": {
   "display_name": "Python 3 (ipykernel)",
   "language": "python",
   "name": "python3"
  },
  "language_info": {
   "codemirror_mode": {
    "name": "ipython",
    "version": 3
   },
   "file_extension": ".py",
   "mimetype": "text/x-python",
   "name": "python",
   "nbconvert_exporter": "python",
   "pygments_lexer": "ipython3",
   "version": "3.11.5"
  }
 },
 "nbformat": 4,
 "nbformat_minor": 5
}
