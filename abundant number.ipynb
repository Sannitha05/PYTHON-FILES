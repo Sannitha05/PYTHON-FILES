{
 "cells": [
  {
   "cell_type": "code",
   "execution_count": 3,
   "id": "c0b67796",
   "metadata": {},
   "outputs": [
    {
     "name": "stdout",
     "output_type": "stream",
     "text": [
      "abundant\n"
     ]
    }
   ],
   "source": [
    "n=24\n",
    "s=1\n",
    "for i in range(2,n):\n",
    "    if n%i==0:\n",
    "        s=s+i\n",
    "if s>n:\n",
    "    print(\"abundant\")\n",
    "else:\n",
    "    print(\"not abundant\")\n",
    "    "
   ]
  },
  {
   "cell_type": "code",
   "execution_count": null,
   "id": "ddbe333b",
   "metadata": {},
   "outputs": [],
   "source": []
  }
 ],
 "metadata": {
  "kernelspec": {
   "display_name": "Python 3 (ipykernel)",
   "language": "python",
   "name": "python3"
  },
  "language_info": {
   "codemirror_mode": {
    "name": "ipython",
    "version": 3
   },
   "file_extension": ".py",
   "mimetype": "text/x-python",
   "name": "python",
   "nbconvert_exporter": "python",
   "pygments_lexer": "ipython3",
   "version": "3.11.5"
  }
 },
 "nbformat": 4,
 "nbformat_minor": 5
}
