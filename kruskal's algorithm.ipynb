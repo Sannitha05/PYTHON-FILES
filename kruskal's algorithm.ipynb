{
 "cells": [
  {
   "cell_type": "code",
   "execution_count": 2,
   "id": "d04fa11f",
   "metadata": {},
   "outputs": [
    {
     "name": "stdout",
     "output_type": "stream",
     "text": [
      "Edge 0:(0, 1) cost:2\n",
      "Edge 1:(1, 2) cost:3\n",
      "Edge 2:(1, 4) cost:5\n",
      "Edge 3:(0, 3) cost:6\n",
      "Minimum cost= 16\n"
     ]
    }
   ],
   "source": [
    "# Python implementation for Kruskal's\n",
    "# algorithm\n",
    "\n",
    "\n",
    "def find(i):\n",
    "    while parent[i] != i:\n",
    "        i = parent[i]\n",
    "    return i\n",
    " \n",
    "def union(i, j):\n",
    "    a = find(i)\n",
    "    b = find(j)\n",
    "    parent[a] = b\n",
    "     \n",
    "def kruskalMST(cost):\n",
    "    mincost = 0 \n",
    "\n",
    "    for i in range(V):\n",
    "        parent[i] = i\n",
    "\n",
    "    edge_count = 0\n",
    "    while edge_count < V - 1:\n",
    "        min = INF\n",
    "        a = -1\n",
    "        b = -1\n",
    "        for i in range(V):\n",
    "            for j in range(V):\n",
    "                if find(i) != find(j) and cost[i][j] < min:\n",
    "                    min = cost[i][j]\n",
    "                    a = i\n",
    "                    b = j\n",
    "        union(a, b)\n",
    "        print('Edge {}:({}, {}) cost:{}'.format(edge_count, a, b, min))\n",
    "        edge_count += 1\n",
    "        mincost += min\n",
    "\n",
    "    print(\"Minimum cost= {}\".format(mincost))\n",
    "\n",
    "\n",
    "\n",
    "V = 5\n",
    "parent = [i for i in range(V)]\n",
    "INF = float('inf')\n",
    "cost = [[INF, 2, INF, 6, INF],[2, INF, 3, 8, 5],[INF, 3, INF, INF, 7],[6, 8, INF, INF, 9],[INF, 5, 7, 9, INF]]\n",
    "\n",
    "kruskalMST(cost)"
   ]
  },
  {
   "cell_type": "code",
   "execution_count": null,
   "id": "89c4a2d8",
   "metadata": {},
   "outputs": [],
   "source": []
  }
 ],
 "metadata": {
  "kernelspec": {
   "display_name": "Python 3 (ipykernel)",
   "language": "python",
   "name": "python3"
  },
  "language_info": {
   "codemirror_mode": {
    "name": "ipython",
    "version": 3
   },
   "file_extension": ".py",
   "mimetype": "text/x-python",
   "name": "python",
   "nbconvert_exporter": "python",
   "pygments_lexer": "ipython3",
   "version": "3.11.5"
  }
 },
 "nbformat": 4,
 "nbformat_minor": 5
}
