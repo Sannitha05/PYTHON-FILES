{
 "cells": [
  {
   "cell_type": "code",
   "execution_count": 2,
   "id": "d58e497c-62a8-4f82-bb9d-f50efabcec66",
   "metadata": {},
   "outputs": [
    {
     "name": "stdout",
     "output_type": "stream",
     "text": [
      "10\n",
      "[1, 2, 3, 4, 5, 6, 7, 8, 9, 19]\n",
      "sannysannysannysannysanny\n",
      "sai sai sai sai sai sai sai sai \n",
      "10\n",
      "1\n"
     ]
    }
   ],
   "source": [
    "list1=[1,2,3,4,5,6,7,8,9,10]\n",
    "print(len(list1))\n",
    "#concatenation\n",
    "print([1,2,3,4,5]+[6,7,8,9,19])\n",
    "print(\"sanny\"*5)\n",
    "print(\"sai \"*8) \n",
    "#in\n",
    "'a' in ['a','e','i','o','u']\n",
    "#not in \n",
    "'a' not in ['a','e','i','o','u']\n",
    "#max\n",
    "print(max(list1))\n",
    "#min\n",
    "print(min(list1))"
   ]
  },
  {
   "cell_type": "code",
   "execution_count": 5,
   "id": "e1b9d4b9-e507-4b7c-ac69-0cbf1ba9da3b",
   "metadata": {},
   "outputs": [
    {
     "data": {
      "text/plain": [
       "True"
      ]
     },
     "execution_count": 5,
     "metadata": {},
     "output_type": "execute_result"
    }
   ],
   "source": [
    "'a' in ['a','e','i','o','u']"
   ]
  },
  {
   "cell_type": "code",
   "execution_count": 6,
   "id": "1f555553-2c75-4239-8863-ce2ff8aaab6a",
   "metadata": {},
   "outputs": [
    {
     "data": {
      "text/plain": [
       "False"
      ]
     },
     "execution_count": 6,
     "metadata": {},
     "output_type": "execute_result"
    }
   ],
   "source": [
    "'a' not in ['a','e','i','o','u']"
   ]
  },
  {
   "cell_type": "code",
   "execution_count": 7,
   "id": "301e2889-c1f9-4b92-9250-dcb2192ee316",
   "metadata": {},
   "outputs": [
    {
     "name": "stdout",
     "output_type": "stream",
     "text": [
      "list1: [1, 2, 3, 4, 5, 6, 7, 8, 9, 10]\n",
      "list2: [1, 2, 3, 4, 5, 6, 7, 8, 9, 10]\n",
      "cloned subset of list1: [3, 4, 5, 6]\n"
     ]
    }
   ],
   "source": [
    "list1=[1,2,3,4,5,6,7,8,9,10]\n",
    "list2=list1\n",
    "print(\"list1:\",list1)\n",
    "print(\"list2:\",list2)\n",
    "list3=list1[2:6]\n",
    "print(\"cloned subset of list1:\",list3)"
   ]
  },
  {
   "cell_type": "code",
   "execution_count": 9,
   "id": "7564289a-e5a1-4c9e-8446-54a5f989463c",
   "metadata": {},
   "outputs": [
    {
     "name": "stdout",
     "output_type": "stream",
     "text": [
      "hi\n",
      "hi\n",
      "['students', 'good', 'morning']\n",
      "hi students good morning "
     ]
    }
   ],
   "source": [
    "list1=[\"hi\",\"students\",\"good\",\"morning\"]\n",
    "print(list1[0])\n",
    "print(list1[-4])\n",
    "print(list1[1:])\n",
    "for i in list1:\n",
    "    print(i,end=\" \")"
   ]
  },
  {
   "cell_type": "code",
   "execution_count": 12,
   "id": "4a1dfbb4-38ed-4651-8e20-c155fef18578",
   "metadata": {},
   "outputs": [
    {
     "name": "stdout",
     "output_type": "stream",
     "text": [
      "[1, 2, 3, 4, 5, 6, 7, 8, 9, 10]\n",
      "1st element: 1\n",
      "1st element: 1\n",
      "slicing: [3, 4, 5]\n",
      "slicing: [1, 3, 5, 7, 9]\n",
      "slicing: [1, 4, 7, 10]\n",
      "reverse: [10, 9, 8, 7, 6, 5, 4, 3, 2, 1]\n",
      "reverse: [10, 8, 6, 4, 2]\n",
      "slicing: [8, 9, 10]\n",
      "slicing: [2, 3]\n"
     ]
    }
   ],
   "source": [
    "num=[1,2,3,4,5,6,7,8,9,10]\n",
    "print(num)\n",
    "print(\"1st element:\",num[0])\n",
    "print(\"1st element:\",num[-10])\n",
    "print(\"slicing:\",num[2:5])\n",
    "print(\"slicing:\",num[::2])\n",
    "print(\"slicing:\",num[::3])\n",
    "print(\"reverse:\",num[::-1])\n",
    "print(\"reverse:\",num[::-2])\n",
    "print(\"slicing:\",num[7:10])\n",
    "print(\"slicing:\",num[1:3])"
   ]
  },
  {
   "cell_type": "code",
   "execution_count": 13,
   "id": "8dd4f849-6115-478a-9833-4b4b409be491",
   "metadata": {},
   "outputs": [
    {
     "name": "stdout",
     "output_type": "stream",
     "text": [
      "sum= 55\n",
      "['s', 'a', 'n', 'n', 'y']\n"
     ]
    }
   ],
   "source": [
    "list1=[1,2,3,4,5,6,7,8,9,10]\n",
    "print(\"sum=\",sum(list1))\n",
    "list1=list(\"sanny\")\n",
    "print(list1)"
   ]
  },
  {
   "cell_type": "code",
   "execution_count": 15,
   "id": "42cfdad7-d431-4ae2-9f55-dd9ec2eaca7c",
   "metadata": {},
   "outputs": [
    {
     "name": "stdout",
     "output_type": "stream",
     "text": [
      "[1, 3, 22, 29, 45, 56, 74, 80, 90]\n"
     ]
    }
   ],
   "source": [
    "#sort\n",
    "list1=[45,22,90,56,1,74,29,3,80]\n",
    "list2=sorted(list1)\n",
    "print(list2)"
   ]
  },
  {
   "cell_type": "code",
   "execution_count": null,
   "id": "6b9d1455-d961-4125-8c9d-1d321f036e5e",
   "metadata": {},
   "outputs": [],
   "source": []
  }
 ],
 "metadata": {
  "kernelspec": {
   "display_name": "Python 3 (ipykernel)",
   "language": "python",
   "name": "python3"
  },
  "language_info": {
   "codemirror_mode": {
    "name": "ipython",
    "version": 3
   },
   "file_extension": ".py",
   "mimetype": "text/x-python",
   "name": "python",
   "nbconvert_exporter": "python",
   "pygments_lexer": "ipython3",
   "version": "3.11.7"
  }
 },
 "nbformat": 4,
 "nbformat_minor": 5
}
