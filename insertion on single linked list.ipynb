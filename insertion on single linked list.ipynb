{
 "cells": [
  {
   "cell_type": "code",
   "execution_count": 3,
   "id": "b630acca",
   "metadata": {},
   "outputs": [
    {
     "name": "stdout",
     "output_type": "stream",
     "text": [
      "1 ->  2 ->  3 ->  4 ->  None\n"
     ]
    }
   ],
   "source": [
    "# Python Program for traversal of Singly Linked list\n",
    "class Node:\n",
    "    def __init__(self, data):\n",
    "        self.data = data\n",
    "        self.next = None\n",
    "\n",
    "def insert_at_beginning(head, data):\n",
    "    new_node = Node(data)\n",
    "    new_node.next = head\n",
    "    return new_node\n",
    "        \n",
    "def traverse(head):\n",
    "    current = head\n",
    "    while current:\n",
    "        # Print the current node's data followed by an arrow and space\n",
    "        print(str(current.data) + \" -> \", end=\" \")\n",
    "        current = current.next\n",
    "    # At the end of the list, print None to indicate no further nodes\n",
    "    print(\"None\")\n",
    "\n",
    "# Singly linked list created and its head stored in a variable named \"head\"\n",
    "head = None\n",
    "head = insert_at_beginning(head, 4)\n",
    "head = insert_at_beginning(head, 3)\n",
    "head = insert_at_beginning(head, 2)\n",
    "head = insert_at_beginning(head, 1)\n",
    "\n",
    "# To traverse and print the nodes:\n",
    "traverse(head)\n"
   ]
  },
  {
   "cell_type": "code",
   "execution_count": 5,
   "id": "cf9a2c8d",
   "metadata": {},
   "outputs": [
    {
     "name": "stdout",
     "output_type": "stream",
     "text": [
      "10 -> 2 -> 3 -> 4 -> None\n"
     ]
    }
   ],
   "source": [
    "# Python Program for the insertion of node at the beginning\n",
    "class Node:\n",
    "    def __init__(self, data):\n",
    "        # Initialize a new Node with data and next pointer\n",
    "        self.data = data\n",
    "        self.next = None\n",
    "\n",
    "\n",
    "def insert_at_beginning(head, data):\n",
    "    # Insert a new node at the beginning of the linked list\n",
    "    new_node = Node(data)\n",
    "    new_node.next = head\n",
    "    return new_node\n",
    "\n",
    "\n",
    "def traverse(head):\n",
    "    # Traverse the linked list and print its elements\n",
    "    current = head\n",
    "    while current:\n",
    "        print(current.data, end=\" -> \")\n",
    "        current = current.next\n",
    "    print(\"None\")\n",
    "\n",
    "# Driver Code\n",
    "head = None\n",
    "head = insert_at_beginning(head, 4)\n",
    "head = insert_at_beginning(head, 3)\n",
    "head = insert_at_beginning(head, 2)\n",
    "head = insert_at_beginning(head, 10)\n",
    "traverse(head)\n"
   ]
  },
  {
   "cell_type": "code",
   "execution_count": 7,
   "id": "3ba893a0",
   "metadata": {},
   "outputs": [
    {
     "name": "stdout",
     "output_type": "stream",
     "text": [
      "1 -> 24 -> 3 -> 4 -> None\n"
     ]
    }
   ],
   "source": [
    "# Python Program for Insertion after a given node\n",
    "class Node:\n",
    "    def __init__(self, data):\n",
    "        # Initialize a new node with data and next pointer\n",
    "        self.data = data\n",
    "        self.next = None\n",
    "\n",
    "\n",
    "def insert_at_beginning(head, data):\n",
    "    # Insert a new node at the beginning of the linked list\n",
    "    new_node = Node(data)\n",
    "    new_node.next = head\n",
    "    return new_node\n",
    "\n",
    "\n",
    "def insert_after_node(node, data):\n",
    "    # Insert a new node with given data after the specified node\n",
    "    if node is None:\n",
    "        print(\"Error: The given node is None\")\n",
    "        return\n",
    "\n",
    "    new_node = Node(data)\n",
    "    new_node.next = node.next\n",
    "    node.next = new_node\n",
    "\n",
    "\n",
    "def traverse(head):\n",
    "    # Traverse the linked list and print its elements\n",
    "    current = head\n",
    "    while current:\n",
    "        print(current.data, end=\" -> \")\n",
    "        current = current.next\n",
    "    print(\"None\")\n",
    "\n",
    "\n",
    "# Driver Code\n",
    "head = None\n",
    "head = insert_at_beginning(head, 4)\n",
    "head = insert_at_beginning(head, 3)\n",
    "head = insert_at_beginning(head, 1)\n",
    "\n",
    " # Insert 2 after the node with data 1\n",
    "insert_after_node(head, 24) \n",
    "\n",
    "# Traverse and print the nodes after insertion\n",
    "traverse(head)  \n"
   ]
  },
  {
   "cell_type": "code",
   "execution_count": 9,
   "id": "67e40a45",
   "metadata": {},
   "outputs": [
    {
     "name": "stdout",
     "output_type": "stream",
     "text": [
      "1 -> 2 -> 3 -> 42 -> None\n"
     ]
    }
   ],
   "source": [
    "# Python Program for the insertion at the end of the Singly Linked List\n",
    "class Node:\n",
    "    def __init__(self, data):\n",
    "        # Initialize a new node with data and next pointer\n",
    "        self.data = data\n",
    "        self.next = None\n",
    "\n",
    "\n",
    "def insert_at_beginning(head, data):\n",
    "    # Insert a new node at the beginning of the linked list\n",
    "    new_node = Node(data)\n",
    "    new_node.next = head\n",
    "    return new_node\n",
    "\n",
    "\n",
    "def insert_at_end(head, data):\n",
    "    # Insert a new node with given data at the end of the linked list\n",
    "    new_node = Node(data)\n",
    "    if head is None:\n",
    "        return new_node\n",
    "\n",
    "    current = head\n",
    "    while current.next:\n",
    "        current = current.next\n",
    "\n",
    "    current.next = new_node\n",
    "    return head\n",
    "\n",
    "\n",
    "def traverse(head):\n",
    "    # Traverse the linked list and print its elements\n",
    "    current = head\n",
    "    while current:\n",
    "        print(current.data, end=\" -> \")\n",
    "        current = current.next\n",
    "    print(\"None\")\n",
    "\n",
    "\n",
    "# Driver Code\n",
    "head = None\n",
    "head = insert_at_beginning(head, 3)\n",
    "head = insert_at_beginning(head, 2)\n",
    "head = insert_at_beginning(head, 1)\n",
    "\n",
    "# Insert 4 at the end\n",
    "insert_at_end(head, 42)\n",
    "\n",
    "# Traverse and print the nodes after insertion\n",
    "traverse(head)\n",
    "\n"
   ]
  },
  {
   "cell_type": "code",
   "execution_count": null,
   "id": "1eef706f",
   "metadata": {},
   "outputs": [],
   "source": []
  }
 ],
 "metadata": {
  "kernelspec": {
   "display_name": "Python 3 (ipykernel)",
   "language": "python",
   "name": "python3"
  },
  "language_info": {
   "codemirror_mode": {
    "name": "ipython",
    "version": 3
   },
   "file_extension": ".py",
   "mimetype": "text/x-python",
   "name": "python",
   "nbconvert_exporter": "python",
   "pygments_lexer": "ipython3",
   "version": "3.11.5"
  }
 },
 "nbformat": 4,
 "nbformat_minor": 5
}
