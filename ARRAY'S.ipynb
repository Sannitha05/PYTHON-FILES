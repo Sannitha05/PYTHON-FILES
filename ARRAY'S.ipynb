{
 "cells": [
  {
   "cell_type": "code",
   "execution_count": 1,
   "id": "dda0568d",
   "metadata": {},
   "outputs": [
    {
     "name": "stdout",
     "output_type": "stream",
     "text": [
      "Array before insertion :  1 2 3 \n",
      "Array after insertion :  1 4 2 3 \n",
      "Array before insertion :  2.5 3.2 3.3 \n",
      "Array after insertion :  2.5 3.2 3.3 4.4 \n"
     ]
    }
   ],
   "source": [
    "# adding elements to array\n",
    "import array as arr\n",
    "a = arr.array('i', [1, 2, 3])\n",
    "print(\"Array before insertion : \", end=\" \")\n",
    "for i in range(0, 3):\n",
    "    print(a[i], end=\" \")\n",
    "print()\n",
    "a.insert(1, 4)\n",
    "print(\"Array after insertion : \", end=\" \")\n",
    "for i in (a):\n",
    "    print(i, end=\" \")\n",
    "print()\n",
    "b = arr.array('d', [2.5, 3.2, 3.3])\n",
    "print(\"Array before insertion : \", end=\" \")\n",
    "for i in range(0, 3):\n",
    "    print(b[i], end=\" \")\n",
    "print()\n",
    "b.append(4.4)\n",
    "print(\"Array after insertion : \", end=\" \")\n",
    "for i in (b):\n",
    "    print(i, end=\" \")\n",
    "print()"
   ]
  },
  {
   "cell_type": "code",
   "execution_count": 2,
   "id": "e724ea4f",
   "metadata": {},
   "outputs": [
    {
     "name": "stdout",
     "output_type": "stream",
     "text": [
      "The new created array is : 1 2 3 1 5 \r\n",
      "The popped element is : 3\n",
      "The array after popping is : 1 2 1 5 \r\n",
      "The array after removing is : 2 1 5 "
     ]
    }
   ],
   "source": [
    "# removing elements from array\n",
    "import array\n",
    "arr = array.array('i', [1, 2, 3, 1, 5])\n",
    "print(\"The new created array is : \", end=\"\")\n",
    "for i in range(0, 5):\n",
    "    print(arr[i], end=\" \")\n",
    "\n",
    "print(\"\\r\")\n",
    "print(\"The popped element is : \", end=\"\")\n",
    "print(arr.pop(2))\n",
    "print(\"The array after popping is : \", end=\"\")\n",
    "for i in range(0, 4):\n",
    "    print(arr[i], end=\" \")\n",
    "\n",
    "print(\"\\r\")\n",
    "arr.remove(1)\n",
    "print(\"The array after removing is : \", end=\"\")\n",
    "for i in range(0, 3):\n",
    "    print(arr[i], end=\" \")"
   ]
  },
  {
   "cell_type": "code",
   "execution_count": 5,
   "id": "3a100afa",
   "metadata": {},
   "outputs": [
    {
     "name": "stdout",
     "output_type": "stream",
     "text": [
      "Initial Array: \n",
      "1 2 3 4 5 6 7 8 9 10 \n",
      "Slicing elements in a range 3-8: \n",
      "array('i', [4, 5, 6, 7, 8])\n",
      "\n",
      "Elements sliced from 5th element till the end: \n",
      "array('i', [6, 7, 8, 9, 10])\n",
      "\n",
      "Printing all elements using slice operation: \n",
      "array('i', [1, 2, 3, 4, 5, 6, 7, 8, 9, 10])\n"
     ]
    }
   ],
   "source": [
    "# slicing of an array\n",
    "import array as arr\n",
    "l = [1, 2, 3, 4, 5, 6, 7, 8, 9, 10]\n",
    "\n",
    "a = arr.array(\"i\", l)\n",
    "print(\"Initial Array: \")\n",
    "for i in (a):\n",
    "    print(i, end=\" \")\n",
    "Sliced_array = a[3:8]\n",
    "print(\"\\nSlicing elements in a range 3-8: \")\n",
    "print(Sliced_array)\n",
    "Sliced_array = a[5:]\n",
    "print(\"\\nElements sliced from 5th \"\n",
    "      \"element till the end: \")\n",
    "print(Sliced_array)\n",
    "Sliced_array = a[:]\n",
    "print(\"\\nPrinting all elements using slice operation: \")\n",
    "print(Sliced_array)"
   ]
  },
  {
   "cell_type": "code",
   "execution_count": 6,
   "id": "73eea3e7",
   "metadata": {},
   "outputs": [
    {
     "name": "stdout",
     "output_type": "stream",
     "text": [
      "The new created array is : 1 2 3 1 2 5 \r\n",
      "The index of 1st occurrence of 2 is : 1\n",
      "The index of 1st occurrence of 1 is : 0\n"
     ]
    }
   ],
   "source": [
    "# searching element in array\n",
    "import array\n",
    "arr = array.array('i', [1, 2, 3, 1, 2, 5])\n",
    "print(\"The new created array is : \", end=\"\")\n",
    "for i in range(0, 6):\n",
    "    print(arr[i], end=\" \")\n",
    "\n",
    "print(\"\\r\")\n",
    "print(\"The index of 1st occurrence of 2 is : \", end=\"\")\n",
    "print(arr.index(2))\n",
    "print(\"The index of 1st occurrence of 1 is : \", end=\"\")\n",
    "print(arr.index(1))"
   ]
  },
  {
   "cell_type": "code",
   "execution_count": 7,
   "id": "b9aaa7ad",
   "metadata": {},
   "outputs": [
    {
     "name": "stdout",
     "output_type": "stream",
     "text": [
      "Array before updation : 1 2 3 1 2 5 \r\n",
      "Array after updation : 1 2 6 1 2 5 \n",
      "Array after updation : 1 2 6 1 8 5 "
     ]
    }
   ],
   "source": [
    "# updating elements in array\n",
    "import array\n",
    "arr = array.array('i', [1, 2, 3, 1, 2, 5])\n",
    "print(\"Array before updation : \", end=\"\")\n",
    "for i in range(0, 6):\n",
    "    print(arr[i], end=\" \")\n",
    "\n",
    "print(\"\\r\")\n",
    "arr[2] = 6\n",
    "print(\"Array after updation : \", end=\"\")\n",
    "for i in range(0, 6):\n",
    "    print(arr[i], end=\" \")\n",
    "print()\n",
    "arr[4] = 8\n",
    "print(\"Array after updation : \", end=\"\")\n",
    "for i in range(0, 6):\n",
    "    print(arr[i], end=\" \")"
   ]
  },
  {
   "cell_type": "code",
   "execution_count": null,
   "id": "bcfe8cdb",
   "metadata": {},
   "outputs": [],
   "source": []
  }
 ],
 "metadata": {
  "kernelspec": {
   "display_name": "Python 3 (ipykernel)",
   "language": "python",
   "name": "python3"
  },
  "language_info": {
   "codemirror_mode": {
    "name": "ipython",
    "version": 3
   },
   "file_extension": ".py",
   "mimetype": "text/x-python",
   "name": "python",
   "nbconvert_exporter": "python",
   "pygments_lexer": "ipython3",
   "version": "3.11.5"
  }
 },
 "nbformat": 4,
 "nbformat_minor": 5
}
