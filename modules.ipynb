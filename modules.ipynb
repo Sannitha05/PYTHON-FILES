{
 "cells": [
  {
   "cell_type": "code",
   "execution_count": 1,
   "id": "fc061b75",
   "metadata": {},
   "outputs": [
    {
     "name": "stdout",
     "output_type": "stream",
     "text": [
      "Sin(0) = 0.0\n",
      "Sin(30) = 0.49999999999999994\n",
      "Sin(45) = 0.7071067811865476\n",
      "Sin(60) = 0.8660254037844386\n",
      "Sin(90) = 1.0\n"
     ]
    }
   ],
   "source": [
    "import math\n",
    "\n",
    "print(\"Sin(0) =\", math.sin(0))\n",
    "print(\"Sin(30) =\", math.sin(math.pi/6))\n",
    "print(\"Sin(45) =\", math.sin(math.pi/4))\n",
    "print(\"Sin(60) =\", math.sin(math.pi/3))\n",
    "print(\"Sin(90) =\", math.sin(math.pi/2))"
   ]
  },
  {
   "cell_type": "code",
   "execution_count": 2,
   "id": "ce81fc7d",
   "metadata": {},
   "outputs": [
    {
     "name": "stdout",
     "output_type": "stream",
     "text": [
      "Enter first number: 32\n",
      "Enter second number: 2\n",
      "Addition: 34\n",
      "Subtraction: 30\n",
      "Multiplication: 64\n",
      "Division: 16.0\n"
     ]
    }
   ],
   "source": [
    "num1 = int(input(\"Enter first number: \"))\n",
    "num2 = int(input(\"Enter second number: \"))\n",
    "addition = num1 + num2\n",
    "subtraction = num1 - num2\n",
    "multiplication = num1 * num2\n",
    "division = num1 / num2\n",
    "print(\"Addition:\", addition)\n",
    "print(\"Subtraction:\", subtraction)\n",
    "print(\"Multiplication:\", multiplication)\n",
    "print(\"Division:\", division)"
   ]
  },
  {
   "cell_type": "code",
   "execution_count": null,
   "id": "801d2457",
   "metadata": {},
   "outputs": [],
   "source": []
  }
 ],
 "metadata": {
  "kernelspec": {
   "display_name": "Python 3 (ipykernel)",
   "language": "python",
   "name": "python3"
  },
  "language_info": {
   "codemirror_mode": {
    "name": "ipython",
    "version": 3
   },
   "file_extension": ".py",
   "mimetype": "text/x-python",
   "name": "python",
   "nbconvert_exporter": "python",
   "pygments_lexer": "ipython3",
   "version": "3.11.5"
  }
 },
 "nbformat": 4,
 "nbformat_minor": 5
}
