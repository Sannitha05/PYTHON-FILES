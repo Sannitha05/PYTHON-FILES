{
 "cells": [
  {
   "cell_type": "code",
   "execution_count": 5,
   "id": "7a490f89",
   "metadata": {},
   "outputs": [
    {
     "name": "stdout",
     "output_type": "stream",
     "text": [
      "sorted array: [0, 2, 1, 2, 0, 1]\n"
     ]
    }
   ],
   "source": [
    "def dutch_national_flag(arr):\n",
    "    n = len(arr)\n",
    "    low =0\n",
    "    mid = 0\n",
    "    high = n-1\n",
    "    while mid <= high:\n",
    "        if arr[mid]==0:\n",
    "            arr[low],arr[mid] = arr[mid], arr[low]\n",
    "            low+=1\n",
    "            mid+=1\n",
    "        elif arr[mid]==1:\n",
    "            mid+=1\n",
    "        else:\n",
    "            arr[mid],arr[high] = arr[high], arr[mid]\n",
    "            high-=1\n",
    "        return arr\n",
    "    \n",
    "arr = [0,2,1,2,0,1]\n",
    "print(\"sorted array:\", dutch_national_flag(arr))"
   ]
  },
  {
   "cell_type": "code",
   "execution_count": null,
   "id": "19cda13d",
   "metadata": {},
   "outputs": [],
   "source": []
  }
 ],
 "metadata": {
  "kernelspec": {
   "display_name": "Python 3 (ipykernel)",
   "language": "python",
   "name": "python3"
  },
  "language_info": {
   "codemirror_mode": {
    "name": "ipython",
    "version": 3
   },
   "file_extension": ".py",
   "mimetype": "text/x-python",
   "name": "python",
   "nbconvert_exporter": "python",
   "pygments_lexer": "ipython3",
   "version": "3.11.5"
  }
 },
 "nbformat": 4,
 "nbformat_minor": 5
}
