{
 "cells": [
  {
   "cell_type": "code",
   "execution_count": 4,
   "id": "9813df82",
   "metadata": {},
   "outputs": [
    {
     "name": "stdout",
     "output_type": "stream",
     "text": [
      "Number of paths that sum up to 8 : 3\n"
     ]
    }
   ],
   "source": [
    "from collections import Counter\n",
    "from typing import Optional\n",
    "\n",
    "# Definition for a binary tree node.\n",
    "class TreeNode:\n",
    "    def __init__(self, val=0, left=None, right=None):\n",
    "        self.val = val\n",
    "        self.left = left\n",
    "        self.right = right\n",
    "\n",
    "class Solution:\n",
    "    def pathSum(self, root: Optional[TreeNode], target_sum: int) -> int:\n",
    "        \n",
    "        def dfs(node, current_sum):\n",
    "            if node is None:\n",
    "                return 0\n",
    "            current_sum += node.val\n",
    "          \n",
    "            path_count = path_counts[current_sum - target_sum]\n",
    "          \n",
    "            path_counts[current_sum] += 1\n",
    "          \n",
    "            path_count += dfs(node.left, current_sum)\n",
    "            path_count += dfs(node.right, current_sum)\n",
    "          \n",
    "            path_counts[current_sum] -= 1\n",
    "          \n",
    "            return path_count\n",
    "\n",
    "        path_counts = Counter({0: 1})\n",
    "      \n",
    "        return dfs(root, 0)\n",
    "\n",
    "root = TreeNode(10)\n",
    "root.left = TreeNode(5)\n",
    "root.right = TreeNode(-3)\n",
    "root.left.left = TreeNode(3)\n",
    "root.left.right = TreeNode(2)\n",
    "root.right.right = TreeNode(11)\n",
    "root.left.left.left = TreeNode(3)\n",
    "root.left.left.right = TreeNode(-2)\n",
    "root.left.right.right = TreeNode(1)\n",
    "\n",
    "target_sum = 8\n",
    "\n",
    "solution = Solution()\n",
    "result = solution.pathSum(root, target_sum)\n",
    "print(\"Number of paths that sum up to\", target_sum, \":\", result)"
   ]
  }
 ],
 "metadata": {
  "kernelspec": {
   "display_name": "Python 3 (ipykernel)",
   "language": "python",
   "name": "python3"
  },
  "language_info": {
   "codemirror_mode": {
    "name": "ipython",
    "version": 3
   },
   "file_extension": ".py",
   "mimetype": "text/x-python",
   "name": "python",
   "nbconvert_exporter": "python",
   "pygments_lexer": "ipython3",
   "version": "3.11.5"
  }
 },
 "nbformat": 4,
 "nbformat_minor": 5
}
