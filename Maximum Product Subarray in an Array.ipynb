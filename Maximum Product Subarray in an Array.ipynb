{
 "cells": [
  {
   "cell_type": "code",
   "execution_count": 1,
   "id": "75478f41",
   "metadata": {},
   "outputs": [
    {
     "name": "stdout",
     "output_type": "stream",
     "text": [
      "4 5 3 7 1 2\n",
      "840\n"
     ]
    }
   ],
   "source": [
    "''' Given an integer array nums ,find the contiguous subarray within the array (containing at least one number) that has the largest product, and return that product.\n",
    "A subarray is a contiguous, non-empty sequence of elements within an array.\n",
    "Examples\n",
    "Example 1:\n",
    "Input:\n",
    "nums = [4, 5, 3, 7, 1, 2]\n",
    "Output:\n",
    "840\n",
    "Explanation:\n",
    "The largest product is achieved by taking the entire array.\n",
    "\n",
    "Example 2:\n",
    "Input:\n",
    "nums = [-5, 0, -2]\n",
    "Output:\n",
    "0\n",
    "Explanation:\n",
    "The maximum product is 0, obtained from subarrays like [0], [-5, 0], or [0, -2].\n",
    "\n",
    "Example 3:\n",
    "Input:\n",
    "nums = [1, -2, 3, 4, -4, -3]\n",
    "Output:\n",
    "144\n",
    "Explanation:\n",
    "The maximum product is from the subarray [3, 4, -4, -3] → 3×4×(-4)×(-3) = 144.'''\n",
    "\n",
    "\n",
    "\n",
    "#code\n",
    "arr = list(map(int,input().split()))\n",
    "max_prod = min_prod = result = arr[0]\n",
    "for num in arr[1:]:\n",
    "    if num < 0:\n",
    "        max_prod , min_prod = min_prod , max_prod\n",
    "    max_prod = max(num , max_prod*num)\n",
    "    min_prod = min(num , min_prod*num)\n",
    "    \n",
    "    result = max(result,max_prod)\n",
    "print(result)"
   ]
  },
  {
   "cell_type": "code",
   "execution_count": 2,
   "id": "a79bf6d8",
   "metadata": {},
   "outputs": [
    {
     "name": "stdout",
     "output_type": "stream",
     "text": [
      "1 -2 3 4 -3 -4\n",
      "144\n"
     ]
    }
   ],
   "source": [
    "arr = list(map(int,input().split()))\n",
    "max_prod = min_prod = result = arr[0]\n",
    "for num in arr[1:]:\n",
    "    if num < 0:\n",
    "        max_prod , min_prod = min_prod , max_prod\n",
    "    max_prod = max(num , max_prod*num)\n",
    "    min_prod = min(num , min_prod*num)\n",
    "    \n",
    "    result = max(result,max_prod)\n",
    "print(result)"
   ]
  },
  {
   "cell_type": "code",
   "execution_count": 3,
   "id": "71f8eba9",
   "metadata": {},
   "outputs": [
    {
     "name": "stdout",
     "output_type": "stream",
     "text": [
      "-5 0 -2\n",
      "0\n"
     ]
    }
   ],
   "source": [
    "arr = list(map(int,input().split()))\n",
    "max_prod = min_prod = result = arr[0]\n",
    "for num in arr[1:]:\n",
    "    if num < 0:\n",
    "        max_prod , min_prod = min_prod , max_prod\n",
    "    max_prod = max(num , max_prod*num)\n",
    "    min_prod = min(num , min_prod*num)\n",
    "    \n",
    "    result = max(result,max_prod)\n",
    "print(result)"
   ]
  },
  {
   "cell_type": "code",
   "execution_count": 4,
   "id": "f842f56c",
   "metadata": {},
   "outputs": [
    {
     "name": "stdout",
     "output_type": "stream",
     "text": [
      "1 2 3\n",
      "6\n"
     ]
    }
   ],
   "source": [
    "arr = list(map(int,input().split()))\n",
    "max_prod = min_prod = result = arr[0]\n",
    "for num in arr[1:]:\n",
    "    if num < 0:\n",
    "        max_prod , min_prod = min_prod , max_prod\n",
    "    max_prod = max(num , max_prod*num)\n",
    "    min_prod = min(num , min_prod*num)\n",
    "    \n",
    "    result = max(result,max_prod)\n",
    "print(result)"
   ]
  },
  {
   "cell_type": "code",
   "execution_count": 5,
   "id": "c3fadf05",
   "metadata": {},
   "outputs": [
    {
     "name": "stdout",
     "output_type": "stream",
     "text": [
      "1 2 3 4 5 6 7\n",
      "5040\n"
     ]
    }
   ],
   "source": [
    "arr = list(map(int,input().split()))\n",
    "max_prod = min_prod = result = arr[0]\n",
    "for num in arr[1:]:\n",
    "    if num < 0:\n",
    "        max_prod , min_prod = min_prod , max_prod\n",
    "    max_prod = max(num , max_prod*num)\n",
    "    min_prod = min(num , min_prod*num)\n",
    "    \n",
    "    result = max(result,max_prod)\n",
    "print(result)"
   ]
  },
  {
   "cell_type": "code",
   "execution_count": 6,
   "id": "139d9ee7",
   "metadata": {},
   "outputs": [
    {
     "name": "stdout",
     "output_type": "stream",
     "text": [
      "1 2 3 4 5\n",
      "120\n"
     ]
    }
   ],
   "source": [
    "arr = list(map(int,input().split()))\n",
    "max_prod = min_prod = result = arr[0]\n",
    "for num in arr[1:]:\n",
    "    if num < 0:\n",
    "        max_prod , min_prod = min_prod , max_prod\n",
    "    max_prod = max(num , max_prod*num)\n",
    "    min_prod = min(num , min_prod*num)\n",
    "    \n",
    "    result = max(result,max_prod)\n",
    "print(result)"
   ]
  },
  {
   "cell_type": "code",
   "execution_count": 2,
   "id": "1c419c43",
   "metadata": {},
   "outputs": [
    {
     "name": "stdout",
     "output_type": "stream",
     "text": [
      "2 3 4 5\n",
      "256\n"
     ]
    }
   ],
   "source": [
    "def prod_of_subarray(arr):\n",
    "    n = len(arr)\n",
    "    total_prod = 0\n",
    "    for i in range(n):\n",
    "        current_prod = arr[i]\n",
    "        for j in range(i, n):\n",
    "            if i != j:\n",
    "                current_prod *= arr[j]\n",
    "            total_prod += current_prod\n",
    "    return total_prod\n",
    "    \n",
    "arr = list(map(int,input().split()))\n",
    "print(prod_of_subarray(arr))\n",
    "    "
   ]
  },
  {
   "cell_type": "code",
   "execution_count": null,
   "id": "d4925f43",
   "metadata": {},
   "outputs": [],
   "source": []
  }
 ],
 "metadata": {
  "kernelspec": {
   "display_name": "Python 3 (ipykernel)",
   "language": "python",
   "name": "python3"
  },
  "language_info": {
   "codemirror_mode": {
    "name": "ipython",
    "version": 3
   },
   "file_extension": ".py",
   "mimetype": "text/x-python",
   "name": "python",
   "nbconvert_exporter": "python",
   "pygments_lexer": "ipython3",
   "version": "3.11.5"
  }
 },
 "nbformat": 4,
 "nbformat_minor": 5
}
