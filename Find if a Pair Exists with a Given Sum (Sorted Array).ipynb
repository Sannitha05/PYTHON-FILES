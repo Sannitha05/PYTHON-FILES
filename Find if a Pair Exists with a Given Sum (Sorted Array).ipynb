{
 "cells": [
  {
   "cell_type": "code",
   "execution_count": 1,
   "id": "32dde700",
   "metadata": {},
   "outputs": [
    {
     "name": "stdout",
     "output_type": "stream",
     "text": [
      "True\n"
     ]
    }
   ],
   "source": [
    "def has_pair_with_sum(arr, target):\n",
    "    left = 0\n",
    "    right = len(arr) - 1\n",
    "\n",
    "    while left < right:\n",
    "        current_sum = arr[left] + arr[right]\n",
    "        if current_sum == target:\n",
    "            return True\n",
    "        elif current_sum < target:\n",
    "            left += 1\n",
    "        else:\n",
    "            right -= 1\n",
    "    return False\n",
    "\n",
    "# Example usage\n",
    "arr = [1, 2, 3, 4, 6, 8, 9]\n",
    "target = 10\n",
    "print(has_pair_with_sum(arr, target))  # Output: True (1 + 9, 2 + 8, etc.)\n"
   ]
  },
  {
   "cell_type": "code",
   "execution_count": 3,
   "id": "8222b8f2",
   "metadata": {},
   "outputs": [
    {
     "name": "stdout",
     "output_type": "stream",
     "text": [
      "Pair found: 1 + 9 = 10\n"
     ]
    }
   ],
   "source": [
    "def has_pair_with_sum(arr, target):\n",
    "    left = 0\n",
    "    right = len(arr) - 1\n",
    "\n",
    "    while left < right:\n",
    "        current_sum = arr[left] + arr[right]\n",
    "        if current_sum == target:\n",
    "            return (arr[left], arr[right])\n",
    "        elif current_sum < target:\n",
    "            left += 1\n",
    "        else:\n",
    "            right -= 1\n",
    "    return None\n",
    "\n",
    "# Example usage\n",
    "arr = [1, 2, 3, 4, 6, 8, 9]\n",
    "target = 10\n",
    "result = has_pair_with_sum(arr, target)\n",
    "\n",
    "if result:\n",
    "    print(f\"Pair found: {result[0]} + {result[1]} = {target}\")\n",
    "else:\n",
    "    print(\"No pair found.\")\n"
   ]
  },
  {
   "cell_type": "code",
   "execution_count": 4,
   "id": "6cbb3f2c",
   "metadata": {},
   "outputs": [
    {
     "name": "stdout",
     "output_type": "stream",
     "text": [
      "Pairs found:\n",
      "1 + 9 = 10\n",
      "2 + 8 = 10\n",
      "4 + 6 = 10\n"
     ]
    }
   ],
   "source": [
    "def all_pairs_with_sum(arr, target):\n",
    "    left = 0\n",
    "    right = len(arr) - 1\n",
    "    pairs = []\n",
    "\n",
    "    while left < right:\n",
    "        current_sum = arr[left] + arr[right]\n",
    "        if current_sum == target:\n",
    "            pairs.append((arr[left], arr[right]))\n",
    "            left += 1\n",
    "            right -= 1\n",
    "        elif current_sum < target:\n",
    "            left += 1\n",
    "        else:\n",
    "            right -= 1\n",
    "\n",
    "    return pairs\n",
    "\n",
    "# Example usage\n",
    "arr = [1, 2, 3, 4, 6, 8, 9]\n",
    "target = 10\n",
    "result = all_pairs_with_sum(arr, target)\n",
    "\n",
    "if result:\n",
    "    print(\"Pairs found:\")\n",
    "    for a, b in result:\n",
    "        print(f\"{a} + {b} = {target}\")\n",
    "else:\n",
    "    print(\"No pairs found.\")\n"
   ]
  },
  {
   "cell_type": "code",
   "execution_count": null,
   "id": "55641a04",
   "metadata": {},
   "outputs": [],
   "source": []
  }
 ],
 "metadata": {
  "kernelspec": {
   "display_name": "Python 3 (ipykernel)",
   "language": "python",
   "name": "python3"
  },
  "language_info": {
   "codemirror_mode": {
    "name": "ipython",
    "version": 3
   },
   "file_extension": ".py",
   "mimetype": "text/x-python",
   "name": "python",
   "nbconvert_exporter": "python",
   "pygments_lexer": "ipython3",
   "version": "3.11.5"
  }
 },
 "nbformat": 4,
 "nbformat_minor": 5
}
