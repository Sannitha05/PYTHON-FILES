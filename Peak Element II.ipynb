{
 "cells": [
  {
   "cell_type": "code",
   "execution_count": 1,
   "id": "6ebd3222",
   "metadata": {},
   "outputs": [],
   "source": [
    "def findPeakGrid(mat):\n",
    "    m, n = len(mat), len(mat[0])\n",
    "    \n",
    "    for i in range(m):          \n",
    "        for j in range(n):     \n",
    "            up = mat[i-1][j] if i > 0 else -1\n",
    "            down = mat[i+1][j] if i < m-1 else -1\n",
    "            left = mat[i][j-1] if j > 0 else -1\n",
    "            right = mat[i][j+1] if j < n-1 else -1\n",
    "\n",
    "            if mat[i][j] > max(up, down, left, right):\n",
    "                return [i, j]  \n",
    "    return [-1, -1]  \n",
    "\n"
   ]
  },
  {
   "cell_type": "code",
   "execution_count": 2,
   "id": "6ae2cf7e",
   "metadata": {},
   "outputs": [],
   "source": [
    "def findPeakGrid(arr):\n",
    "    m, n = len(arr), len(arr[0])\n",
    "\n",
    "    for i in range(m):\n",
    "        for j in range(n):\n",
    "            up = arr[i - 1][j] if i > 0 else -1\n",
    "            down = arr[i + 1][j] if i < m - 1 else -1 \n",
    "            left = arr[i][j - 1] if j > 0 else -1\n",
    "            right = arr[i][j + 1] if j < n - 1 else -1\n",
    "\n",
    "            is_peak = True  # assume it's a peak\n",
    "\n",
    "            if arr[i][j] <= up:\n",
    "                is_peak = False\n",
    "            if arr[i][j] <= down:\n",
    "                is_peak = False\n",
    "            if arr[i][j] <= left:\n",
    "                is_peak = False\n",
    "            if arr[i][j] <= right:\n",
    "                is_peak = False\n",
    "\n",
    "            if is_peak:\n",
    "                return [i, j]\n",
    "\n",
    "    return [-1, -1]\n"
   ]
  },
  {
   "cell_type": "code",
   "execution_count": 3,
   "id": "9d204dc5",
   "metadata": {},
   "outputs": [
    {
     "ename": "NameError",
     "evalue": "name 'List' is not defined",
     "output_type": "error",
     "traceback": [
      "\u001b[1;31m---------------------------------------------------------------------------\u001b[0m",
      "\u001b[1;31mNameError\u001b[0m                                 Traceback (most recent call last)",
      "Cell \u001b[1;32mIn[3], line 1\u001b[0m\n\u001b[1;32m----> 1\u001b[0m \u001b[38;5;28;01mclass\u001b[39;00m \u001b[38;5;21;01mSolution\u001b[39;00m:\n\u001b[0;32m      2\u001b[0m     \u001b[38;5;28;01mdef\u001b[39;00m \u001b[38;5;21mfindPeakGrid\u001b[39m(\u001b[38;5;28mself\u001b[39m, mat: List[List[\u001b[38;5;28mint\u001b[39m]]) \u001b[38;5;241m-\u001b[39m\u001b[38;5;241m>\u001b[39m List[\u001b[38;5;28mint\u001b[39m]:\n\u001b[0;32m      3\u001b[0m         m, n \u001b[38;5;241m=\u001b[39m \u001b[38;5;28mlen\u001b[39m(mat), \u001b[38;5;28mlen\u001b[39m(mat[\u001b[38;5;241m0\u001b[39m])\n",
      "Cell \u001b[1;32mIn[3], line 2\u001b[0m, in \u001b[0;36mSolution\u001b[1;34m()\u001b[0m\n\u001b[0;32m      1\u001b[0m \u001b[38;5;28;01mclass\u001b[39;00m \u001b[38;5;21;01mSolution\u001b[39;00m:\n\u001b[1;32m----> 2\u001b[0m     \u001b[38;5;28;01mdef\u001b[39;00m \u001b[38;5;21mfindPeakGrid\u001b[39m(\u001b[38;5;28mself\u001b[39m, mat: List[List[\u001b[38;5;28mint\u001b[39m]]) \u001b[38;5;241m-\u001b[39m\u001b[38;5;241m>\u001b[39m List[\u001b[38;5;28mint\u001b[39m]:\n\u001b[0;32m      3\u001b[0m         m, n \u001b[38;5;241m=\u001b[39m \u001b[38;5;28mlen\u001b[39m(mat), \u001b[38;5;28mlen\u001b[39m(mat[\u001b[38;5;241m0\u001b[39m])\n\u001b[0;32m      4\u001b[0m         left, right \u001b[38;5;241m=\u001b[39m \u001b[38;5;241m0\u001b[39m, n \u001b[38;5;241m-\u001b[39m \u001b[38;5;241m1\u001b[39m\n",
      "\u001b[1;31mNameError\u001b[0m: name 'List' is not defined"
     ]
    }
   ],
   "source": [
    "class Solution:\n",
    "    def findPeakGrid(self, mat: List[List[int]]) -> List[int]:\n",
    "        m, n = len(mat), len(mat[0])\n",
    "        left, right = 0, n - 1\n",
    "\n",
    "        while left <= right:\n",
    "            mid = (left + right) // 2\n",
    "            max_row = max(range(m), key=lambda i: mat[i][mid])\n",
    "            left_val = mat[max_row][mid - 1] if mid > 0 else -1\n",
    "            right_val = mat[max_row][mid + 1] if mid < n - 1 else -1\n",
    "\n",
    "            if mat[max_row][mid] >= left_val and mat[max_row][mid] >= right_val:\n",
    "                return [max_row, mid]\n",
    "            elif left_val > mat[max_row][mid]:\n",
    "                right = mid - 1\n",
    "            else:\n",
    "                left = mid + 1\n",
    "\n",
    "        return [-1, -1]\n"
   ]
  },
  {
   "cell_type": "code",
   "execution_count": null,
   "id": "5ed93f7a",
   "metadata": {},
   "outputs": [],
   "source": []
  }
 ],
 "metadata": {
  "kernelspec": {
   "display_name": "Python 3 (ipykernel)",
   "language": "python",
   "name": "python3"
  },
  "language_info": {
   "codemirror_mode": {
    "name": "ipython",
    "version": 3
   },
   "file_extension": ".py",
   "mimetype": "text/x-python",
   "name": "python",
   "nbconvert_exporter": "python",
   "pygments_lexer": "ipython3",
   "version": "3.11.5"
  }
 },
 "nbformat": 4,
 "nbformat_minor": 5
}
