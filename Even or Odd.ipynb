{
 "cells": [
  {
   "cell_type": "code",
   "execution_count": 1,
   "id": "1aa3999c",
   "metadata": {},
   "outputs": [
    {
     "name": "stdout",
     "output_type": "stream",
     "text": [
      "1 9\n",
      "4\n"
     ]
    }
   ],
   "source": [
    "'''\n",
    "Given a range [L, R], your task is to count the numbers within this range that have the following property: they should have an even number of odd digits and an odd number of even digits.\n",
    "\n",
    "For example:\n",
    "The number 8 has 1 even digit and 0 odd digits. This satisfies the condition since 1 is odd and 0 is even.\n",
    "The number 545 has 1 even digit and 2 odd digits. This satisfies the condition since 1 is odd and 2 is even.\n",
    "The number 4834 has 3 even digits and 1 odd digit. This does not satisfy the condition because it has an odd number of odd digits.\n",
    "\n",
    "Write a program to solve this problem using arrays for storing and manipulating the digits of each number.\n",
    "Sample Input:\n",
    "1 9 // L = 1, R = 9\n",
    "\n",
    "Output:\n",
    "4\n",
    "Explanation:\n",
    "2, 4, 6 and 8 are the only integers from the given range that satisfy the given conditions.\n",
    "Instruction: To run your custom test cases strictly map your input and output layout with the visible test cases.'''\n",
    "\n",
    "\n",
    "\n",
    "#solution:\n",
    "\n",
    "def is_valid(num):\n",
    "    even_count = 0\n",
    "    odd_count = 0\n",
    "    for digit in str(num):\n",
    "        if int(digit)%2 ==0:\n",
    "            even_count +=1\n",
    "        else:\n",
    "            odd_count+=1\n",
    "    return (odd_count%2 == 0) and (even_count%2==1)\n",
    "def count_number(L,R):\n",
    "    count=0\n",
    "    for num in range(L,R):\n",
    "        if is_valid(num):\n",
    "            count+=1\n",
    "    return count\n",
    "\n",
    "\n",
    "\n",
    "L, R = map(int,input().split())\n",
    "print(count_number(L,R))\n",
    "\n"
   ]
  },
  {
   "cell_type": "code",
   "execution_count": null,
   "id": "ccec23fe",
   "metadata": {},
   "outputs": [],
   "source": []
  }
 ],
 "metadata": {
  "kernelspec": {
   "display_name": "Python 3 (ipykernel)",
   "language": "python",
   "name": "python3"
  },
  "language_info": {
   "codemirror_mode": {
    "name": "ipython",
    "version": 3
   },
   "file_extension": ".py",
   "mimetype": "text/x-python",
   "name": "python",
   "nbconvert_exporter": "python",
   "pygments_lexer": "ipython3",
   "version": "3.11.5"
  }
 },
 "nbformat": 4,
 "nbformat_minor": 5
}
