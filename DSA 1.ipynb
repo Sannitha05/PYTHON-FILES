{
 "cells": [
  {
   "cell_type": "code",
   "execution_count": 16,
   "id": "15ac639c",
   "metadata": {},
   "outputs": [
    {
     "name": "stdout",
     "output_type": "stream",
     "text": [
      "[1, 2, 3, 2, 3, 4, 5]\n",
      "[1, 2, 3, 4, 5]\n",
      "The median of above list is: 2\n",
      "The num is at location: 3\n"
     ]
    }
   ],
   "source": [
    "#median of two sorted arrays in binary search algo.\n",
    "l1=[1,2,3]\n",
    "l2=[2,3,4,5]\n",
    "l1.extend(l2)\n",
    "print(l1)\n",
    "l3=list(set(l1))\n",
    "print(l3)\n",
    "t=len(l3)\n",
    "s=t//2\n",
    "print(\"The median of above list is:\",s)\n",
    "ans=l3[s]\n",
    "print(\"The num is at location:\",ans)"
   ]
  },
  {
   "cell_type": "code",
   "execution_count": 8,
   "id": "df563fdd",
   "metadata": {},
   "outputs": [
    {
     "ename": "SyntaxError",
     "evalue": "'return' outside function (3110226902.py, line 10)",
     "output_type": "error",
     "traceback": [
      "\u001b[1;36m  Cell \u001b[1;32mIn[8], line 10\u001b[1;36m\u001b[0m\n\u001b[1;33m    return mid\u001b[0m\n\u001b[1;37m    ^\u001b[0m\n\u001b[1;31mSyntaxError\u001b[0m\u001b[1;31m:\u001b[0m 'return' outside function\n"
     ]
    }
   ],
   "source": [
    "#binary search\n",
    "# formula to solve the binary search in median is ==> 1st index+(1st index - last index)//2\n",
    "arr=[11,3,6,9,1]\n",
    "search=9\n",
    "l=0\n",
    "r=len(arr)-1\n",
    "while l<=r:\n",
    "    median=l+(r-l)//2;\n",
    "    if arr[mid]==x:\n",
    "        return mid\n",
    "    elif arr[mid]<x:\n",
    "        l=mid+1\n",
    "    else:\n",
    "        r=mid-1\n",
    "    return-1"
   ]
  },
  {
   "cell_type": "code",
   "execution_count": 9,
   "id": "0428c77c",
   "metadata": {},
   "outputs": [
    {
     "name": "stdout",
     "output_type": "stream",
     "text": [
      "Index of 9 : 3\n"
     ]
    }
   ],
   "source": [
    "arr = [11, 3, 6, 9, 1]\n",
    "search = 9\n",
    "\n",
    "def binary_search(arr, x):\n",
    "    arr.sort()  \n",
    "    l = 0\n",
    "    r = len(arr) - 1\n",
    "    while l <= r:\n",
    "        mid = l + (r - l) // 2\n",
    "        if arr[mid] == x:\n",
    "            return mid\n",
    "        elif arr[mid] < x:\n",
    "            l = mid + 1\n",
    "        else:\n",
    "            r = mid - 1\n",
    "    return -1\n",
    "\n",
    "result = binary_search(arr, search)\n",
    "print(\"Index of\", search, \":\", result)\n"
   ]
  },
  {
   "cell_type": "code",
   "execution_count": null,
   "id": "547f060d",
   "metadata": {},
   "outputs": [],
   "source": []
  }
 ],
 "metadata": {
  "kernelspec": {
   "display_name": "Python 3 (ipykernel)",
   "language": "python",
   "name": "python3"
  },
  "language_info": {
   "codemirror_mode": {
    "name": "ipython",
    "version": 3
   },
   "file_extension": ".py",
   "mimetype": "text/x-python",
   "name": "python",
   "nbconvert_exporter": "python",
   "pygments_lexer": "ipython3",
   "version": "3.11.5"
  }
 },
 "nbformat": 4,
 "nbformat_minor": 5
}
