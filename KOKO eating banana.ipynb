{
 "cells": [
  {
   "cell_type": "code",
   "execution_count": 3,
   "id": "3e5f64e4",
   "metadata": {},
   "outputs": [
    {
     "name": "stdout",
     "output_type": "stream",
     "text": [
      "30 11 23 4 20\n",
      "5\n",
      "Minimum k: 30\n"
     ]
    }
   ],
   "source": [
    "#Brute Force using Linear Search\n",
    "\n",
    "\n",
    "import math\n",
    "\n",
    "def minEatingSpeedLinear(piles, h):\n",
    "    for k in range(1, max(piles)+1): \n",
    "        total_hours = sum(math.ceil(pile / k) for pile in piles)\n",
    "        if total_hours <= h:\n",
    "            return k  \n",
    "    return -1  \n",
    "\n",
    "piles = list(map(int,input().split()))\n",
    "h = int(input())\n",
    "print(\"Minimum k:\", minEatingSpeedLinear(piles, h))\n"
   ]
  },
  {
   "cell_type": "code",
   "execution_count": 4,
   "id": "ee36593b",
   "metadata": {},
   "outputs": [
    {
     "name": "stdout",
     "output_type": "stream",
     "text": [
      "30 11 23 4 20\n",
      "6\n",
      "Minimum k: 23\n"
     ]
    }
   ],
   "source": [
    "#Brute Force using Linear Search\n",
    "\n",
    "import math\n",
    "\n",
    "def minEatingSpeedLinear(piles, h):\n",
    "    for k in range(1, max(piles)+1): \n",
    "        total_hours = sum(math.ceil(pile / k) for pile in piles)\n",
    "        if total_hours <= h:\n",
    "            return k  \n",
    "    return -1  \n",
    "\n",
    "piles = list(map(int,input().split()))\n",
    "h = int(input())\n",
    "print(\"Minimum k:\", minEatingSpeedLinear(piles, h))\n"
   ]
  },
  {
   "cell_type": "code",
   "execution_count": 5,
   "id": "ffce207e",
   "metadata": {},
   "outputs": [
    {
     "name": "stdout",
     "output_type": "stream",
     "text": [
      "23 11 30 4 20\n",
      "7\n",
      "Minimum k: 20\n"
     ]
    }
   ],
   "source": [
    "#Brute Force using Linear Search\n",
    "\n",
    "import math\n",
    "\n",
    "def minEatingSpeedLinear(piles, h):\n",
    "    for k in range(1, max(piles)+1): \n",
    "        total_hours = sum(math.ceil(pile / k) for pile in piles)\n",
    "        if total_hours <= h:\n",
    "            return k  \n",
    "    return -1  \n",
    "\n",
    "piles = list(map(int,input().split()))\n",
    "h = int(input())\n",
    "print(\"Minimum k:\", minEatingSpeedLinear(piles, h))\n"
   ]
  },
  {
   "cell_type": "code",
   "execution_count": null,
   "id": "b8354bee",
   "metadata": {},
   "outputs": [],
   "source": [
    "#This is a brute force approach that uses optimized min and max bounds.\n",
    "import math\n",
    "\n",
    "def minEatingSpeed(piles, h):\n",
    "    min_k = math.ceil(sum(piles) / h)\n",
    "    max_k = max(piles)\n",
    "    \n",
    "    for k in range(min_k, max_k + 1):\n",
    "        if sum(math.ceil(pile / k) for pile in piles) <= h:\n",
    "            return k\n",
    "    return -1\n",
    "\n",
    "piles = list(map(int, input().split()))\n",
    "h = int(input())\n",
    "print(\"Minimum k:\", minEatingSpeed(piles, h))"
   ]
  }
 ],
 "metadata": {
  "kernelspec": {
   "display_name": "Python 3 (ipykernel)",
   "language": "python",
   "name": "python3"
  },
  "language_info": {
   "codemirror_mode": {
    "name": "ipython",
    "version": 3
   },
   "file_extension": ".py",
   "mimetype": "text/x-python",
   "name": "python",
   "nbconvert_exporter": "python",
   "pygments_lexer": "ipython3",
   "version": "3.11.5"
  }
 },
 "nbformat": 4,
 "nbformat_minor": 5
}
