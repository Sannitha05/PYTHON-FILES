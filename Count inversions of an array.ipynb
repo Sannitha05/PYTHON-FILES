{
 "cells": [
  {
   "cell_type": "code",
   "execution_count": 2,
   "id": "7b5a9ba0",
   "metadata": {},
   "outputs": [
    {
     "name": "stdout",
     "output_type": "stream",
     "text": [
      "5\n"
     ]
    }
   ],
   "source": [
    "def inversionCount(arr):\n",
    "    n = len(arr) \n",
    "    invCount = 0  \n",
    "\n",
    "    for i in range(n - 1):\n",
    "        for j in range(i + 1, n):\n",
    "            if arr[i] > arr[j]:\n",
    "                invCount += 1\n",
    "    return invCount \n",
    "\n",
    "arr = [2,3,7,1,3,5]\n",
    "print(inversionCount(arr))"
   ]
  },
  {
   "cell_type": "code",
   "execution_count": 3,
   "id": "d9abd231",
   "metadata": {},
   "outputs": [
    {
     "name": "stdout",
     "output_type": "stream",
     "text": [
      "Inversion Count: 5\n",
      "Inversions: [(2, 1), (3, 1), (7, 1), (7, 3), (7, 5)]\n"
     ]
    }
   ],
   "source": [
    "def inversionCount(arr):\n",
    "    n = len(arr)\n",
    "    invCount = 0\n",
    "    inversions = []\n",
    "\n",
    "    for i in range(n - 1):\n",
    "        for j in range(i + 1, n):\n",
    "            if arr[i] > arr[j]:\n",
    "                invCount += 1\n",
    "                inversions.append((arr[i], arr[j]))  \n",
    "\n",
    "    return invCount, inversions\n",
    "\n",
    "arr = [2, 3, 7, 1, 3, 5]\n",
    "count, pairs = inversionCount(arr)\n",
    "print(\"Inversion Count:\", count)\n",
    "print(\"Inversions:\", pairs)"
   ]
  },
  {
   "cell_type": "code",
   "execution_count": null,
   "id": "15640626",
   "metadata": {},
   "outputs": [],
   "source": []
  }
 ],
 "metadata": {
  "kernelspec": {
   "display_name": "Python 3 (ipykernel)",
   "language": "python",
   "name": "python3"
  },
  "language_info": {
   "codemirror_mode": {
    "name": "ipython",
    "version": 3
   },
   "file_extension": ".py",
   "mimetype": "text/x-python",
   "name": "python",
   "nbconvert_exporter": "python",
   "pygments_lexer": "ipython3",
   "version": "3.11.5"
  }
 },
 "nbformat": 4,
 "nbformat_minor": 5
}
