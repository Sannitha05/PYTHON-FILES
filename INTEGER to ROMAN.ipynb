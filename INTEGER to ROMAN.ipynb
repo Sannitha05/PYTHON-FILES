{
 "cells": [
  {
   "cell_type": "code",
   "execution_count": null,
   "id": "1010b854",
   "metadata": {},
   "outputs": [
    {
     "name": "stdout",
     "output_type": "stream",
     "text": [
      "4367\n",
      "Roman value is: MCMDCDCXCLXLXIXV"
     ]
    }
   ],
   "source": [
    "\n",
    "def printRoman(number):\n",
    "    num = [1, 4, 5, 9, 10, 40, 50, 90,100, 400, 500, 900, 1000]\n",
    "    sym = [\"I\", \"IV\", \"V\", \"IX\", \"X\", \"XL\",\"L\", \"XC\", \"C\", \"CD\", \"D\", \"CM\", \"M\"]\n",
    "    i = 12\n",
    "    while number:\n",
    "        div = number // num[i]\n",
    "        number %= num[i]\n",
    "        while div:\n",
    "            print(sym[i], end = \"\")\n",
    "            div -= 1\n",
    "            i -= 1\n",
    "if __name__ == \"__main__\":\n",
    "    number = int(input())\n",
    "    print(\"Roman value is:\", end = \" \")\n",
    "    printRoman(number)\n"
   ]
  },
  {
   "cell_type": "code",
   "execution_count": null,
   "id": "d4b8d32f",
   "metadata": {},
   "outputs": [],
   "source": []
  },
  {
   "cell_type": "code",
   "execution_count": null,
   "id": "3dca480a",
   "metadata": {},
   "outputs": [],
   "source": []
  }
 ],
 "metadata": {
  "kernelspec": {
   "display_name": "Python 3 (ipykernel)",
   "language": "python",
   "name": "python3"
  },
  "language_info": {
   "codemirror_mode": {
    "name": "ipython",
    "version": 3
   },
   "file_extension": ".py",
   "mimetype": "text/x-python",
   "name": "python",
   "nbconvert_exporter": "python",
   "pygments_lexer": "ipython3",
   "version": "3.11.5"
  }
 },
 "nbformat": 4,
 "nbformat_minor": 5
}
