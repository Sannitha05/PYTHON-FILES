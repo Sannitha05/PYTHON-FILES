{
 "cells": [
  {
   "cell_type": "code",
   "execution_count": 2,
   "id": "6fe3cd89",
   "metadata": {},
   "outputs": [
    {
     "name": "stdout",
     "output_type": "stream",
     "text": [
      "Enter the number of test cases: 6\n",
      "Enter a number: 23\n",
      "23  is a prime number\n",
      "Enter a number: 47\n",
      "47  is a prime number\n",
      "Enter a number: 98\n",
      "98  is not a prime number\n",
      "Enter a number: 987\n",
      "987  is not a prime number\n",
      "Enter a number: 567\n",
      "567  is not a prime number\n",
      "Enter a number: 711\n",
      "711  is not a prime number\n"
     ]
    }
   ],
   "source": [
    "T = int(input(\"Enter the number of test cases: \"))\n",
    "for i in range(T):\n",
    "    n = int(input(\"Enter a number: \"))\n",
    "    if n > 1:\n",
    "        is_prime = True\n",
    "        for i in range(2, int(n/2) + 1):\n",
    "            if n % i == 0:\n",
    "                print(n, \" is not a prime number\")\n",
    "                is_prime = False\n",
    "                break\n",
    "        if is_prime:\n",
    "            print(n, \" is a prime number\")\n",
    "    else:\n",
    "        print(n, \" is not a prime number\")"
   ]
  },
  {
   "cell_type": "code",
   "execution_count": null,
   "id": "fa56a613",
   "metadata": {},
   "outputs": [],
   "source": []
  }
 ],
 "metadata": {
  "kernelspec": {
   "display_name": "Python 3 (ipykernel)",
   "language": "python",
   "name": "python3"
  },
  "language_info": {
   "codemirror_mode": {
    "name": "ipython",
    "version": 3
   },
   "file_extension": ".py",
   "mimetype": "text/x-python",
   "name": "python",
   "nbconvert_exporter": "python",
   "pygments_lexer": "ipython3",
   "version": "3.11.5"
  }
 },
 "nbformat": 4,
 "nbformat_minor": 5
}
