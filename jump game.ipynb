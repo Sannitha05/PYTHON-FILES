{
 "cells": [
  {
   "cell_type": "code",
   "execution_count": 1,
   "id": "6c25d651",
   "metadata": {},
   "outputs": [
    {
     "name": "stdout",
     "output_type": "stream",
     "text": [
      "True\n",
      "False\n"
     ]
    }
   ],
   "source": [
    "def canjump(nums):\n",
    "    destination = len(nums) - 1\n",
    "    last_good_position = destination\n",
    "    \n",
    "    for i in range(len(nums) - 2, -1, -1):\n",
    "        if i + nums[i] >= last_good_position:\n",
    "            last_good_position = i\n",
    "    \n",
    "    return last_good_position == 0\n",
    "\n",
    "nums1 = [2, 3, 1, 1, 4]\n",
    "nums2 = [3, 2, 1, 0, 4]\n",
    "\n",
    "print(canjump(nums1))  \n",
    "print(canjump(nums2))  "
   ]
  },
  {
   "cell_type": "code",
   "execution_count": null,
   "id": "4e87c836",
   "metadata": {},
   "outputs": [],
   "source": []
  }
 ],
 "metadata": {
  "kernelspec": {
   "display_name": "Python 3 (ipykernel)",
   "language": "python",
   "name": "python3"
  },
  "language_info": {
   "codemirror_mode": {
    "name": "ipython",
    "version": 3
   },
   "file_extension": ".py",
   "mimetype": "text/x-python",
   "name": "python",
   "nbconvert_exporter": "python",
   "pygments_lexer": "ipython3",
   "version": "3.11.5"
  }
 },
 "nbformat": 4,
 "nbformat_minor": 5
}
