{
 "cells": [
  {
   "cell_type": "code",
   "execution_count": 1,
   "id": "8d500076-b07e-4e33-902c-2560a2bc79ad",
   "metadata": {},
   "outputs": [
    {
     "name": "stdout",
     "output_type": "stream",
     "text": [
      "( 4 + 6 i )\n"
     ]
    }
   ],
   "source": [
    "class complex:\n",
    "    def __init__(self):\n",
    "        self.real=0\n",
    "        self.imaginary=0\n",
    "    def set(self,real,imaginary):\n",
    "        self.real=real\n",
    "        self.imaginary=imaginary\n",
    "    def __add__(self,value):\n",
    "        temp=complex()\n",
    "        temp.real=self.real+value.real\n",
    "        temp.imaginary=self.imaginary+value.imaginary\n",
    "        return temp\n",
    "    def display(self):\n",
    "        print(\"(\",self.real,\"+\",self.imaginary,\"i\",\")\")\n",
    "val1=complex()\n",
    "val1.set(1,2)\n",
    "val2=complex()\n",
    "val2.set(3,4)\n",
    "val3=val1+val2\n",
    "val3.display()"
   ]
  },
  {
   "cell_type": "code",
   "execution_count": null,
   "id": "584f7e5e-c3be-4926-9586-90e489fae940",
   "metadata": {},
   "outputs": [],
   "source": []
  }
 ],
 "metadata": {
  "kernelspec": {
   "display_name": "Python 3 (ipykernel)",
   "language": "python",
   "name": "python3"
  },
  "language_info": {
   "codemirror_mode": {
    "name": "ipython",
    "version": 3
   },
   "file_extension": ".py",
   "mimetype": "text/x-python",
   "name": "python",
   "nbconvert_exporter": "python",
   "pygments_lexer": "ipython3",
   "version": "3.11.5"
  }
 },
 "nbformat": 4,
 "nbformat_minor": 5
}
