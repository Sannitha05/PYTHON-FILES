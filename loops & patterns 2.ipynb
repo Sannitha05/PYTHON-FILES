{
 "cells": [
  {
   "cell_type": "code",
   "execution_count": 4,
   "id": "4fbedb5c-4f50-45b1-9b07-f00c0c285fc9",
   "metadata": {},
   "outputs": [
    {
     "name": "stdout",
     "output_type": "stream",
     "text": [
      "\n",
      "* * * * * \n",
      "* * * * * \n",
      "* * * * * \n",
      "* * * * * \n",
      "* * * * * "
     ]
    }
   ],
   "source": [
    "for i in range(5):\n",
    "    print()\n",
    "    for j in range(5):\n",
    "        print(\"*\",end=' ')"
   ]
  },
  {
   "cell_type": "code",
   "execution_count": 5,
   "id": "716f2056-df61-46ba-9376-bd51f71f6049",
   "metadata": {},
   "outputs": [
    {
     "name": "stdout",
     "output_type": "stream",
     "text": [
      "\n",
      "* \n",
      "* * \n",
      "* * * \n",
      "* * * * \n",
      "* * * * * "
     ]
    }
   ],
   "source": [
    "for i in range(0,5):\n",
    "    print()\n",
    "    for j in range(0,i+1):\n",
    "        print(\"*\",end=' ')\n",
    "    "
   ]
  },
  {
   "cell_type": "code",
   "execution_count": 6,
   "id": "81c9d634-3794-4626-9c34-788bbb15f6d9",
   "metadata": {},
   "outputs": [
    {
     "name": "stdout",
     "output_type": "stream",
     "text": [
      "\n",
      "\n",
      "* \n",
      "* * \n",
      "* * * \n",
      "* * * * "
     ]
    }
   ],
   "source": [
    "for i in range(0,5):\n",
    "    print()\n",
    "    for j in range(i):\n",
    "        print(\"*\",end=' ')\n",
    "    "
   ]
  },
  {
   "cell_type": "code",
   "execution_count": 8,
   "id": "c551d4d0-6ac6-44ef-9bfc-21846e7c7823",
   "metadata": {},
   "outputs": [
    {
     "name": "stdout",
     "output_type": "stream",
     "text": [
      "\n",
      "1 \n",
      "2 2 \n",
      "3 3 3 \n",
      "4 4 4 4 "
     ]
    }
   ],
   "source": [
    "for i in range(1,5):\n",
    "    print()\n",
    "    for j in range(1,i+1):\n",
    "        print(i,end=' ')\n",
    "    "
   ]
  },
  {
   "cell_type": "code",
   "execution_count": 9,
   "id": "9f309ff3-814e-4789-a4b7-be62296bca58",
   "metadata": {},
   "outputs": [
    {
     "name": "stdout",
     "output_type": "stream",
     "text": [
      "\n",
      "1 \n",
      "1 2 \n",
      "1 2 3 \n",
      "1 2 3 4 "
     ]
    }
   ],
   "source": [
    "for i in range(1,5):\n",
    "    print()\n",
    "    for j in range(1,i+1):\n",
    "        print(j,end=' ')\n",
    "    "
   ]
  },
  {
   "cell_type": "code",
   "execution_count": 19,
   "id": "85b13a64-b6e7-4047-a7dd-607be9cc4ec0",
   "metadata": {},
   "outputs": [
    {
     "name": "stdout",
     "output_type": "stream",
     "text": [
      "\n",
      "1 1 1 1 \n",
      "2 2 2 \n",
      "3 3 \n",
      "4 "
     ]
    }
   ],
   "source": [
    "for i in range(1,5):\n",
    "    print()\n",
    "    for j in range(j):\n",
    "        print(i,end=' ')\n",
    "    "
   ]
  },
  {
   "cell_type": "code",
   "execution_count": null,
   "id": "19a898a0-8c76-4cbf-b6e7-5077b3d04cf7",
   "metadata": {},
   "outputs": [],
   "source": []
  }
 ],
 "metadata": {
  "kernelspec": {
   "display_name": "Python 3 (ipykernel)",
   "language": "python",
   "name": "python3"
  },
  "language_info": {
   "codemirror_mode": {
    "name": "ipython",
    "version": 3
   },
   "file_extension": ".py",
   "mimetype": "text/x-python",
   "name": "python",
   "nbconvert_exporter": "python",
   "pygments_lexer": "ipython3",
   "version": "3.11.5"
  }
 },
 "nbformat": 4,
 "nbformat_minor": 5
}
