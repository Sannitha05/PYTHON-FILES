{
 "cells": [
  {
   "cell_type": "code",
   "execution_count": 1,
   "id": "851baf74-a0dd-400d-b753-31523c9adafa",
   "metadata": {},
   "outputs": [
    {
     "name": "stdout",
     "output_type": "stream",
     "text": [
      "hello \n",
      "hello \n",
      "hello \n",
      "hello \n",
      "hello \n",
      "hello \n",
      "hello \n",
      "hello \n",
      "hello \n"
     ]
    }
   ],
   "source": [
    " n=9\n",
    "for i in range(1,n+1):\n",
    "    print(\"hello\",end=\" \")\n",
    "    print()"
   ]
  },
  {
   "cell_type": "code",
   "execution_count": 6,
   "id": "c353b7cc-7742-4a50-adf9-f8d431464559",
   "metadata": {},
   "outputs": [
    {
     "name": "stdin",
     "output_type": "stream",
     "text": [
      "enter a value: 71.5\n",
      "enter b value: 71.5\n"
     ]
    },
    {
     "name": "stdout",
     "output_type": "stream",
     "text": [
      "the sum of 71.5 and 71.5 = 143.0\n"
     ]
    }
   ],
   "source": [
    " def summate(a,b):\n",
    "     result=a+b\n",
    "     print(\"the sum of\",a,\"and\",b,\"=\",result)\n",
    "a=float(input(\"enter a value:\"))\n",
    "b=float(input(\"enter b value:\"))\n",
    "summate(a,b)"
   ]
  },
  {
   "cell_type": "code",
   "execution_count": 2,
   "id": "ba54ee10-ae7c-4ff2-85a6-eb9d80e1ebc5",
   "metadata": {},
   "outputs": [
    {
     "name": "stdout",
     "output_type": "stream",
     "text": [
      "world\n",
      "world\n",
      "world\n",
      "world\n",
      "world\n",
      "world\n",
      "world\n",
      "world\n",
      "world\n"
     ]
    }
   ],
   "source": [
    "def sanny():\n",
    "    for i in range(9):\n",
    "        print(\"world\")\n",
    "sanny()\n",
    "    "
   ]
  },
  {
   "cell_type": "code",
   "execution_count": 9,
   "id": "6b842d72-1661-4945-9a6d-883ac4e47e36",
   "metadata": {},
   "outputs": [
    {
     "name": "stdout",
     "output_type": "stream",
     "text": [
      "& & & & & & & & & & & "
     ]
    }
   ],
   "source": [
    "def sanny():\n",
    "    for i in range(11):\n",
    "        print(\"&\",end=\" \")\n",
    "sanny()\n",
    "    "
   ]
  },
  {
   "cell_type": "code",
   "execution_count": null,
   "id": "663039cc-ca21-4e2a-813d-35a11eb857c2",
   "metadata": {},
   "outputs": [],
   "source": []
  }
 ],
 "metadata": {
  "kernelspec": {
   "display_name": "Python 3 (ipykernel)",
   "language": "python",
   "name": "python3"
  },
  "language_info": {
   "codemirror_mode": {
    "name": "ipython",
    "version": 3
   },
   "file_extension": ".py",
   "mimetype": "text/x-python",
   "name": "python",
   "nbconvert_exporter": "python",
   "pygments_lexer": "ipython3",
   "version": "3.11.5"
  }
 },
 "nbformat": 4,
 "nbformat_minor": 5
}
