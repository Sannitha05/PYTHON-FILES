{
 "cells": [
  {
   "cell_type": "code",
   "execution_count": 1,
   "id": "4537f1a9-3c6e-4435-8aea-4f40208878f8",
   "metadata": {},
   "outputs": [
    {
     "name": "stdin",
     "output_type": "stream",
     "text": [
      "enter a value: 12\n",
      "enter b value: 20\n"
     ]
    },
    {
     "name": "stdout",
     "output_type": "stream",
     "text": [
      "the sum of 12 and 20 = 32\n"
     ]
    }
   ],
   "source": [
    " def summate(a,b):\n",
    "     result=a+b\n",
    "     print(\"the sum of\",a,\"and\",b,\"=\",result)\n",
    "a=int(input(\"enter a value:\"))\n",
    "b=int(input(\"enter b value:\"))\n",
    "summate(a,b)"
   ]
  },
  {
   "cell_type": "code",
   "execution_count": 2,
   "id": "c3d7cd07-5aea-4531-a8bd-0cc969cd61bf",
   "metadata": {},
   "outputs": [
    {
     "name": "stdout",
     "output_type": "stream",
     "text": [
      "the value withouut arg in main program is: 11\n"
     ]
    }
   ],
   "source": [
    "def sanny(x):\n",
    "    print(\"the value withouut arg in main program is:\",x)\n",
    "sanny(5+3*2)"
   ]
  },
  {
   "cell_type": "code",
   "execution_count": 3,
   "id": "c7c47e70-4e48-4df4-a24b-8ef578415ab5",
   "metadata": {},
   "outputs": [
    {
     "name": "stdout",
     "output_type": "stream",
     "text": [
      "the value withouut arg in main program is: 28\n"
     ]
    }
   ],
   "source": [
    "def sanny(x):\n",
    "    print(\"the value withouut arg in main program is:\",x)\n",
    "sanny(8+10*2)"
   ]
  },
  {
   "cell_type": "code",
   "execution_count": 4,
   "id": "c6031d5e-6913-4abf-93cc-724826cc119d",
   "metadata": {},
   "outputs": [
    {
     "name": "stdout",
     "output_type": "stream",
     "text": [
      "19\n"
     ]
    }
   ],
   "source": [
    "def difference(x,y):\n",
    "    return x-y\n",
    "a=29\n",
    "b=10\n",
    "output=difference\n",
    "print(output(a,b))"
   ]
  },
  {
   "cell_type": "code",
   "execution_count": 7,
   "id": "1f8ae541-1a22-4658-941c-1f268fcdc08c",
   "metadata": {},
   "outputs": [
    {
     "name": "stdout",
     "output_type": "stream",
     "text": [
      "19\n"
     ]
    }
   ],
   "source": [
    "def difference(x,y):\n",
    "    return x-y\n",
    "a=29\n",
    "b=10\n",
    "difference=a-b\n",
    "output=difference\n",
    "print(output)"
   ]
  },
  {
   "cell_type": "code",
   "execution_count": 8,
   "id": "f8344a10-49f5-49fc-8198-85eb13557f20",
   "metadata": {},
   "outputs": [
    {
     "name": "stdout",
     "output_type": "stream",
     "text": [
      "19\n"
     ]
    }
   ],
   "source": [
    "def difference(x,y):\n",
    "    return x-y\n",
    "a=29\n",
    "b=10\n",
    "print(a-b)"
   ]
  },
  {
   "cell_type": "code",
   "execution_count": 11,
   "id": "2fad434a-a9f1-46ed-aa6d-f4f3a4409458",
   "metadata": {},
   "outputs": [
    {
     "name": "stdout",
     "output_type": "stream",
     "text": [
      "hello\n",
      "hello\n",
      "hello\n",
      "hello\n",
      "hello\n",
      "hello\n",
      "hello\n",
      "hello\n",
      "hello\n",
      "hello\n",
      "hello\n"
     ]
    }
   ],
   "source": [
    "def sanny():\n",
    "    for i in range(11):\n",
    "        print(\"hello\")\n",
    "sanny()\n",
    "    "
   ]
  },
  {
   "cell_type": "code",
   "execution_count": 13,
   "id": "6a922e1b-5a0f-4cd4-bded-80bc6be94dcd",
   "metadata": {},
   "outputs": [
    {
     "name": "stdout",
     "output_type": "stream",
     "text": [
      "125\n"
     ]
    }
   ],
   "source": [
    "def cube(a):\n",
    "    return a\n",
    "a=5\n",
    "result=a*a*a\n",
    "print(result)"
   ]
  },
  {
   "cell_type": "code",
   "execution_count": 19,
   "id": "8e63bdcc-f0b5-4675-adcd-deff880b4fa6",
   "metadata": {},
   "outputs": [
    {
     "name": "stdin",
     "output_type": "stream",
     "text": [
      "enter a value: 999\n"
     ]
    },
    {
     "name": "stdout",
     "output_type": "stream",
     "text": [
      "997002999\n"
     ]
    }
   ],
   "source": [
    "def cube(a):\n",
    "    return a\n",
    "a=int(input(\"enter a value:\"))\n",
    "result=a*a*a\n",
    "print(result)"
   ]
  },
  {
   "cell_type": "code",
   "execution_count": null,
   "id": "58bef3d1-c974-4690-a152-3c3a692f8a26",
   "metadata": {},
   "outputs": [],
   "source": []
  }
 ],
 "metadata": {
  "kernelspec": {
   "display_name": "Python 3 (ipykernel)",
   "language": "python",
   "name": "python3"
  },
  "language_info": {
   "codemirror_mode": {
    "name": "ipython",
    "version": 3
   },
   "file_extension": ".py",
   "mimetype": "text/x-python",
   "name": "python",
   "nbconvert_exporter": "python",
   "pygments_lexer": "ipython3",
   "version": "3.11.7"
  }
 },
 "nbformat": 4,
 "nbformat_minor": 5
}
