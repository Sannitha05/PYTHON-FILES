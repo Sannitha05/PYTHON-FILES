{
 "cells": [
  {
   "cell_type": "code",
   "execution_count": 8,
   "id": "0f2fbf12",
   "metadata": {},
   "outputs": [
    {
     "name": "stdout",
     "output_type": "stream",
     "text": [
      "5\n"
     ]
    }
   ],
   "source": [
    "def count_unq_ele(arr):\n",
    "    return len(set(arr))\n",
    "nums= [-30,-30,0,0,0,10,10,20,30,30]\n",
    "output = count_unq_ele(nums)\n",
    "print(output)"
   ]
  },
  {
   "cell_type": "code",
   "execution_count": 7,
   "id": "f3bc914b",
   "metadata": {},
   "outputs": [
    {
     "name": "stdout",
     "output_type": "stream",
     "text": [
      "5\n"
     ]
    }
   ],
   "source": [
    "def count_unq_ele(arr):\n",
    "    if arr:  \n",
    "        return len(set(arr))\n",
    "    else:\n",
    "        return 0  \n",
    "nums = [-30, -30, 0, 0, 0, 10, 10, 20, 30, 30]\n",
    "output = count_unq_ele(nums)\n",
    "print(output)  "
   ]
  },
  {
   "cell_type": "code",
   "execution_count": 6,
   "id": "1eb129dd",
   "metadata": {},
   "outputs": [
    {
     "name": "stdout",
     "output_type": "stream",
     "text": [
      "Unique Values: [0, -30, 10, 20, 30]\n",
      "Count of Unique Elements: 5\n"
     ]
    }
   ],
   "source": [
    "def count_unq_ele(arr):\n",
    "    unique_values = list(set(arr))  \n",
    "    print(\"Unique Values:\", unique_values) \n",
    "    return len(unique_values)  \n",
    "\n",
    "nums = [-30, -30, 0, 0, 0, 10, 10, 20, 30, 30]\n",
    "output = count_unq_ele(nums)\n",
    "print(\"Count of Unique Elements:\", output)"
   ]
  },
  {
   "cell_type": "code",
   "execution_count": 1,
   "id": "067c343e",
   "metadata": {},
   "outputs": [
    {
     "name": "stdout",
     "output_type": "stream",
     "text": [
      "Unique Values: [0, 1, 2, 3, -5]\n",
      "Count of Unique Elements: 5\n"
     ]
    }
   ],
   "source": [
    "def count_unq_ele(arr):\n",
    "    unique_values = list(set(arr))  \n",
    "    print(\"Unique Values:\", unique_values) \n",
    "    return len(unique_values)  \n",
    "\n",
    "nums = [-5,-5,0,0,0,1,1,2,3,3]\n",
    "output = count_unq_ele(nums)\n",
    "print(\"Count of Unique Elements:\", output)"
   ]
  },
  {
   "cell_type": "code",
   "execution_count": 3,
   "id": "37fb7998",
   "metadata": {},
   "outputs": [
    {
     "name": "stdout",
     "output_type": "stream",
     "text": [
      "2 3 4 3 2 4 5 6 2 6 4\n"
     ]
    },
    {
     "ename": "AttributeError",
     "evalue": "'str' object has no attribute 'slipt'",
     "output_type": "error",
     "traceback": [
      "\u001b[1;31m---------------------------------------------------------------------------\u001b[0m",
      "\u001b[1;31mAttributeError\u001b[0m                            Traceback (most recent call last)",
      "Cell \u001b[1;32mIn[3], line 1\u001b[0m\n\u001b[1;32m----> 1\u001b[0m n \u001b[38;5;241m=\u001b[39m \u001b[38;5;28mlist\u001b[39m(\u001b[38;5;28mmap\u001b[39m(\u001b[38;5;28mint\u001b[39m,\u001b[38;5;28minput\u001b[39m()\u001b[38;5;241m.\u001b[39mstrip()\u001b[38;5;241m.\u001b[39mslipt()))\n\u001b[0;32m      2\u001b[0m \u001b[38;5;28mprint\u001b[39m(n)\n",
      "\u001b[1;31mAttributeError\u001b[0m: 'str' object has no attribute 'slipt'"
     ]
    }
   ],
   "source": [
    "n = list(map(int,input().strip().slipt()))\n",
    "print(n)"
   ]
  },
  {
   "cell_type": "code",
   "execution_count": 6,
   "id": "695cb632",
   "metadata": {},
   "outputs": [
    {
     "name": "stdout",
     "output_type": "stream",
     "text": [
      "1 2 2 3 4 5 5 6\n",
      "[1, 2, 3, 4, 5, 6]\n"
     ]
    }
   ],
   "source": [
    "#Approach Used: Two-Pointer (Optimized Linear Approach)\n",
    "def remove_duplicates(nums):\n",
    "    if not nums:\n",
    "        return 0\n",
    "    \n",
    "    j = 0\n",
    "    for i in range(len(nums)):\n",
    "        if i == 0 or nums[i] != nums[i-1]:\n",
    "            nums[j] = nums[i]\n",
    "            j += 1\n",
    "    \n",
    "    return j\n",
    "\n",
    "nums = list(map(int,input().split()))\n",
    "length = remove_duplicates(nums)\n",
    "print(nums[:length])\n",
    "\n",
    "\n",
    "\n",
    "\n",
    "\n",
    "'''Time Complexity: O(n) – One full pass through the array.\n",
    "\n",
    "Space Complexity: O(1) – Done in-place, without using extra space.'''"
   ]
  },
  {
   "cell_type": "code",
   "execution_count": 7,
   "id": "d2a3d7ad",
   "metadata": {},
   "outputs": [
    {
     "name": "stdout",
     "output_type": "stream",
     "text": [
      "12 13 13 14 14 15 16 17\n",
      "[12, 13, 14, 15, 16, 17]\n"
     ]
    }
   ],
   "source": [
    "#Approach Used: Two-Pointer (Optimized Linear Approach)\n",
    "def remove_duplicates(nums):\n",
    "    if not nums:\n",
    "        return 0\n",
    "    \n",
    "    j = 0\n",
    "    for i in range(len(nums)):\n",
    "        if i == 0 or nums[i] != nums[i-1]:\n",
    "            nums[j] = nums[i]\n",
    "            j += 1\n",
    "    \n",
    "    return j\n",
    "\n",
    "nums = list(map(int, input().split()))\n",
    "length = remove_duplicates(nums)\n",
    "print(nums[:length])\n"
   ]
  },
  {
   "cell_type": "code",
   "execution_count": 9,
   "id": "e330817a",
   "metadata": {},
   "outputs": [
    {
     "name": "stdout",
     "output_type": "stream",
     "text": [
      "22 23 24 24 25 26 27 27 28\n",
      "[22, 23, 24, 25, 26, 27, 28]\n"
     ]
    }
   ],
   "source": [
    "#brute force\n",
    "def remove_duplicates(nums):\n",
    "    if not nums:\n",
    "        return 0\n",
    "    \n",
    "    unique = []\n",
    "    for num in nums:\n",
    "        if not unique or num != unique[-1]:\n",
    "            unique.append(num)\n",
    "    \n",
    "    for i in range(len(unique)):\n",
    "        nums[i] = unique[i]\n",
    "    \n",
    "    return len(unique)\n",
    "\n",
    "nums = list(map(int, input().split()))\n",
    "length = remove_duplicates(nums)\n",
    "print(nums[:length])\n"
   ]
  },
  {
   "cell_type": "code",
   "execution_count": null,
   "id": "ec05f973",
   "metadata": {},
   "outputs": [],
   "source": []
  }
 ],
 "metadata": {
  "kernelspec": {
   "display_name": "Python 3 (ipykernel)",
   "language": "python",
   "name": "python3"
  },
  "language_info": {
   "codemirror_mode": {
    "name": "ipython",
    "version": 3
   },
   "file_extension": ".py",
   "mimetype": "text/x-python",
   "name": "python",
   "nbconvert_exporter": "python",
   "pygments_lexer": "ipython3",
   "version": "3.11.5"
  }
 },
 "nbformat": 4,
 "nbformat_minor": 5
}
