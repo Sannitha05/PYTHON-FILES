{
 "cells": [
  {
   "cell_type": "code",
   "execution_count": 9,
   "id": "1a0b059d",
   "metadata": {},
   "outputs": [
    {
     "name": "stdout",
     "output_type": "stream",
     "text": [
      "Maximum Profit: 5\n"
     ]
    }
   ],
   "source": [
    "class Solution(object):\n",
    "    def maxProfit(self, prices):\n",
    "        if not prices:\n",
    "            return 0\n",
    "        \n",
    "        buy = prices[0]\n",
    "        profit = 0\n",
    "        \n",
    "        for price in prices[1:]:\n",
    "            if price < buy:\n",
    "                buy = price\n",
    "            elif price - buy > profit:\n",
    "                profit = price - buy\n",
    "        \n",
    "        return profit\n",
    "\n",
    "prices = [10,9,7, 1, 5, 3, 6, 4]\n",
    "solution = Solution()\n",
    "max_profit = solution.maxProfit(prices)\n",
    "print(\"Maximum Profit:\", max_profit)"
   ]
  },
  {
   "cell_type": "code",
   "execution_count": 20,
   "id": "48643403",
   "metadata": {},
   "outputs": [
    {
     "name": "stdout",
     "output_type": "stream",
     "text": [
      "Maximum Profit: 30\n"
     ]
    }
   ],
   "source": [
    "def maxiprofit(prices):\n",
    "    profit=0\n",
    "    buy = prices[0]\n",
    "    for sell in prices[1:]:\n",
    "        print(buy,sell)\n",
    "        if sell > buy:\n",
    "            profit = max(profit , sell - buy)\n",
    "        else:\n",
    "            buy = sell\n",
    "    return profit\n",
    "prices = [10,2,32]\n",
    "max_profit = solution.maxProfit(prices)\n",
    "print(\"Maximum Profit:\", max_profit)"
   ]
  },
  {
   "cell_type": "code",
   "execution_count": null,
   "id": "f4bbfcd4",
   "metadata": {},
   "outputs": [],
   "source": []
  },
  {
   "cell_type": "code",
   "execution_count": null,
   "id": "4a46da11",
   "metadata": {},
   "outputs": [],
   "source": []
  },
  {
   "cell_type": "code",
   "execution_count": null,
   "id": "ecea177d",
   "metadata": {},
   "outputs": [],
   "source": []
  },
  {
   "cell_type": "code",
   "execution_count": null,
   "id": "30a6aca0",
   "metadata": {},
   "outputs": [],
   "source": []
  }
 ],
 "metadata": {
  "kernelspec": {
   "display_name": "Python 3 (ipykernel)",
   "language": "python",
   "name": "python3"
  },
  "language_info": {
   "codemirror_mode": {
    "name": "ipython",
    "version": 3
   },
   "file_extension": ".py",
   "mimetype": "text/x-python",
   "name": "python",
   "nbconvert_exporter": "python",
   "pygments_lexer": "ipython3",
   "version": "3.11.5"
  }
 },
 "nbformat": 4,
 "nbformat_minor": 5
}
