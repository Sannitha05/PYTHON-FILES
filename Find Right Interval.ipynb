{
 "cells": [
  {
   "cell_type": "code",
   "execution_count": 1,
   "id": "77a50901",
   "metadata": {},
   "outputs": [
    {
     "name": "stdout",
     "output_type": "stream",
     "text": [
      "[-1, 0, 1]\n"
     ]
    }
   ],
   "source": [
    "def findRightInterval(intervals: list[list[int]]) -> list[int]:\n",
    "    n = len(intervals)\n",
    "    \n",
    "    start_indices = sorted((interval[0], i) for i, interval in enumerate(intervals))\n",
    "    result = []\n",
    "\n",
    "    def binary_search(target):\n",
    "        low, high = 0, n - 1\n",
    "        while low <= high:\n",
    "            mid = (low + high) // 2\n",
    "            if start_indices[mid][0] < target:\n",
    "                low = mid + 1\n",
    "            else:\n",
    "                high = mid - 1\n",
    "        return low if low < n else -1\n",
    "\n",
    "    for interval in intervals:\n",
    "        end = interval[1]\n",
    "        idx = binary_search(end)\n",
    "        if idx == -1:\n",
    "            result.append(-1)\n",
    "        else:\n",
    "            result.append(start_indices[idx][1])\n",
    "    \n",
    "    return result\n",
    "intervals = [[3,4], [2,3], [1,2]]\n",
    "print(findRightInterval(intervals))  "
   ]
  },
  {
   "cell_type": "code",
   "execution_count": null,
   "id": "8dd92a4d",
   "metadata": {},
   "outputs": [],
   "source": []
  }
 ],
 "metadata": {
  "kernelspec": {
   "display_name": "Python 3 (ipykernel)",
   "language": "python",
   "name": "python3"
  },
  "language_info": {
   "codemirror_mode": {
    "name": "ipython",
    "version": 3
   },
   "file_extension": ".py",
   "mimetype": "text/x-python",
   "name": "python",
   "nbconvert_exporter": "python",
   "pygments_lexer": "ipython3",
   "version": "3.11.5"
  }
 },
 "nbformat": 4,
 "nbformat_minor": 5
}
