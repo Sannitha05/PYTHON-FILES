{
 "cells": [
  {
   "cell_type": "code",
   "execution_count": 1,
   "id": "91f5a3a7-0997-4d7d-9e95-72523b6c18f0",
   "metadata": {},
   "outputs": [
    {
     "name": "stdout",
     "output_type": "stream",
     "text": [
      "6\n"
     ]
    }
   ],
   "source": [
    "class numbers:\n",
    "    def __init__(self,numlist):\n",
    "        self.numlist=numlist\n",
    "    def __getitem__(self,index):\n",
    "        return self.numlist[index]\n",
    "numlist=numbers([1,2,3,4,5,6,7,8,9])\n",
    "print(numlist[5])"
   ]
  },
  {
   "cell_type": "code",
   "execution_count": 2,
   "id": "6c14e97b-07e8-4b9b-b022-363e45a70097",
   "metadata": {},
   "outputs": [
    {
     "name": "stdout",
     "output_type": "stream",
     "text": [
      "6\n"
     ]
    }
   ],
   "source": [
    "class numbers:\n",
    "    def __init__(self,mylist):\n",
    "        self.mylist=mylist\n",
    "    def __getitem__(self,index):\n",
    "        return self.mylist[index]\n",
    "numlist=numbers([1,2,3,4,5,6,7,8,9])\n",
    "print(numlist[5])"
   ]
  },
  {
   "cell_type": "code",
   "execution_count": 9,
   "id": "cc3687ee-3e60-4e40-8b98-b702c7fb68ff",
   "metadata": {},
   "outputs": [
    {
     "name": "stdout",
     "output_type": "stream",
     "text": [
      "8\n",
      "[1, 2, 3, 4, 5, 30, 7, 8, 9]\n"
     ]
    }
   ],
   "source": [
    "class numbers:\n",
    "    def __init__(self,numlist):\n",
    "        self.numlist=numlist\n",
    "    def __getitem__(self,index):\n",
    "        return self.numlist[index]\n",
    "    def __setitem__(self,index,value):\n",
    "        self.numlist[index]=value\n",
    "numlist=numbers([1,2,3,4,5,6,7,8,9])\n",
    "print(numlist[7])\n",
    "numlist[5]=30\n",
    "print(numlist.numlist)"
   ]
  },
  {
   "cell_type": "code",
   "execution_count": 12,
   "id": "802ebf2c-678c-4cf5-b810-3cd1ed714f8d",
   "metadata": {},
   "outputs": [
    {
     "name": "stdout",
     "output_type": "stream",
     "text": [
      "8\n",
      "[1, 2, 3, 30, 5, 6, 7, 8, 9]\n"
     ]
    }
   ],
   "source": [
    "class numbers:\n",
    "    def __init__(self,mylist):\n",
    "        self.mylist=mylist\n",
    "    def __getitem__(self,index):\n",
    "        return self.mylist[index]\n",
    "    def __setitem__(self,index,value):\n",
    "        self.mylist[index]=value\n",
    "numlist=numbers([1,2,3,4,5,6,7,8,9])\n",
    "print(numlist[7])\n",
    "numlist[3]=30\n",
    "print(numlist.mylist)"
   ]
  },
  {
   "cell_type": "code",
   "execution_count": 19,
   "id": "cd9b2727-dacb-4e57-b976-05e07ae529bc",
   "metadata": {},
   "outputs": [
    {
     "name": "stdout",
     "output_type": "stream",
     "text": [
      "113.09723999999999\n",
      "37.699079999999995\n"
     ]
    }
   ],
   "source": [
    "class circle:\n",
    "    pi=3.14159\n",
    "    def __init__(self,radius):\n",
    "        self.radius=radius\n",
    "    def area(self):\n",
    "        return (circle.pi)*(self.radius)*(self.radius)\n",
    "    def circum(self):\n",
    "        return 2*(self.radius)*(circle.pi)\n",
    "c=circle(6)\n",
    "print(c.area())\n",
    "print(c.circum())"
   ]
  },
  {
   "cell_type": "code",
   "execution_count": 20,
   "id": "21c9263b-82ac-4ae6-aaff-6e03f8d75b02",
   "metadata": {},
   "outputs": [
    {
     "name": "stdout",
     "output_type": "stream",
     "text": [
      "12.56636\n",
      "12.56636\n"
     ]
    }
   ],
   "source": [
    "class circle:\n",
    "    pi=3.14159\n",
    "    def __init__(self,radius):\n",
    "        self.radius=radius\n",
    "    def area(self):\n",
    "        return (circle.pi)*(self.radius)*(self.radius)\n",
    "    def circum(self):\n",
    "        return 2*(self.radius)*(circle.pi)\n",
    "c=circle(2)\n",
    "print(c.area())\n",
    "print(c.circum())"
   ]
  },
  {
   "cell_type": "code",
   "execution_count": 28,
   "id": "999a64ab-a238-4fcd-a478-90b77919722f",
   "metadata": {},
   "outputs": [
    {
     "name": "stdout",
     "output_type": "stream",
     "text": [
      "36\n"
     ]
    }
   ],
   "source": [
    "class square:\n",
    "    a=6\n",
    "    def __init__(self,a):\n",
    "        self.a=a\n",
    "    def area(self):\n",
    "        return (square.a)*(square.a)\n",
    "a=square(6)\n",
    "print(a.area())"
   ]
  },
  {
   "cell_type": "markdown",
   "id": "739d743e-d44a-43d8-aa56-1f2239dca91a",
   "metadata": {},
   "source": [
    "class rectangle:\n",
    "    def idata(self):\n",
    "        rectangle.length=int(input())\n",
    "        rectangle.breadth=int(input())\n",
    "    def odata(self):\n",
    "        return (rectangle.length)*(rectangle.breadth)\n",
    "print(\"the length of rectangle:\")\n",
    "print(\"the breadth of rectangle:\")\n",
    "rectangle()"
   ]
  },
  {
   "cell_type": "code",
   "execution_count": 60,
   "id": "50769ed9-95ab-4812-a425-c895e256ee1b",
   "metadata": {},
   "outputs": [
    {
     "name": "stdin",
     "output_type": "stream",
     "text": [
      " 10\n",
      " 5\n"
     ]
    },
    {
     "name": "stdout",
     "output_type": "stream",
     "text": [
      "the length of rectangle: 10\n",
      "the breadth of rectangle: 5\n",
      "50\n"
     ]
    }
   ],
   "source": [
    "class rectangle:\n",
    "    def idata(self):\n",
    "        rectangle.length=int(input())\n",
    "        rectangle.breadth=int(input())\n",
    "    def odata(self):\n",
    "        print(\"the length of rectangle:\",rectangle.length)\n",
    "        print(\"the breadth of rectangle:\",rectangle.breadth)\n",
    "    def area(self):\n",
    "        print((rectangle.length)*(rectangle.breadth))\n",
    "obj=rectangle()\n",
    "obj.idata()\n",
    "obj.odata()\n",
    "obj.area()"
   ]
  },
  {
   "cell_type": "code",
   "execution_count": null,
   "id": "2398ffae-eefa-40a3-bbf3-00e843fdd846",
   "metadata": {},
   "outputs": [],
   "source": []
  }
 ],
 "metadata": {
  "kernelspec": {
   "display_name": "Python 3 (ipykernel)",
   "language": "python",
   "name": "python3"
  },
  "language_info": {
   "codemirror_mode": {
    "name": "ipython",
    "version": 3
   },
   "file_extension": ".py",
   "mimetype": "text/x-python",
   "name": "python",
   "nbconvert_exporter": "python",
   "pygments_lexer": "ipython3",
   "version": "3.11.7"
  }
 },
 "nbformat": 4,
 "nbformat_minor": 5
}
