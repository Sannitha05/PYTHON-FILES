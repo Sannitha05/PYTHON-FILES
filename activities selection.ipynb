{
 "cells": [
  {
   "cell_type": "code",
   "execution_count": 1,
   "id": "8c34dd92",
   "metadata": {},
   "outputs": [
    {
     "name": "stdout",
     "output_type": "stream",
     "text": [
      "Selected activities: [(1, 2), (3, 4), (5, 7), (8, 9)]\n"
     ]
    }
   ],
   "source": [
    "def activity_selection(start, finish):\n",
    "    n = len(start)\n",
    "    activities = list(zip(start, finish))\n",
    "    activities.sort(key=lambda x: x[1])  # Sort activities by finish time\n",
    "\n",
    "    selected_activities = [activities[0]]\n",
    "    last_finish_time = activities[0][1]\n",
    "\n",
    "    for i in range(1, n):\n",
    "        if activities[i][0] >= last_finish_time:\n",
    "            selected_activities.append(activities[i])\n",
    "            last_finish_time = activities[i][1]\n",
    "\n",
    "    return selected_activities\n",
    "\n",
    "# Example usage:\n",
    "start_times = [1, 3, 0, 5, 8, 5]\n",
    "finish_times = [2, 4, 6, 7, 9, 9]\n",
    "selected = activity_selection(start_times, finish_times)\n",
    "print(\"Selected activities:\", selected)"
   ]
  },
  {
   "cell_type": "code",
   "execution_count": null,
   "id": "b47dad4c",
   "metadata": {},
   "outputs": [],
   "source": []
  }
 ],
 "metadata": {
  "kernelspec": {
   "display_name": "Python 3 (ipykernel)",
   "language": "python",
   "name": "python3"
  },
  "language_info": {
   "codemirror_mode": {
    "name": "ipython",
    "version": 3
   },
   "file_extension": ".py",
   "mimetype": "text/x-python",
   "name": "python",
   "nbconvert_exporter": "python",
   "pygments_lexer": "ipython3",
   "version": "3.11.5"
  }
 },
 "nbformat": 4,
 "nbformat_minor": 5
}
