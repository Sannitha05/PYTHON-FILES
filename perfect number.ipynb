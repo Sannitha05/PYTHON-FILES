{
 "cells": [
  {
   "cell_type": "code",
   "execution_count": 1,
   "id": "37a385f7",
   "metadata": {},
   "outputs": [
    {
     "name": "stdout",
     "output_type": "stream",
     "text": [
      "Enter number of test cases: 4\n",
      "Enter any number: 6\n",
      "The number is a Perfect number\n",
      "Enter any number: 36\n",
      "The number is not a Perfect number\n",
      "Enter any number: 78\n",
      "The number is not a Perfect number\n",
      "Enter any number: 7\n",
      "The number is not a Perfect number\n"
     ]
    }
   ],
   "source": [
    "T = int(input(\"Enter number of test cases: \"))\n",
    "for _ in range(T):\n",
    "    num = int(input(\"Enter any number: \"))\n",
    "    sum = 0\n",
    "    for i in range(1, num):\n",
    "        if num % i == 0:\n",
    "            sum += i\n",
    "    if sum == num:\n",
    "        print(\"The number is a Perfect number\")\n",
    "    else:\n",
    "        print(\"The number is not a Perfect number\")"
   ]
  },
  {
   "cell_type": "code",
   "execution_count": null,
   "id": "5ced07b6",
   "metadata": {},
   "outputs": [],
   "source": []
  }
 ],
 "metadata": {
  "kernelspec": {
   "display_name": "Python 3 (ipykernel)",
   "language": "python",
   "name": "python3"
  },
  "language_info": {
   "codemirror_mode": {
    "name": "ipython",
    "version": 3
   },
   "file_extension": ".py",
   "mimetype": "text/x-python",
   "name": "python",
   "nbconvert_exporter": "python",
   "pygments_lexer": "ipython3",
   "version": "3.11.5"
  }
 },
 "nbformat": 4,
 "nbformat_minor": 5
}
