{
 "cells": [
  {
   "cell_type": "code",
   "execution_count": 1,
   "id": "59261376",
   "metadata": {},
   "outputs": [
    {
     "ename": "NameError",
     "evalue": "name 'List' is not defined",
     "output_type": "error",
     "traceback": [
      "\u001b[1;31m---------------------------------------------------------------------------\u001b[0m",
      "\u001b[1;31mNameError\u001b[0m                                 Traceback (most recent call last)",
      "Cell \u001b[1;32mIn[1], line 1\u001b[0m\n\u001b[1;32m----> 1\u001b[0m \u001b[38;5;28;01mclass\u001b[39;00m \u001b[38;5;21;01mSolution\u001b[39;00m:\n\u001b[0;32m      2\u001b[0m     \u001b[38;5;28;01mdef\u001b[39;00m \u001b[38;5;21mfindWords\u001b[39m(\u001b[38;5;28mself\u001b[39m, words: List[\u001b[38;5;28mstr\u001b[39m]) \u001b[38;5;241m-\u001b[39m\u001b[38;5;241m>\u001b[39m List[\u001b[38;5;28mstr\u001b[39m]:\n\u001b[0;32m      3\u001b[0m         ans \u001b[38;5;241m=\u001b[39m []\n",
      "Cell \u001b[1;32mIn[1], line 2\u001b[0m, in \u001b[0;36mSolution\u001b[1;34m()\u001b[0m\n\u001b[0;32m      1\u001b[0m \u001b[38;5;28;01mclass\u001b[39;00m \u001b[38;5;21;01mSolution\u001b[39;00m:\n\u001b[1;32m----> 2\u001b[0m     \u001b[38;5;28;01mdef\u001b[39;00m \u001b[38;5;21mfindWords\u001b[39m(\u001b[38;5;28mself\u001b[39m, words: List[\u001b[38;5;28mstr\u001b[39m]) \u001b[38;5;241m-\u001b[39m\u001b[38;5;241m>\u001b[39m List[\u001b[38;5;28mstr\u001b[39m]:\n\u001b[0;32m      3\u001b[0m         ans \u001b[38;5;241m=\u001b[39m []\n\u001b[0;32m      4\u001b[0m         rows \u001b[38;5;241m=\u001b[39m [\n\u001b[0;32m      5\u001b[0m             \u001b[38;5;124m\"\u001b[39m\u001b[38;5;124mqwertyuiop\u001b[39m\u001b[38;5;124m\"\u001b[39m,\n\u001b[0;32m      6\u001b[0m             \u001b[38;5;124m\"\u001b[39m\u001b[38;5;124masdfghjkl\u001b[39m\u001b[38;5;124m\"\u001b[39m,\n\u001b[0;32m      7\u001b[0m             \u001b[38;5;124m\"\u001b[39m\u001b[38;5;124mzxcvbnm\u001b[39m\u001b[38;5;124m\"\u001b[39m\n\u001b[0;32m      8\u001b[0m         ]\n",
      "\u001b[1;31mNameError\u001b[0m: name 'List' is not defined"
     ]
    }
   ],
   "source": [
    "class Solution:\n",
    "    def findWords(self, words: List[str]) -> List[str]:\n",
    "        ans = []\n",
    "        rows = [\n",
    "            \"qwertyuiop\",\n",
    "            \"asdfghjkl\",\n",
    "            \"zxcvbnm\"\n",
    "        ]\n",
    "        \n",
    "        for word in words:\n",
    "            for row in rows:\n",
    "                if all([x in row for x in word.lower()]):\n",
    "                    ans.append(word)\n",
    "        return ans"
   ]
  },
  {
   "cell_type": "code",
   "execution_count": 3,
   "id": "20132cc7",
   "metadata": {},
   "outputs": [
    {
     "name": "stdout",
     "output_type": "stream",
     "text": [
      "Enter words separated by space: dada alright rope\n",
      "Output: ['dada', 'rope']\n"
     ]
    }
   ],
   "source": [
    "from typing import List\n",
    "\n",
    "class Solution:\n",
    "    def findWords(self, words: List[str]) -> List[str]:\n",
    "        ans = []\n",
    "        rows = [\n",
    "            \"qwertyuiop\",\n",
    "            \"asdfghjkl\",\n",
    "            \"zxcvbnm\"\n",
    "        ]\n",
    "        \n",
    "        for word in words:\n",
    "            for row in rows:\n",
    "                if all(x in row for x in word.lower()):\n",
    "                    ans.append(word)\n",
    "                    break  \n",
    "        return ans\n",
    "    \n",
    "input_words = input(\"Enter words separated by space: \").split()\n",
    "solution = Solution()\n",
    "output = solution.findWords(input_words)\n",
    "print(\"Output:\", output)"
   ]
  },
  {
   "cell_type": "code",
   "execution_count": 4,
   "id": "c5148a55",
   "metadata": {
    "collapsed": true
   },
   "outputs": [
    {
     "data": {
      "text/plain": [
       "'input_words = input(\"Enter words separated by space: \").split()\\nsolution = Solution()\\noutput = solution.findWords(input_words)\\nprint(\"Output:\", output)'"
      ]
     },
     "execution_count": 4,
     "metadata": {},
     "output_type": "execute_result"
    }
   ],
   "source": [
    "'''input_words = input(\"Enter words separated by space: \").split()\n",
    "solution = Solution()\n",
    "output = solution.findWords(input_words)\n",
    "print(\"Output:\", output)'''"
   ]
  },
  {
   "cell_type": "code",
   "execution_count": null,
   "id": "381d2798",
   "metadata": {},
   "outputs": [],
   "source": []
  }
 ],
 "metadata": {
  "kernelspec": {
   "display_name": "Python 3 (ipykernel)",
   "language": "python",
   "name": "python3"
  },
  "language_info": {
   "codemirror_mode": {
    "name": "ipython",
    "version": 3
   },
   "file_extension": ".py",
   "mimetype": "text/x-python",
   "name": "python",
   "nbconvert_exporter": "python",
   "pygments_lexer": "ipython3",
   "version": "3.11.5"
  }
 },
 "nbformat": 4,
 "nbformat_minor": 5
}
