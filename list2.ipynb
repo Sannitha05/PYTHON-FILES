{
 "cells": [
  {
   "cell_type": "code",
   "execution_count": 12,
   "id": "d5d49e6c-28e2-4f92-839c-ad3b6fc224db",
   "metadata": {},
   "outputs": [
    {
     "name": "stdout",
     "output_type": "stream",
     "text": [
      "[1, 2, 3, 4, 5, 6, 7, 8, 9, 10]\n",
      "385\n"
     ]
    }
   ],
   "source": [
    "#filter\n",
    "def squares(x):\n",
    "    return (x**2)\n",
    "    squares=[]\n",
    "squares=list(filter(squares,range(1,11)))\n",
    "print(squares)\n",
    "sum=0\n",
    "for i in squares:\n",
    "    sum+=i**2\n",
    "print(sum)"
   ]
  },
  {
   "cell_type": "code",
   "execution_count": 1,
   "id": "cf665023-8dd7-403f-ad62-4529801f5f45",
   "metadata": {},
   "outputs": [
    {
     "name": "stdin",
     "output_type": "stream",
     "text": [
      "enter the number: 4\n"
     ]
    },
    {
     "name": "stdout",
     "output_type": "stream",
     "text": [
      "4 element is found at 3 location\n",
      "4 element is found at 7 location\n",
      "2\n"
     ]
    }
   ],
   "source": [
    "#count\n",
    "list=[1,2,3,4,5,6,5,4,3,2,1]\n",
    "search=int(input(\"enter the number:\"))\n",
    "i=0\n",
    "c=0\n",
    "while (i<len(list)):\n",
    "    if search==list[i]:\n",
    "        print(search,\"element is found at\",i,\"location\")\n",
    "        c+=1\n",
    "    i+=1\n",
    "print(c)"
   ]
  },
  {
   "cell_type": "code",
   "execution_count": 4,
   "id": "3fe16490-6d72-4604-93c7-c0adb22076c2",
   "metadata": {},
   "outputs": [
    {
     "name": "stdout",
     "output_type": "stream",
     "text": [
      "4\n",
      "[1, 2, 3, 4, 5, 6, 7, 6, 5]\n",
      "5\n",
      "[1, 2, 3, 4, 5, 6, 7, 6]\n",
      "6\n",
      "[1, 2, 3, 4, 5, 6, 7]\n"
     ]
    }
   ],
   "source": [
    "list=[1,2,3,4,5,6,7,6,5,4]\n",
    "for i in range(7,10):\n",
    "    print(list.pop())\n",
    "    print(list)"
   ]
  },
  {
   "cell_type": "code",
   "execution_count": null,
   "id": "a14286ab-4180-4d3c-ad8f-2531ba2fbedf",
   "metadata": {},
   "outputs": [],
   "source": []
  }
 ],
 "metadata": {
  "kernelspec": {
   "display_name": "Python 3 (ipykernel)",
   "language": "python",
   "name": "python3"
  },
  "language_info": {
   "codemirror_mode": {
    "name": "ipython",
    "version": 3
   },
   "file_extension": ".py",
   "mimetype": "text/x-python",
   "name": "python",
   "nbconvert_exporter": "python",
   "pygments_lexer": "ipython3",
   "version": "3.11.7"
  }
 },
 "nbformat": 4,
 "nbformat_minor": 5
}
