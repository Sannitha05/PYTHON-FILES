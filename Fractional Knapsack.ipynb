{
 "cells": [
  {
   "cell_type": "code",
   "execution_count": 1,
   "id": "9be62433",
   "metadata": {},
   "outputs": [
    {
     "name": "stdout",
     "output_type": "stream",
     "text": [
      "240.0\n"
     ]
    }
   ],
   "source": [
    "class Item:\n",
    "    def __init__(self, profit, weight):\n",
    "        self.profit = profit\n",
    "        self.weight = weight\n",
    "\n",
    "def fractionalKnapsack(W, arr):\n",
    "\n",
    "    arr.sort(key=lambda x: (x.profit/x.weight), reverse=True) \n",
    "\n",
    "    finalvalue = 0.0\n",
    "\n",
    "    for item in arr:\n",
    "\n",
    "        if item.weight <= W:\n",
    "            W -= item.weight\n",
    "            finalvalue += item.profit\n",
    "\n",
    "        else:\n",
    "            finalvalue += item.profit * W / item.weight\n",
    "\n",
    "    return finalvalue\n",
    "\n",
    "\n",
    "if __name__ == \"__main__\":\n",
    "    W = 50\n",
    "    arr = [Item(60, 10), Item(100, 20), Item(120, 30)]\n",
    "\n",
    "    \n",
    "    max_val = fractionalKnapsack(W, arr)\n",
    "    print(max_val)\n"
   ]
  },
  {
   "cell_type": "code",
   "execution_count": 2,
   "id": "ebe2c39c",
   "metadata": {},
   "outputs": [
    {
     "name": "stdout",
     "output_type": "stream",
     "text": [
      "Maximum Total Value: 240.0\n",
      "Selected Items (fractions): [1, 1, 0.6666666666666666]\n"
     ]
    }
   ],
   "source": [
    "def fractional_knapsack(capacity, weights, values):\n",
    "    n = len(weights)\n",
    "    ratios = [(values[i] / weights[i], weights[i], values[i], i) for i in range(n)]\n",
    "    ratios.sort(reverse=True, key=lambda x: x[0])\n",
    "\n",
    "    total_value = 0\n",
    "    knapsack = [0] * n\n",
    "\n",
    "    for ratio, weight, value, index in ratios:\n",
    "        if capacity >= weight:\n",
    "            knapsack[index] = 1\n",
    "            total_value += value\n",
    "            capacity -= weight\n",
    "        else:\n",
    "            fraction = capacity / weight\n",
    "            knapsack[index] = fraction\n",
    "            total_value += fraction * value\n",
    "            break\n",
    "\n",
    "    return total_value, knapsack\n",
    "\n",
    "# Example usage:\n",
    "knapsack_capacity = 50\n",
    "item_weights = [10, 20, 30]\n",
    "item_values = [60, 100, 120]\n",
    "\n",
    "max_total_value, selected_items = fractional_knapsack(knapsack_capacity, item_weights, item_values)\n",
    "print(\"Maximum Total Value:\", max_total_value)\n",
    "print(\"Selected Items (fractions):\", selected_items)"
   ]
  },
  {
   "cell_type": "code",
   "execution_count": null,
   "id": "46d28f61",
   "metadata": {},
   "outputs": [],
   "source": []
  }
 ],
 "metadata": {
  "kernelspec": {
   "display_name": "Python 3 (ipykernel)",
   "language": "python",
   "name": "python3"
  },
  "language_info": {
   "codemirror_mode": {
    "name": "ipython",
    "version": 3
   },
   "file_extension": ".py",
   "mimetype": "text/x-python",
   "name": "python",
   "nbconvert_exporter": "python",
   "pygments_lexer": "ipython3",
   "version": "3.11.5"
  }
 },
 "nbformat": 4,
 "nbformat_minor": 5
}
