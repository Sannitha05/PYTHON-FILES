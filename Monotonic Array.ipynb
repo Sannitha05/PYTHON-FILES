{
 "cells": [
  {
   "cell_type": "code",
   "execution_count": 8,
   "id": "bc632a64",
   "metadata": {},
   "outputs": [
    {
     "name": "stdout",
     "output_type": "stream",
     "text": [
      "Enter numbers separated by spaces: 3 4 5 6 7\n",
      "True\n"
     ]
    }
   ],
   "source": [
    "class Solution:\n",
    "    def isMonotonic(self, nums: List[int]) -> bool:\n",
    "        if len(nums) < 2:\n",
    "            return True\n",
    "        \n",
    "        direction = 0  \n",
    "        \n",
    "        for i in range(1, len(nums)):\n",
    "            if nums[i] > nums[i-1]: \n",
    "                if direction == 0:\n",
    "                    direction = 1\n",
    "                elif direction == -1:\n",
    "                    return False\n",
    "            elif nums[i] < nums[i-1]:  \n",
    "                if direction == 0:\n",
    "                    direction = -1\n",
    "                elif direction == 1:\n",
    "                    return False\n",
    "        return True\n",
    "nums = list(map(int, input(\"Enter numbers separated by spaces: \").split()))\n",
    "print(Solution().isMonotonic(nums))"
   ]
  },
  {
   "cell_type": "code",
   "execution_count": 7,
   "id": "8d8e5ba9",
   "metadata": {},
   "outputs": [
    {
     "name": "stdout",
     "output_type": "stream",
     "text": [
      "Enter numbers separated by spaces: 1 2 3 3\n",
      "True\n"
     ]
    }
   ],
   "source": [
    " \n",
    "\n",
    "class Solution:\n",
    "    def isMonotonic(self, nums: List[int]) -> bool:\n",
    "        if len(nums) < 2:\n",
    "            return True\n",
    "        \n",
    "        direction = 0  \n",
    "        \n",
    "        for i in range(1, len(nums)):\n",
    "            if nums[i] > nums[i-1]: \n",
    "                if direction == 0:\n",
    "                    direction = 1 \n",
    "                elif direction == -1:\n",
    "                    return False  \n",
    "            elif nums[i] < nums[i-1]:  \n",
    "                if direction == 0:\n",
    "                    direction = -1  \n",
    "                elif direction == 1:\n",
    "                    return False  \n",
    "        return True  \n",
    "\n",
    "nums = list(map(int, input(\"Enter numbers separated by spaces: \").split()))\n",
    "print(Solution().isMonotonic(nums))\n"
   ]
  },
  {
   "cell_type": "code",
   "execution_count": 5,
   "id": "7ec45e3d",
   "metadata": {},
   "outputs": [
    {
     "name": "stdout",
     "output_type": "stream",
     "text": [
      "Enter numbers separated by spaces: 6 5 4 4 \n",
      "True\n"
     ]
    }
   ],
   "source": [
    "from typing import List  # Import List from the typing module\n",
    "\n",
    "class Solution:\n",
    "    def isMonotonic(self, nums: List[int]) -> bool:\n",
    "        if len(nums) < 2:\n",
    "            return True\n",
    "        \n",
    "        direction = 0  \n",
    "        \n",
    "        for i in range(1, len(nums)):\n",
    "            if nums[i] > nums[i-1]: \n",
    "                if direction == 0:\n",
    "                    direction = 1 \n",
    "                elif direction == -1:\n",
    "                    return False  \n",
    "            elif nums[i] < nums[i-1]:  \n",
    "                if direction == 0:\n",
    "                    direction = -1  \n",
    "                elif direction == 1:\n",
    "                    return False  \n",
    "        return True  \n",
    "\n",
    "nums = list(map(int, input(\"Enter numbers separated by spaces: \").split()))\n",
    "print(Solution().isMonotonic(nums))\n"
   ]
  },
  {
   "cell_type": "code",
   "execution_count": 6,
   "id": "77615b4c",
   "metadata": {},
   "outputs": [
    {
     "name": "stdout",
     "output_type": "stream",
     "text": [
      "Enter numbers separated by spaces: 5 6 4\n",
      "False\n"
     ]
    }
   ],
   "source": [
    "from typing import List  # Import List from the typing module\n",
    "\n",
    "class Solution:\n",
    "    def isMonotonic(self, nums: List[int]) -> bool:\n",
    "        if len(nums) < 2:\n",
    "            return True\n",
    "        \n",
    "        direction = 0  \n",
    "        \n",
    "        for i in range(1, len(nums)):\n",
    "            if nums[i] > nums[i-1]: \n",
    "                if direction == 0:\n",
    "                    direction = 1 \n",
    "                elif direction == -1:\n",
    "                    return False  \n",
    "            elif nums[i] < nums[i-1]:  \n",
    "                if direction == 0:\n",
    "                    direction = -1  \n",
    "                elif direction == 1:\n",
    "                    return False  \n",
    "        return True  \n",
    "\n",
    "nums = list(map(int, input(\"Enter numbers separated by spaces: \").split()))\n",
    "print(Solution().isMonotonic(nums))\n"
   ]
  },
  {
   "cell_type": "code",
   "execution_count": null,
   "id": "bdf137d6",
   "metadata": {},
   "outputs": [],
   "source": []
  }
 ],
 "metadata": {
  "kernelspec": {
   "display_name": "Python 3 (ipykernel)",
   "language": "python",
   "name": "python3"
  },
  "language_info": {
   "codemirror_mode": {
    "name": "ipython",
    "version": 3
   },
   "file_extension": ".py",
   "mimetype": "text/x-python",
   "name": "python",
   "nbconvert_exporter": "python",
   "pygments_lexer": "ipython3",
   "version": "3.11.5"
  }
 },
 "nbformat": 4,
 "nbformat_minor": 5
}
