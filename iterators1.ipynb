{
 "cells": [
  {
   "cell_type": "code",
   "execution_count": 8,
   "id": "095960ab",
   "metadata": {},
   "outputs": [
    {
     "name": "stdout",
     "output_type": "stream",
     "text": [
      "1 "
     ]
    }
   ],
   "source": [
    "#w.a.p.to print all the odd numbers by using an iter and next functions \n",
    "#evalvuating the list with the help of a class .\n",
    "class OddIter:\n",
    "    def __init__(self,mylist):\n",
    "        self.mylist=mylist\n",
    "        self.index=0\n",
    "    def __iter__(self):\n",
    "        return self\n",
    "    def __next__(self):\n",
    "        while self.index<len(self.mylist):\n",
    "            num= self.mylist[self.index]\n",
    "            self.index+=1\n",
    "            if num%2!=0:\n",
    "                return num\n",
    "            raise StopIteration\n",
    "mylist=[1,2,3,4,5,6,7,8,9,10,11,12,13,14,15,16,17,18,19,20]\n",
    "odd=OddIter(mylist)\n",
    "for num in odd:\n",
    "    print(num,end=\" \")"
   ]
  },
  {
   "cell_type": "code",
   "execution_count": 9,
   "id": "0ab6bcdd",
   "metadata": {},
   "outputs": [
    {
     "name": "stdout",
     "output_type": "stream",
     "text": [
      "3 7 11 15 19 "
     ]
    }
   ],
   "source": [
    "class odd:\n",
    "    def __iter__(self):\n",
    "        self.val=1\n",
    "        return self\n",
    "    def __next__(self):\n",
    "        val=self.val\n",
    "        self.val+=2\n",
    "        return val\n",
    "o=odd()\n",
    "for i in o:\n",
    "    print(next(o),end=\" \")\n",
    "    if o.val==21:\n",
    "        break"
   ]
  },
  {
   "cell_type": "code",
   "execution_count": 1,
   "id": "13422943",
   "metadata": {},
   "outputs": [
    {
     "name": "stdout",
     "output_type": "stream",
     "text": [
      "H\n",
      "e\n",
      "l\n",
      "l\n",
      "o\n",
      " \n",
      "W\n",
      "o\n",
      "r\n",
      "l\n",
      "d\n"
     ]
    }
   ],
   "source": [
    "string = 'Hello World'\n",
    "iterObj = iter(string)\n",
    "\n",
    "while True:\n",
    "    try:\n",
    "        char1 = next(iterObj)\n",
    "        print(char1)\n",
    "    except StopIteration:\n",
    "        break"
   ]
  },
  {
   "cell_type": "code",
   "execution_count": 2,
   "id": "66ca7392",
   "metadata": {},
   "outputs": [
    {
     "name": "stdout",
     "output_type": "stream",
     "text": [
      "T\n",
      "e\n",
      "l\n",
      "l\n",
      "i\n",
      "b\n",
      "o\n",
      "i\n",
      "n\n",
      "a\n",
      " \n",
      "S\n",
      "a\n",
      "n\n",
      "n\n",
      "i\n",
      "t\n",
      "h\n",
      "a\n"
     ]
    }
   ],
   "source": [
    "string = 'Telliboina Sannitha'\n",
    "iterObj = iter(string)\n",
    "\n",
    "while True:\n",
    "    try:\n",
    "        char1 = next(iterObj)\n",
    "        print(char1)\n",
    "    except StopIteration:\n",
    "        break"
   ]
  },
  {
   "cell_type": "code",
   "execution_count": 3,
   "id": "6bd27d86",
   "metadata": {},
   "outputs": [
    {
     "name": "stdout",
     "output_type": "stream",
     "text": [
      "0\n",
      "4\n",
      "8\n",
      "12\n",
      "16\n",
      "20\n",
      "24\n"
     ]
    }
   ],
   "source": [
    "class multipleOf4:\n",
    "  def __iter__(self):\n",
    "    self.count = 0\n",
    "    return self\n",
    "\n",
    "  def __next__(self):\n",
    "    if self.count <= 24:\n",
    "      x = self.count\n",
    "      self.count += 4\n",
    "      return x\n",
    "    else:\n",
    "      raise StopIteration\n",
    "\n",
    "obj1 = multipleOf4()\n",
    "number = iter(obj1)\n",
    "\n",
    "for x in number:\n",
    "  print(x)"
   ]
  },
  {
   "cell_type": "code",
   "execution_count": null,
   "id": "876e6cf9",
   "metadata": {},
   "outputs": [],
   "source": []
  }
 ],
 "metadata": {
  "kernelspec": {
   "display_name": "Python 3 (ipykernel)",
   "language": "python",
   "name": "python3"
  },
  "language_info": {
   "codemirror_mode": {
    "name": "ipython",
    "version": 3
   },
   "file_extension": ".py",
   "mimetype": "text/x-python",
   "name": "python",
   "nbconvert_exporter": "python",
   "pygments_lexer": "ipython3",
   "version": "3.11.5"
  }
 },
 "nbformat": 4,
 "nbformat_minor": 5
}
