{
 "cells": [
  {
   "cell_type": "code",
   "execution_count": 4,
   "id": "e4430350",
   "metadata": {},
   "outputs": [
    {
     "name": "stdout",
     "output_type": "stream",
     "text": [
      "4\n"
     ]
    }
   ],
   "source": [
    "def coin_change(coins,amount):\n",
    "    coins.sort(reverse=True)\n",
    "    count=0\n",
    "    for coin in coins:\n",
    "        while amount >= coin:\n",
    "            amount-=coin\n",
    "            count+=1\n",
    "    return count if amount==0 else -1\n",
    "coins=[1,2,3]\n",
    "amount=11\n",
    "print(coin_change(coins,amount))"
   ]
  },
  {
   "cell_type": "code",
   "execution_count": null,
   "id": "86bb52bb",
   "metadata": {},
   "outputs": [],
   "source": []
  }
 ],
 "metadata": {
  "kernelspec": {
   "display_name": "Python 3 (ipykernel)",
   "language": "python",
   "name": "python3"
  },
  "language_info": {
   "codemirror_mode": {
    "name": "ipython",
    "version": 3
   },
   "file_extension": ".py",
   "mimetype": "text/x-python",
   "name": "python",
   "nbconvert_exporter": "python",
   "pygments_lexer": "ipython3",
   "version": "3.11.5"
  }
 },
 "nbformat": 4,
 "nbformat_minor": 5
}
