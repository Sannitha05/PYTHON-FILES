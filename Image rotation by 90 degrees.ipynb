{
 "cells": [
  {
   "cell_type": "code",
   "execution_count": null,
   "id": "c57c0484",
   "metadata": {},
   "outputs": [],
   "source": [
    "def rotate_matrix(matrix):\n",
    "    n = len(matrix)\n",
    "    for i in range(n):\n",
    "        for j in range(i+1, n):\n",
    "            matrix[i][j], matrix[j][i] = matrix[j][i], matrix[i][j]\n",
    "    for i in range(n):\n",
    "        matrix[i].reverse()\n",
    "\n",
    "n = int(input())\n",
    "matrix = [list(map(int, input().strip('()').split())) for _ in range(n)]\n",
    "\n",
    "rotate_matrix(matrix)\n",
    "\n",
    "for row in matrix:\n",
    "    print('-'.join(map(str, row)) + ':')"
   ]
  }
 ],
 "metadata": {
  "kernelspec": {
   "display_name": "Python 3 (ipykernel)",
   "language": "python",
   "name": "python3"
  },
  "language_info": {
   "codemirror_mode": {
    "name": "ipython",
    "version": 3
   },
   "file_extension": ".py",
   "mimetype": "text/x-python",
   "name": "python",
   "nbconvert_exporter": "python",
   "pygments_lexer": "ipython3",
   "version": "3.11.5"
  }
 },
 "nbformat": 4,
 "nbformat_minor": 5
}
