{
 "cells": [
  {
   "cell_type": "code",
   "execution_count": 4,
   "id": "f4f53b81",
   "metadata": {},
   "outputs": [
    {
     "name": "stdout",
     "output_type": "stream",
     "text": [
      "majority element : 7\n"
     ]
    }
   ],
   "source": [
    "def majority_elements(nums):\n",
    "    n = len(nums)\n",
    "    for num in nums:\n",
    "        count = nums.count(num)\n",
    "        if count > n//2:\n",
    "            return num \n",
    "        \n",
    "nums = [7,0,0,1,7,7,2,7,7]\n",
    "print(\"majority element :\",majority_elements(nums))\n",
    "    "
   ]
  },
  {
   "cell_type": "code",
   "execution_count": 5,
   "id": "86bb37f5",
   "metadata": {},
   "outputs": [
    {
     "name": "stdout",
     "output_type": "stream",
     "text": [
      "majority element : None\n"
     ]
    }
   ],
   "source": [
    "def majority_elements(nums):\n",
    "    n = len(nums)\n",
    "    for num in nums:\n",
    "        count = nums.count(num)\n",
    "        if count > n//2:\n",
    "            return num \n",
    "        \n",
    "nums = [3,0,2,3,4,7,1,3,9,3,3,1]\n",
    "print(\"majority element :\",majority_elements(nums))\n",
    "    "
   ]
  },
  {
   "cell_type": "code",
   "execution_count": 7,
   "id": "645a0a50",
   "metadata": {},
   "outputs": [
    {
     "name": "stdout",
     "output_type": "stream",
     "text": [
      "majority element : 2\n"
     ]
    }
   ],
   "source": [
    "def majority_elements(nums):\n",
    "    n = len(nums)\n",
    "    for num in nums:\n",
    "        count = nums.count(num)\n",
    "        if count > n//2:\n",
    "            return num \n",
    "        \n",
    "nums = [2,4,6,1,2,2,2,7,8,5,2,4,2,2,2]\n",
    "print(\"majority element :\",majority_elements(nums))\n",
    "    "
   ]
  },
  {
   "cell_type": "code",
   "execution_count": 2,
   "id": "94798af3",
   "metadata": {},
   "outputs": [
    {
     "name": "stdout",
     "output_type": "stream",
     "text": [
      "majority element : 6\n"
     ]
    }
   ],
   "source": [
    "def majority_element(nums):\n",
    "    n = len(nums)\n",
    "    for num in nums:\n",
    "        count = nums.count(num)\n",
    "        if count > n//3:\n",
    "            return num\n",
    "\n",
    "nums = [6,4,2,6,6,4,2,6,6,4,6,6,6,6,4]\n",
    "print(\"majority element :\",majority_element(nums))"
   ]
  },
  {
   "cell_type": "code",
   "execution_count": 3,
   "id": "e7527f11",
   "metadata": {},
   "outputs": [
    {
     "name": "stdout",
     "output_type": "stream",
     "text": [
      "Element 6: appears 9 times (majority)\n",
      "Majority elements array: [6]\n"
     ]
    }
   ],
   "source": [
    "def majority_elements(nums):\n",
    "    n = len(nums)\n",
    "    threshold = n // 3\n",
    "    count_map = {}\n",
    "    result = []\n",
    "    \n",
    "    for num in nums:\n",
    "        count_map[num] = count_map.get(num, 0) + 1\n",
    "    \n",
    "    for num, count in count_map.items():\n",
    "        if count > threshold:\n",
    "            print(f\"Element {num}: appears {count} times (majority)\")\n",
    "            result.append(num)\n",
    "    \n",
    "    return result\n",
    "\n",
    "nums = [6,4,2,6,6,4,2,6,6,4,6,6,6,6,4]\n",
    "majority_array = majority_elements(nums)\n",
    "print(\"Majority elements array:\", majority_array)"
   ]
  },
  {
   "cell_type": "code",
   "execution_count": 5,
   "id": "20ba995a",
   "metadata": {},
   "outputs": [
    {
     "ename": "NameError",
     "evalue": "name 'count' is not defined",
     "output_type": "error",
     "traceback": [
      "\u001b[1;31m---------------------------------------------------------------------------\u001b[0m",
      "\u001b[1;31mNameError\u001b[0m                                 Traceback (most recent call last)",
      "Cell \u001b[1;32mIn[5], line 16\u001b[0m\n\u001b[0;32m     13\u001b[0m     \u001b[38;5;28;01mreturn\u001b[39;00m result\n\u001b[0;32m     15\u001b[0m nums \u001b[38;5;241m=\u001b[39m [\u001b[38;5;241m1\u001b[39m,\u001b[38;5;241m1\u001b[39m,\u001b[38;5;241m1\u001b[39m,\u001b[38;5;241m1\u001b[39m,\u001b[38;5;241m1\u001b[39m,\u001b[38;5;241m1\u001b[39m,\u001b[38;5;241m2\u001b[39m,\u001b[38;5;241m2\u001b[39m,\u001b[38;5;241m2\u001b[39m,\u001b[38;5;241m2\u001b[39m,\u001b[38;5;241m2\u001b[39m,\u001b[38;5;241m2\u001b[39m,\u001b[38;5;241m3\u001b[39m,\u001b[38;5;241m4\u001b[39m,\u001b[38;5;241m5\u001b[39m]\n\u001b[1;32m---> 16\u001b[0m majority_array \u001b[38;5;241m=\u001b[39m majority_elements(nums)\n\u001b[0;32m     17\u001b[0m \u001b[38;5;28mprint\u001b[39m(\u001b[38;5;124m\"\u001b[39m\u001b[38;5;124mMajority elements array:\u001b[39m\u001b[38;5;124m\"\u001b[39m, majority_array)\n",
      "Cell \u001b[1;32mIn[5], line 9\u001b[0m, in \u001b[0;36mmajority_elements\u001b[1;34m(nums)\u001b[0m\n\u001b[0;32m      6\u001b[0m \u001b[38;5;28;01mfor\u001b[39;00m num \u001b[38;5;129;01min\u001b[39;00m nums:\n\u001b[0;32m      7\u001b[0m     count_map[num] \u001b[38;5;241m=\u001b[39m count_map\u001b[38;5;241m.\u001b[39mget(num, \u001b[38;5;241m0\u001b[39m) \u001b[38;5;241m+\u001b[39m \u001b[38;5;241m1\u001b[39m\n\u001b[1;32m----> 9\u001b[0m     \u001b[38;5;28;01mif\u001b[39;00m count \u001b[38;5;241m>\u001b[39m n \u001b[38;5;241m/\u001b[39m\u001b[38;5;241m/\u001b[39m \u001b[38;5;241m3\u001b[39m:\n\u001b[0;32m     10\u001b[0m         \u001b[38;5;28mprint\u001b[39m(\u001b[38;5;124mf\u001b[39m\u001b[38;5;124m\"\u001b[39m\u001b[38;5;124mElement \u001b[39m\u001b[38;5;132;01m{\u001b[39;00mnum\u001b[38;5;132;01m}\u001b[39;00m\u001b[38;5;124m: appears \u001b[39m\u001b[38;5;132;01m{\u001b[39;00mcount\u001b[38;5;132;01m}\u001b[39;00m\u001b[38;5;124m times (majority)\u001b[39m\u001b[38;5;124m\"\u001b[39m)\n\u001b[0;32m     11\u001b[0m         result\u001b[38;5;241m.\u001b[39mappend(num)\n",
      "\u001b[1;31mNameError\u001b[0m: name 'count' is not defined"
     ]
    }
   ],
   "source": [
    "def majority_elements(nums):\n",
    "    n = len(nums)\n",
    "    count_map = {}\n",
    "    result = []\n",
    "    \n",
    "    for num in nums:\n",
    "        count_map[num] = count_map.get(num, 0) + 1\n",
    "    \n",
    "        if count > n // 3:\n",
    "            print(f\"Element {num}: appears {count} times (majority)\")\n",
    "            result.append(num)\n",
    "    \n",
    "    return result\n",
    "\n",
    "nums = [1,1,1,1,1,1,2,2,2,2,2,2,3,4,5]\n",
    "majority_array = majority_elements(nums)\n",
    "print(\"Majority elements array:\", majority_array)"
   ]
  },
  {
   "cell_type": "code",
   "execution_count": 6,
   "id": "7ea0a7bf",
   "metadata": {},
   "outputs": [
    {
     "name": "stdout",
     "output_type": "stream",
     "text": [
      "Element 1: appears 6 times (majority)\n",
      "Element 2: appears 6 times (majority)\n",
      "Majority elements array: [1, 2]\n"
     ]
    }
   ],
   "source": [
    "def majority_elements(nums):\n",
    "    n = len(nums)\n",
    "    count_map = {}\n",
    "    result = []\n",
    "    \n",
    "    for num in nums:\n",
    "        count_map[num] = count_map.get(num, 0) + 1\n",
    "        count = count_map[num]  \n",
    "    \n",
    "        if count > n // 3:\n",
    "            print(f\"Element {num}: appears {count} times (majority)\")\n",
    "            result.append(num)\n",
    "    \n",
    "    return result\n",
    "\n",
    "nums = [1,1,1,1,1,1,2,2,2,2,2,2,3,4,5]\n",
    "majority_array = majority_elements(nums)\n",
    "print(\"Majority elements array:\", majority_array)"
   ]
  },
  {
   "cell_type": "code",
   "execution_count": 7,
   "id": "81774364",
   "metadata": {},
   "outputs": [
    {
     "name": "stdout",
     "output_type": "stream",
     "text": [
      "Element 1: appears 6 times (majority)\n",
      "Element 2: appears 6 times (majority)\n",
      "Majority elements array: [1, 2]\n"
     ]
    }
   ],
   "source": [
    "def majority_elements(nums):\n",
    "    n = len(nums)\n",
    "    count_map = {}\n",
    "    result = []\n",
    "    \n",
    "    for num in nums:\n",
    "        count_map[num] = count_map.get(num, 0) + 1\n",
    "    \n",
    "    for num, count in count_map.items():\n",
    "        if count > n // 3:\n",
    "            print(f\"Element {num}: appears {count} times (majority)\")\n",
    "            result.append(num)\n",
    "    \n",
    "    return result\n",
    "\n",
    "nums = [1,1,1,1,1,1,2,2,2,2,2,2,3,4,5]\n",
    "majority_array = majority_elements(nums)\n",
    "print(\"Majority elements array:\", majority_array)"
   ]
  },
  {
   "cell_type": "code",
   "execution_count": null,
   "id": "68740456",
   "metadata": {},
   "outputs": [],
   "source": []
  }
 ],
 "metadata": {
  "kernelspec": {
   "display_name": "Python 3 (ipykernel)",
   "language": "python",
   "name": "python3"
  },
  "language_info": {
   "codemirror_mode": {
    "name": "ipython",
    "version": 3
   },
   "file_extension": ".py",
   "mimetype": "text/x-python",
   "name": "python",
   "nbconvert_exporter": "python",
   "pygments_lexer": "ipython3",
   "version": "3.11.5"
  }
 },
 "nbformat": 4,
 "nbformat_minor": 5
}
