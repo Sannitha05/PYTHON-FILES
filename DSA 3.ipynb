{
 "cells": [
  {
   "cell_type": "raw",
   "id": "4afcdc92",
   "metadata": {},
   "source": []
  },
  {
   "cell_type": "code",
   "execution_count": 4,
   "id": "75b3960c",
   "metadata": {},
   "outputs": [
    {
     "name": "stdout",
     "output_type": "stream",
     "text": [
      "no\n"
     ]
    }
   ],
   "source": [
    "class Node:\n",
    "    def __init__(self,data):\n",
    "        self.data = data\n",
    "        self.next = None\n",
    "class LinkedList:\n",
    "    def __init__(self):\n",
    "        self.head = None\n",
    "    def push(self,new_data):\n",
    "        new_node = Node(new_data)\n",
    "        new_node.next = self.head\n",
    "        self.head = new_node\n",
    "    def search(self,x):\n",
    "        current = self.head\n",
    "        while current != None:\n",
    "            if current.data == x:\n",
    "                return True\n",
    "            current = current.next\n",
    "        return False\n",
    "if __name__ == '__main__':\n",
    "    llist=LinkedList()\n",
    "    llist.push(10);\n",
    "    llist.push(30);\n",
    "    llist.push(11);\n",
    "    llist.push(21);\n",
    "    llist.push(14);\n",
    "    if llist.search(212):\n",
    "        print(\"yes\")\n",
    "    else:\n",
    "        print(\"no\")"
   ]
  },
  {
   "cell_type": "code",
   "execution_count": 2,
   "id": "96264d00",
   "metadata": {},
   "outputs": [
    {
     "name": "stdout",
     "output_type": "stream",
     "text": [
      "yes\n"
     ]
    }
   ],
   "source": [
    "class Node:\n",
    "    def __init__(self, data):\n",
    "        self.data = data\n",
    "        self.next = None\n",
    "\n",
    "class LinkedList:\n",
    "    def __init__(self):\n",
    "        self.head = None\n",
    "\n",
    "    def push(self, new_data):\n",
    "        new_node = Node(new_data)\n",
    "        if self.head is None:\n",
    "            self.head = new_node\n",
    "        else:\n",
    "            new_node.next = self.head\n",
    "            self.head = new_node\n",
    "\n",
    "    def search(self, x):\n",
    "        current = self.head\n",
    "        while current:\n",
    "            if current.data == x:\n",
    "                return True\n",
    "            current = current.next\n",
    "        return False\n",
    "\n",
    "if __name__ == '__main__':\n",
    "    llist = LinkedList()\n",
    "    llist.push(10)\n",
    "    llist.push(30)\n",
    "    llist.push(11)\n",
    "    llist.push(21)\n",
    "    llist.push(14)\n",
    "    if llist.search(21):\n",
    "        print(\"yes\")\n",
    "    else:\n",
    "        print(\"no\")"
   ]
  },
  {
   "cell_type": "code",
   "execution_count": null,
   "id": "b20fa7f5",
   "metadata": {},
   "outputs": [],
   "source": [
    "def AtBegining(self,newdata):\n",
    "    NewNode = Node(newdata)"
   ]
  }
 ],
 "metadata": {
  "kernelspec": {
   "display_name": "Python 3 (ipykernel)",
   "language": "python",
   "name": "python3"
  },
  "language_info": {
   "codemirror_mode": {
    "name": "ipython",
    "version": 3
   },
   "file_extension": ".py",
   "mimetype": "text/x-python",
   "name": "python",
   "nbconvert_exporter": "python",
   "pygments_lexer": "ipython3",
   "version": "3.11.5"
  }
 },
 "nbformat": 4,
 "nbformat_minor": 5
}
