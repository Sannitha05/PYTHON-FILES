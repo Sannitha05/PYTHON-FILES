{
 "cells": [
  {
   "cell_type": "code",
   "execution_count": 2,
   "id": "dedc40a3-cd04-4d50-bc96-81bde4be1e5e",
   "metadata": {},
   "outputs": [
    {
     "name": "stdout",
     "output_type": "stream",
     "text": [
      "variable1= 23\n",
      "variable2= 14.67\n",
      "dictionary= {'v1': 23, 'v2': 14.67}\n",
      "document= None\n",
      "name= abc\n",
      "bases= (<class 'object'>,)\n",
      "module= __main__\n"
     ]
    }
   ],
   "source": [
    "class abc():\n",
    "    def __init__(self,v1,v2):\n",
    "        self.v1=v1\n",
    "        self.v2=v2\n",
    "    def display(self):\n",
    "        print(\"variable1=\",self.v1)\n",
    "        print(\"variable2=\",self.v2)\n",
    "obj=abc(23,14.67)\n",
    "obj.display()\n",
    "print(\"dictionary=\",obj.__dict__)\n",
    "print(\"document=\",obj.__doc__)\n",
    "print(\"name=\",abc.__name__)\n",
    "print(\"bases=\",abc.__bases__)\n",
    "print(\"module=\",obj.__module__)"
   ]
  },
  {
   "cell_type": "code",
   "execution_count": 3,
   "id": "cdea595c-cd71-4a19-8ca3-93879f57b782",
   "metadata": {},
   "outputs": [
    {
     "name": "stdin",
     "output_type": "stream",
     "text": [
      "enter the marks of sannitha in subject 1: 12\n",
      "enter the marks of sannitha in subject 2: 45\n",
      "enter the marks of sannitha in subject 3: 66\n"
     ]
    },
    {
     "name": "stdout",
     "output_type": "stream",
     "text": [
      "sannitha got [12, 45, 66]\n"
     ]
    }
   ],
   "source": [
    "class student:\n",
    "    def __init__(self,name):\n",
    "        self.name=name\n",
    "        self.marks=[]\n",
    "    def input_marks(self):\n",
    "        for i in range(3):\n",
    "            m=int(input(\"enter the marks of %s in subject %d:\" %(self.name,i+1)))\n",
    "            self.marks.append(m)\n",
    "    def display(self):\n",
    "        print(self.name,\"got\",self.marks)\n",
    "s1=student(\"sannitha\")\n",
    "s1.input_marks()\n",
    "s1.display()"
   ]
  },
  {
   "cell_type": "code",
   "execution_count": 4,
   "id": "2fee0d69-88ae-45ad-b25c-c7e7f6a9627c",
   "metadata": {},
   "outputs": [
    {
     "name": "stdin",
     "output_type": "stream",
     "text": [
      "enter the marks of sannitha in subject 1: 33\n",
      "enter the marks of sannitha in subject 2: 56\n",
      "enter the marks of sannitha in subject 3: 32\n",
      "enter the marks of sai in subject 1: 88\n",
      "enter the marks of sai in subject 2: 65\n",
      "enter the marks of sai in subject 3: 45\n",
      "enter the marks of balaji in subject 1: 32\n",
      "enter the marks of balaji in subject 2: 90\n",
      "enter the marks of balaji in subject 3: 89\n"
     ]
    },
    {
     "name": "stdout",
     "output_type": "stream",
     "text": [
      "sannitha got [33, 56, 32]\n",
      "sai got [88, 65, 45]\n",
      "balaji got [32, 90, 89]\n"
     ]
    }
   ],
   "source": [
    "class student:\n",
    "    def __init__(self,name):\n",
    "        self.name=name\n",
    "        self.marks=[]\n",
    "    def input_marks(self):\n",
    "        for i in range(3):\n",
    "            m=int(input(\"enter the marks of %s in subject %d:\" %(self.name,i+1)))\n",
    "            self.marks.append(m)\n",
    "    def display(self):\n",
    "        print(self.name,\"got\",self.marks)\n",
    "s1=student(\"sannitha\")\n",
    "s2=student(\"sai\")\n",
    "s3=student(\"balaji\")\n",
    "s1.input_marks()\n",
    "s2.input_marks()\n",
    "s3.input_marks()\n",
    "s1.display()\n",
    "s2.display()\n",
    "s3.display()"
   ]
  },
  {
   "cell_type": "code",
   "execution_count": 1,
   "id": "659d2a08-d8f4-4b64-a06f-d966d073e606",
   "metadata": {},
   "outputs": [
    {
     "name": "stdin",
     "output_type": "stream",
     "text": [
      "enter the marks of sannitha in subject 1: 33\n",
      "enter the marks of sannitha in subject 2: 67\n",
      "enter the marks of sannitha in subject 3: 54\n"
     ]
    },
    {
     "name": "stdout",
     "output_type": "stream",
     "text": [
      "sannitha got [33, 67, 54]\n"
     ]
    }
   ],
   "source": [
    "class student:\n",
    "    def __init__(self,name):\n",
    "        self.name=name\n",
    "        self.marks=[]\n",
    "    def mar(self):\n",
    "        for i in range(3):\n",
    "            m=int(input(\"enter the marks of %s in subject %d:\" %(self.name,i+1)))\n",
    "            self.marks.append(m)\n",
    "    def display(self):\n",
    "        print(self.name,\"got\",self.marks)\n",
    "s=student(\"sannitha\")\n",
    "s.mar()\n",
    "s.display()"
   ]
  },
  {
   "cell_type": "code",
   "execution_count": 1,
   "id": "a7177dcf-8125-463a-8b29-595b5acab8a6",
   "metadata": {},
   "outputs": [
    {
     "name": "stdout",
     "output_type": "stream",
     "text": [
      "hello\n"
     ]
    }
   ],
   "source": [
    "print(\"hello\")"
   ]
  },
  {
   "cell_type": "code",
   "execution_count": null,
   "id": "06557647-4dcd-485d-93e2-014f59535c82",
   "metadata": {},
   "outputs": [],
   "source": []
  }
 ],
 "metadata": {
  "kernelspec": {
   "display_name": "Python 3 (ipykernel)",
   "language": "python",
   "name": "python3"
  },
  "language_info": {
   "codemirror_mode": {
    "name": "ipython",
    "version": 3
   },
   "file_extension": ".py",
   "mimetype": "text/x-python",
   "name": "python",
   "nbconvert_exporter": "python",
   "pygments_lexer": "ipython3",
   "version": "3.11.7"
  }
 },
 "nbformat": 4,
 "nbformat_minor": 5
}
