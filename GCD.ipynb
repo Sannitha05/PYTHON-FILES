{
 "cells": [
  {
   "cell_type": "code",
   "execution_count": 3,
   "id": "6a3f824a",
   "metadata": {},
   "outputs": [
    {
     "name": "stdout",
     "output_type": "stream",
     "text": [
      "The gcd of numbers is: 12\n"
     ]
    }
   ],
   "source": [
    "def gcd_no(num1,num2):\n",
    "    if(num2==0):\n",
    "        return num1\n",
    "    else:\n",
    "        return gcd_no(num2,num1%num2)\n",
    "num1 = 60\n",
    "num2 = 48\n",
    "print (\"The gcd of numbers is: \",end=\"\")\n",
    "print (gcd_no(60,48))"
   ]
  },
  {
   "cell_type": "code",
   "execution_count": null,
   "id": "5c284cfc",
   "metadata": {},
   "outputs": [],
   "source": []
  }
 ],
 "metadata": {
  "kernelspec": {
   "display_name": "Python 3 (ipykernel)",
   "language": "python",
   "name": "python3"
  },
  "language_info": {
   "codemirror_mode": {
    "name": "ipython",
    "version": 3
   },
   "file_extension": ".py",
   "mimetype": "text/x-python",
   "name": "python",
   "nbconvert_exporter": "python",
   "pygments_lexer": "ipython3",
   "version": "3.11.5"
  }
 },
 "nbformat": 4,
 "nbformat_minor": 5
}
