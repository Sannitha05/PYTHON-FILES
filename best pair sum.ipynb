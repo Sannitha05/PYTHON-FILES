{
 "cells": [
  {
   "cell_type": "code",
   "execution_count": 3,
   "id": "c0aedf06",
   "metadata": {},
   "outputs": [
    {
     "name": "stdout",
     "output_type": "stream",
     "text": [
      "Best pair: (98, 135)\n",
      "Sum of the best pair: 233\n"
     ]
    }
   ],
   "source": [
    "def find_best_pair(arr1, arr2):\n",
    "    if not arr1 or not arr2:\n",
    "        return None, None\n",
    "\n",
    "    max_sum = float('-inf')\n",
    "    best_pair = None\n",
    "\n",
    "    for num1 in arr1:\n",
    "        for num2 in arr2:\n",
    "            current_sum = num1 + num2\n",
    "            if current_sum > max_sum:\n",
    "                max_sum = current_sum\n",
    "                best_pair = (num1, num2)\n",
    "\n",
    "    return best_pair, max_sum\n",
    "\n",
    "arr1 = [23,45,67,98]\n",
    "arr2 = [34,89,135,56]\n",
    "best_pair, pair_sum = find_best_pair(arr1, arr2)\n",
    "print(\"Best pair:\", best_pair)\n",
    "print(\"Sum of the best pair:\", pair_sum)"
   ]
  },
  {
   "cell_type": "code",
   "execution_count": null,
   "id": "f6e0a94e",
   "metadata": {},
   "outputs": [],
   "source": []
  }
 ],
 "metadata": {
  "kernelspec": {
   "display_name": "Python 3 (ipykernel)",
   "language": "python",
   "name": "python3"
  },
  "language_info": {
   "codemirror_mode": {
    "name": "ipython",
    "version": 3
   },
   "file_extension": ".py",
   "mimetype": "text/x-python",
   "name": "python",
   "nbconvert_exporter": "python",
   "pygments_lexer": "ipython3",
   "version": "3.11.5"
  }
 },
 "nbformat": 4,
 "nbformat_minor": 5
}
