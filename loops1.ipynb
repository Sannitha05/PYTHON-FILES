{
 "cells": [
  {
   "cell_type": "code",
   "execution_count": 3,
   "id": "d9ade32b-d26b-404a-bbb4-4a4ff6da559d",
   "metadata": {},
   "outputs": [
    {
     "name": "stdout",
     "output_type": "stream",
     "text": [
      "        1 \n",
      "      1 2 \n",
      "    1 2 3 \n",
      "  1 2 3 4 \n",
      "1 2 3 4 5 \n"
     ]
    }
   ],
   "source": [
    "n=5\n",
    "for i in range(1,n+1):\n",
    "    for k in range(n,i,-1):\n",
    "        print(\" \",end=' ')\n",
    "    for j in range(1,i+1):\n",
    "        print(j,end=' ')\n",
    "    print()"
   ]
  },
  {
   "cell_type": "code",
   "execution_count": 4,
   "id": "0866ca1a-0f8e-4d80-87ee-f3571c3a3eb5",
   "metadata": {},
   "outputs": [
    {
     "name": "stdout",
     "output_type": "stream",
     "text": [
      "        1  \n",
      "      1  2  \n",
      "    1  2  3  \n",
      "  1  2  3  4  \n",
      "1  2  3  4  5  \n"
     ]
    }
   ],
   "source": [
    " n=5\n",
    "for i in range(1,n+1):\n",
    "    for k in range(n,i,-1):\n",
    "        print(\" \",end=' ')\n",
    "    for j in range(1,i+1):\n",
    "        print(j,end='  ')\n",
    "    print()"
   ]
  },
  {
   "cell_type": "code",
   "execution_count": 6,
   "id": "52a72a86-55a2-416a-a18d-915a3b228557",
   "metadata": {},
   "outputs": [
    {
     "name": "stdout",
     "output_type": "stream",
     "text": [
      "        1   \n",
      "      1   1   \n",
      "    1   2   1   \n",
      "  1   3   3   1   \n",
      "1   4   6   4   1   \n"
     ]
    }
   ],
   "source": [
    "n=5\n",
    "for i in range(1,n+1):\n",
    "    for j in range(n-i):\n",
    "        print(\" \",end=' ')\n",
    "    c=1\n",
    "    for j in range(1,i+1):\n",
    "        print(c,' ',sep=' ',end=' ')\n",
    "        c=c*(i-j)//j\n",
    "    print()"
   ]
  },
  {
   "cell_type": "code",
   "execution_count": 10,
   "id": "4235e1e9-c2e2-4698-a14a-70d8c2f67d00",
   "metadata": {},
   "outputs": [
    {
     "name": "stdout",
     "output_type": "stream",
     "text": [
      "        1   \n",
      "      1   1   \n",
      "    1   1   1   \n",
      "  1   1   1   1   \n",
      "1   1   1   1   1   \n"
     ]
    }
   ],
   "source": [
    "n=5\n",
    "for i in range(1,n+1):\n",
    "    for j in range(n-i):\n",
    "        print(\" \",end=' ')\n",
    "    c=1\n",
    "    for j in range(1,i+1):\n",
    "        print(c,' ',sep=' ',end=' ')\n",
    "        #c=c*(i-j)//j\n",
    "    print()"
   ]
  },
  {
   "cell_type": "code",
   "execution_count": 11,
   "id": "91ef3ce4-3596-4773-811b-89464941bb2a",
   "metadata": {},
   "outputs": [
    {
     "name": "stdout",
     "output_type": "stream",
     "text": [
      "        *   \n",
      "      *   *   \n",
      "    *   *   *   \n",
      "  *   *   *   *   \n",
      "*   *   *   *   *   \n"
     ]
    }
   ],
   "source": [
    "n=5\n",
    "for i in range(1,n+1):\n",
    "    for j in range(n-i):\n",
    "        print(\" \",end=' ')\n",
    "    c=\"*\"\n",
    "    for j in range(1,i+1):\n",
    "        print(c,' ',sep=' ',end=' ')\n",
    "        #c=c*(i-j)//j\n",
    "    print()"
   ]
  },
  {
   "cell_type": "code",
   "execution_count": 12,
   "id": "a7f1e329-011c-4363-bf65-144584aa5c74",
   "metadata": {},
   "outputs": [
    {
     "name": "stdout",
     "output_type": "stream",
     "text": [
      "        #   \n",
      "      #   #   \n",
      "    #   #   #   \n",
      "  #   #   #   #   \n",
      "#   #   #   #   #   \n"
     ]
    }
   ],
   "source": [
    "n=5\n",
    "for i in range(1,n+1):\n",
    "    for j in range(n-i):\n",
    "        print(\" \",end=' ')\n",
    "    c=\"#\"\n",
    "    for j in range(1,i+1):\n",
    "        print(c,' ',sep=' ',end=' ')\n",
    "        #c=c*(i-j)//j\n",
    "    print()"
   ]
  },
  {
   "cell_type": "code",
   "execution_count": 15,
   "id": "5fe71596-d71f-46ba-bbff-b5815f438570",
   "metadata": {},
   "outputs": [
    {
     "name": "stdout",
     "output_type": "stream",
     "text": [
      "        1   \n",
      "      2   2   \n",
      "    3   3   3   \n",
      "  4   4   4   4   \n",
      "5   5   5   5   5   \n"
     ]
    }
   ],
   "source": [
    "n=5\n",
    "for i in range(1,n+1):\n",
    "    for j in range(n-i):\n",
    "        print(\" \",end=' ')\n",
    "    c=i\n",
    "    for j in range(1,i+1):\n",
    "        print(c,' ',sep=' ',end=' ')\n",
    "        #c=c*(i-j)//j\n",
    "    print()"
   ]
  },
  {
   "cell_type": "code",
   "execution_count": 30,
   "id": "00cd3992-689a-4a63-988b-0e99c12c100b",
   "metadata": {},
   "outputs": [
    {
     "name": "stdout",
     "output_type": "stream",
     "text": [
      "          0   \n",
      "        1   1   \n",
      "      2   2   2   \n",
      "    3   3   3   3   \n",
      "  4   4   4   4   4   \n",
      "5   5   5   5   5   5   \n"
     ]
    }
   ],
   "source": [
    "n=5\n",
    "for i in range(n+1):\n",
    "    for j in range(n-i):\n",
    "        print(\" \",end=' ')\n",
    "    c=i\n",
    "    for j in range(i+1):\n",
    "        print(c,' ',sep=' ',end=' ')\n",
    "        #c=c*(i-j)//j\n",
    "    print()"
   ]
  },
  {
   "cell_type": "code",
   "execution_count": 38,
   "id": "d6241908-62aa-4f05-96e1-be5c3be0bce6",
   "metadata": {},
   "outputs": [
    {
     "name": "stdout",
     "output_type": "stream",
     "text": [
      "\n",
      "1 \n",
      "2 3 \n",
      "4 5 6 \n",
      "7 8 9 10 \n",
      "11 12 13 14 15 \n"
     ]
    }
   ],
   "source": [
    "n=5\n",
    "c=0\n",
    "for i in range(n+1):\n",
    "    for j in range(i):\n",
    "        c+=1\n",
    "        print(c,end=' ')\n",
    "    print()"
   ]
  },
  {
   "cell_type": "code",
   "execution_count": 49,
   "id": "a20eca18-da0b-40f1-b38e-97f7aa71aadf",
   "metadata": {},
   "outputs": [
    {
     "name": "stdout",
     "output_type": "stream",
     "text": [
      "^ \n",
      "^ ^ \n",
      "^   ^ \n",
      "^     ^ \n",
      "^ ^ ^ ^ ^ \n"
     ]
    }
   ],
   "source": [
    "r=5\n",
    "for i in range(1,r+1):\n",
    "    for j in range(1,i+1):\n",
    "        if i==1 or j==1 or i==r or i==j:\n",
    "            print(\"^\",end=' ')\n",
    "        else:\n",
    "            print(' ',end=' ')\n",
    "    print()\n",
    "            \n",
    "        "
   ]
  },
  {
   "cell_type": "code",
   "execution_count": 52,
   "id": "c04ba63e-2189-49e9-8da5-ab36b4329ffa",
   "metadata": {},
   "outputs": [
    {
     "name": "stdout",
     "output_type": "stream",
     "text": [
      "& & & & & \n",
      "&       & \n",
      "&       & \n",
      "&       & \n",
      "& & & & & \n"
     ]
    }
   ],
   "source": [
    "r=5\n",
    "for i in range(1,r+1):\n",
    "    for j in range(1,r+1):\n",
    "        if i==1 or j==1 or i==r or j==r:\n",
    "            print(\"&\",end=' ')\n",
    "        else:\n",
    "            print(' ',end=' ')\n",
    "    print()"
   ]
  },
  {
   "cell_type": "code",
   "execution_count": 54,
   "id": "285f0956-1b65-4828-b6b2-916a7b8c5602",
   "metadata": {},
   "outputs": [
    {
     "name": "stdout",
     "output_type": "stream",
     "text": [
      "\n",
      "A \n",
      "B C \n",
      "D E F \n",
      "G H I J "
     ]
    }
   ],
   "source": [
    "s=0\n",
    "for i in range(1,5):\n",
    "    print()\n",
    "    for j in range(i):\n",
    "        s+=1\n",
    "        print(chr(s+64),end=' ')"
   ]
  },
  {
   "cell_type": "code",
   "execution_count": 56,
   "id": "3191d245-2d8f-478b-ac77-16e99b72979e",
   "metadata": {},
   "outputs": [
    {
     "name": "stdout",
     "output_type": "stream",
     "text": [
      "\n",
      "a \n",
      "b c \n",
      "d e f \n",
      "g h i j \n",
      "k l m n o \n",
      "p q r s t u "
     ]
    }
   ],
   "source": [
    "s=0\n",
    "for i in range(1,7):\n",
    "    print()\n",
    "    for j in range(i):\n",
    "        s+=1\n",
    "        print(chr(s+96),end=' ')"
   ]
  },
  {
   "cell_type": "code",
   "execution_count": 7,
   "id": "1f965073-11d0-426d-91d3-b513f59d6543",
   "metadata": {},
   "outputs": [
    {
     "name": "stdout",
     "output_type": "stream",
     "text": [
      "@ \n",
      "@ @ \n",
      "@   @ \n",
      "@     @ \n",
      "@ @ @ @ @ \n"
     ]
    }
   ],
   "source": [
    "r=5\n",
    "for i in range(1,r+1):\n",
    "    for j in range(1,i+1):\n",
    "        if i==1 or j==1 or i==j or i==r:\n",
    "            print(\"@\",end=' ')\n",
    "        else:\n",
    "            print(' ',end=' ')\n",
    "    print()"
   ]
  },
  {
   "cell_type": "code",
   "execution_count": 10,
   "id": "0f8b1dec-96db-4d1f-a18d-ec6e110d91bb",
   "metadata": {},
   "outputs": [
    {
     "name": "stdout",
     "output_type": "stream",
     "text": [
      "& & & & & \n",
      "&       & \n",
      "&       & \n",
      "&       & \n",
      "& & & & & \n"
     ]
    }
   ],
   "source": [
    "r=5\n",
    "for i in range(1,r+1):\n",
    "    for j in range(1,r+1):\n",
    "        if i==1 or j==1 or i==r or j==r:\n",
    "            print(\"&\",end=' ')\n",
    "        else:\n",
    "            print(' ',end=' ')\n",
    "    print()"
   ]
  },
  {
   "cell_type": "code",
   "execution_count": null,
   "id": "d6c0ec8f-9cdf-4e23-a69a-a63a24acd71a",
   "metadata": {},
   "outputs": [],
   "source": []
  }
 ],
 "metadata": {
  "kernelspec": {
   "display_name": "Python 3 (ipykernel)",
   "language": "python",
   "name": "python3"
  },
  "language_info": {
   "codemirror_mode": {
    "name": "ipython",
    "version": 3
   },
   "file_extension": ".py",
   "mimetype": "text/x-python",
   "name": "python",
   "nbconvert_exporter": "python",
   "pygments_lexer": "ipython3",
   "version": "3.11.5"
  }
 },
 "nbformat": 4,
 "nbformat_minor": 5
}
