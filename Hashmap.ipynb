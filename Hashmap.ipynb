{
 "cells": [
  {
   "cell_type": "code",
   "execution_count": 1,
   "id": "387e6910",
   "metadata": {},
   "outputs": [
    {
     "name": "stdout",
     "output_type": "stream",
     "text": [
      "25\n"
     ]
    }
   ],
   "source": [
    "def find_max_ele(hashmap):\n",
    "    return max(hashmap.values())\n",
    "hashmap = {\"a\":10,\"b\":25,\"c\":5}\n",
    "print(find_max_ele(hashmap))"
   ]
  },
  {
   "cell_type": "code",
   "execution_count": 2,
   "id": "52da2d2a",
   "metadata": {},
   "outputs": [
    {
     "name": "stdout",
     "output_type": "stream",
     "text": [
      "4\n"
     ]
    }
   ],
   "source": [
    "arr = [1, 1, 2, 3, 4, 4, 4, 2]\n",
    "freq = {}\n",
    "for i in arr:\n",
    "    freq[i] = freq.get(i, 0) + 1\n",
    "f = list(freq.values())\n",
    "print(min(f) + max(f))"
   ]
  },
  {
   "cell_type": "code",
   "execution_count": null,
   "id": "5e7602cd",
   "metadata": {},
   "outputs": [],
   "source": [
    "'''Python has a set of built-in methods that you can use on dictionaries.\n",
    "\n",
    "Method = Description\n",
    "clear() = Removes all the elements from the dictionary\n",
    "copy() = Returns a copy of the dictionary\n",
    "fromkeys() = Returns a dictionary with the specified keys and value\n",
    "get() = Returns the value of the specified key\n",
    "items() = Returns a list containing a tuple for each key value pair\n",
    "keys() = Returns a list containing the dictionary's keys\n",
    "pop() = Removes the element with the specified key\n",
    "popitem() = Removes the last inserted key-value pair\n",
    "setdefault() = Returns the value of the specified key. If the key does not exist: insert the key, with the specified value\n",
    "update() = Updates the dictionary with the specified key-value pairs\n",
    "values() = Returns a list of all the values in the dictionary\n",
    "'''"
   ]
  }
 ],
 "metadata": {
  "kernelspec": {
   "display_name": "Python 3 (ipykernel)",
   "language": "python",
   "name": "python3"
  },
  "language_info": {
   "codemirror_mode": {
    "name": "ipython",
    "version": 3
   },
   "file_extension": ".py",
   "mimetype": "text/x-python",
   "name": "python",
   "nbconvert_exporter": "python",
   "pygments_lexer": "ipython3",
   "version": "3.11.5"
  }
 },
 "nbformat": 4,
 "nbformat_minor": 5
}
