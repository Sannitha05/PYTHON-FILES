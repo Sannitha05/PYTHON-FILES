{
 "cells": [
  {
   "cell_type": "code",
   "execution_count": 1,
   "id": "dcfad74f-2942-4985-b9a8-d6a6fc2e0952",
   "metadata": {},
   "outputs": [
    {
     "name": "stdout",
     "output_type": "stream",
     "text": [
      "d1-d2=\n",
      "2 kms 950 meters\n",
      "that is 2950 meters\n"
     ]
    }
   ],
   "source": [
    "class distance:\n",
    "    def __init__(self):\n",
    "        self.km=0\n",
    "        self.m=0\n",
    "    def set(self,km,m):\n",
    "        self.km=km\n",
    "        self.m=m\n",
    "    def __isub__(self,d):\n",
    "        self.m=(self.m)-(d.m)\n",
    "        if self.m<0:\n",
    "            self.m+=1000\n",
    "            self.km-=1\n",
    "        self.km=(self.km)-(d.km)\n",
    "        return self\n",
    "    def convert_to_meters(self):\n",
    "        return(self.km*1000+self.m)\n",
    "    def display(self):\n",
    "        print(self.km,\"kms\",self.m,\"meters\")\n",
    "d1=distance()\n",
    "d1.set(21,70)\n",
    "d2=distance()\n",
    "d2.set(18,120)\n",
    "d1-=d2\n",
    "print(\"d1-d2=\")\n",
    "d1.display()\n",
    "print(\"that is\",d1.convert_to_meters(),\"meters\")"
   ]
  },
  {
   "cell_type": "code",
   "execution_count": null,
   "id": "94eb5c6c-90c8-41c2-beee-a890131cb917",
   "metadata": {},
   "outputs": [],
   "source": []
  }
 ],
 "metadata": {
  "kernelspec": {
   "display_name": "Python 3 (ipykernel)",
   "language": "python",
   "name": "python3"
  },
  "language_info": {
   "codemirror_mode": {
    "name": "ipython",
    "version": 3
   },
   "file_extension": ".py",
   "mimetype": "text/x-python",
   "name": "python",
   "nbconvert_exporter": "python",
   "pygments_lexer": "ipython3",
   "version": "3.11.5"
  }
 },
 "nbformat": 4,
 "nbformat_minor": 5
}
