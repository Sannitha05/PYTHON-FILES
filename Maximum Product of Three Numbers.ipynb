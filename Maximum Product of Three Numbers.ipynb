{
 "cells": [
  {
   "cell_type": "code",
   "execution_count": 6,
   "id": "ef642234",
   "metadata": {},
   "outputs": [
    {
     "name": "stdout",
     "output_type": "stream",
     "text": [
      "3 2 1\n",
      "[3, 2, 1]\n",
      "Maximum Product of Three Numbers: 6\n"
     ]
    }
   ],
   "source": [
    "'''628. Maximum Product of Three Numbers\n",
    "Solved\n",
    "Easy\n",
    "Topics\n",
    "premium lock icon\n",
    "Companies\n",
    "Given an integer array nums, find three numbers whose product is maximum and return the maximum product.\n",
    "\n",
    "Example 1:\n",
    "Input: nums = [1,2,3]\n",
    "Output: 6\n",
    "\n",
    "Example 2:\n",
    "Input: nums = [1,2,3,4]\n",
    "Output: 24\n",
    "\n",
    "Example 3:\n",
    "Input: nums = [-1,-2,-3]\n",
    "Output: -6\n",
    "\n",
    "Constraints:\n",
    "3 <= nums.length <= 104\n",
    "-1000 <= nums[i] <= 1000'''\n",
    "\n",
    "\n",
    "\n",
    "\n",
    "\n",
    "\n",
    "\n",
    "\n",
    "from typing import List\n",
    "\n",
    "class Solution:\n",
    "    def maximumProduct(self, nums: List[int]) -> int:\n",
    "        nums.sort()\n",
    "        return max(nums[-1]*nums[-2]*nums[-3], nums[0]*nums[1]*nums[-1])\n",
    "\n",
    "arr = list(map(int, input().split()))\n",
    "print(arr)\n",
    "\n",
    "sol = Solution()\n",
    "print(\"Maximum Product of Three Numbers:\", sol.maximumProduct(arr))\n"
   ]
  },
  {
   "cell_type": "code",
   "execution_count": null,
   "id": "cac8d9c4",
   "metadata": {},
   "outputs": [],
   "source": []
  }
 ],
 "metadata": {
  "kernelspec": {
   "display_name": "Python 3 (ipykernel)",
   "language": "python",
   "name": "python3"
  },
  "language_info": {
   "codemirror_mode": {
    "name": "ipython",
    "version": 3
   },
   "file_extension": ".py",
   "mimetype": "text/x-python",
   "name": "python",
   "nbconvert_exporter": "python",
   "pygments_lexer": "ipython3",
   "version": "3.11.5"
  }
 },
 "nbformat": 4,
 "nbformat_minor": 5
}
