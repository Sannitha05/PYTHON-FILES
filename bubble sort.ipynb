{
 "cells": [
  {
   "cell_type": "code",
   "execution_count": 4,
   "id": "580bf2a2",
   "metadata": {},
   "outputs": [
    {
     "name": "stdout",
     "output_type": "stream",
     "text": [
      "Unsorted list is:\n",
      "[39, 12, 18, 85, 72, 10, 2, 18]\n",
      "Sorted list is: [12, 18, 39, 72, 10, 2, 18, 85]\n"
     ]
    }
   ],
   "source": [
    "def bubble_sort(arr):\n",
    "  \n",
    "  # Outer loop to iterate through the list n times\n",
    "  for n in range(len(arr) - 1, 0, -1):\n",
    "    \n",
    "    swapped = False\n",
    "    \n",
    "    # Inner loop to compare adjacent elements\n",
    "    for i in range(n):\n",
    "      if arr[i] > arr[i + 1]:\n",
    "        \n",
    "        # Swap elements if they are in the wrong order\n",
    "        swapped = True\n",
    "        arr[i], arr[i + 1] = arr[i + 1], arr[i]\n",
    "      \n",
    "      # If we didn't make any swaps in a pass, \n",
    "      # the list is already sorted and we can \n",
    "      # exit the outer loop\n",
    "      if not swapped:\n",
    "        return\n",
    "\n",
    "# Sample list to be sorted\n",
    "arr = [39, 12, 18, 85, 72, 10, 2, 18]\n",
    "print(\"Unsorted list is:\")\n",
    "print(arr)\n",
    "\n",
    "bubble_sort(arr)\n",
    "\n",
    "print(\"Sorted list is:\",arr)\n"
   ]
  },
  {
   "cell_type": "code",
   "execution_count": 1,
   "id": "46feeb1a",
   "metadata": {},
   "outputs": [
    {
     "name": "stdout",
     "output_type": "stream",
     "text": [
      "Original List: [64, 34, 25, 12, 22, 11, 90]\n",
      "Sorted List: [11, 12, 22, 25, 34, 64, 90]\n"
     ]
    }
   ],
   "source": [
    "def bubble_sort(arr):  \n",
    "    n = len(arr)  \n",
    "    for i in range(n):\n",
    "        for j in range(0, n-i-1):  \n",
    "            if arr[j] > arr[j+1]:  \n",
    "                arr[j], arr[j+1] = arr[j+1], arr[j] \n",
    "if __name__ == \"__main__\":    \n",
    "    sample_list = [64, 34, 25, 12, 22, 11, 90]  \n",
    "    print(\"Original List:\", sample_list) \n",
    "    bubble_sort(sample_list)  \n",
    "    print(\"Sorted List:\", sample_list)  "
   ]
  },
  {
   "cell_type": "code",
   "execution_count": null,
   "id": "4604de4b",
   "metadata": {},
   "outputs": [],
   "source": []
  }
 ],
 "metadata": {
  "kernelspec": {
   "display_name": "Python 3 (ipykernel)",
   "language": "python",
   "name": "python3"
  },
  "language_info": {
   "codemirror_mode": {
    "name": "ipython",
    "version": 3
   },
   "file_extension": ".py",
   "mimetype": "text/x-python",
   "name": "python",
   "nbconvert_exporter": "python",
   "pygments_lexer": "ipython3",
   "version": "3.11.5"
  }
 },
 "nbformat": 4,
 "nbformat_minor": 5
}
