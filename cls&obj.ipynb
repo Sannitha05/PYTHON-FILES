{
 "cells": [
  {
   "cell_type": "code",
   "execution_count": 17,
   "id": "bd795c83-3e54-4192-95ce-440c803c409f",
   "metadata": {},
   "outputs": [
    {
     "name": "stdout",
     "output_type": "stream",
     "text": [
      "10\n"
     ]
    }
   ],
   "source": [
    "class abc:\n",
    "    var=10\n",
    "object=abc()\n",
    "print(object.var)"
   ]
  },
  {
   "cell_type": "code",
   "execution_count": 18,
   "id": "076901ed-1662-4180-a88d-0e3601c9e118",
   "metadata": {},
   "outputs": [
    {
     "name": "stdout",
     "output_type": "stream",
     "text": [
      "100\n"
     ]
    }
   ],
   "source": [
    "class abc:\n",
    "    var1=10\n",
    "    var2=100\n",
    "object=abc()\n",
    "print(object.var2)"
   ]
  },
  {
   "cell_type": "code",
   "execution_count": 19,
   "id": "342c3820-fbed-43b0-9aeb-b3c5025effda",
   "metadata": {},
   "outputs": [
    {
     "name": "stdout",
     "output_type": "stream",
     "text": [
      "10\n",
      "100\n"
     ]
    }
   ],
   "source": [
    "class abc:\n",
    "    var1=10\n",
    "    var2=100\n",
    "object=abc()\n",
    "print(object.var1)\n",
    "print(object.var2)"
   ]
  },
  {
   "cell_type": "code",
   "execution_count": 20,
   "id": "e80cddb4-14ea-4160-bdb6-b5bfbc53ee51",
   "metadata": {},
   "outputs": [
    {
     "name": "stdout",
     "output_type": "stream",
     "text": [
      "10\n",
      "this is an example of self variable\n"
     ]
    }
   ],
   "source": [
    "#self argument\n",
    "class abc():\n",
    "    var=10\n",
    "    def display(self):\n",
    "        print(\"this is an example of self variable\")\n",
    "obj=abc()\n",
    "print(obj.var)\n",
    "obj.display()"
   ]
  },
  {
   "cell_type": "code",
   "execution_count": 21,
   "id": "ef4377fd-3c8d-4444-8645-abf3cd5715a7",
   "metadata": {},
   "outputs": [
    {
     "name": "stdout",
     "output_type": "stream",
     "text": [
      "the value is in class method\n",
      "the value is: 10\n"
     ]
    }
   ],
   "source": [
    "#illustrate use of constructor\n",
    "class abc():\n",
    "    def __init__(self,var):\n",
    "        print(\"the value is in class method\")\n",
    "        self.var=var\n",
    "        print(\"the value is:\",var)\n",
    "obj=abc(10)"
   ]
  },
  {
   "cell_type": "code",
   "execution_count": 22,
   "id": "1ec183bd-f7f9-48f1-b20b-59f9baa9564b",
   "metadata": {},
   "outputs": [
    {
     "name": "stdout",
     "output_type": "stream",
     "text": [
      "object value: 10\n",
      "class value: 1\n",
      "object value: 20\n",
      "class value: 2\n",
      "object value: 30\n",
      "class value: 3\n"
     ]
    }
   ],
   "source": [
    "class abc():\n",
    "    class_variable=0\n",
    "    def __init__(self,var):\n",
    "        abc.class_variable+=1\n",
    "        self.var=var\n",
    "        print(\"object value:\",var)\n",
    "        print(\"class value:\",abc.class_variable)\n",
    "obj1=abc(10)\n",
    "obj2=abc(20)\n",
    "obj3=abc(30)"
   ]
  },
  {
   "cell_type": "code",
   "execution_count": 23,
   "id": "a77175a3-2155-4209-8bb6-7a0d9c727762",
   "metadata": {},
   "outputs": [
    {
     "name": "stdout",
     "output_type": "stream",
     "text": [
      "even number [30, 56]\n",
      "odd number [21, 43, 65]\n"
     ]
    }
   ],
   "source": [
    "class number:\n",
    "    evens=[]\n",
    "    odds=[]\n",
    "    def __init__(self,num):\n",
    "        self.num=num\n",
    "        if num%2==0:\n",
    "            number.evens.append(num)\n",
    "        else:\n",
    "            number.odds.append(num)\n",
    "    print(\"even number\",number.evens)\n",
    "    print(\"odd number\",number.odds)\n",
    "num1=number(21)\n",
    "num2=number(30)\n",
    "num3=number(43)\n",
    "num4=number(56)\n",
    "num5=number(65)"
   ]
  },
  {
   "cell_type": "code",
   "execution_count": 26,
   "id": "aee90959-acee-4c6b-993f-75094da3947a",
   "metadata": {},
   "outputs": [
    {
     "name": "stdout",
     "output_type": "stream",
     "text": [
      "[96]\n",
      "[21, 65]\n"
     ]
    }
   ],
   "source": [
    "class number():\n",
    "    even=[]\n",
    "    odd=[]\n",
    "    def __init__(self,num):\n",
    "        self.num=num\n",
    "        if(num%2==0):\n",
    "            number.even.append(num)\n",
    "        else:\n",
    "            number.odd.append(num)\n",
    "    number.even.pop(0)\n",
    "    number.odd.pop(1)\n",
    "    print(number.even)\n",
    "    print(number.odd)\n",
    "num1=number(21)\n",
    "num2=number(79)\n",
    "num3=number(46)\n",
    "num4=number(96)\n",
    "num5=number(65)"
   ]
  },
  {
   "cell_type": "code",
   "execution_count": null,
   "id": "2981829f-44fc-4252-a308-6ffbbefae3b5",
   "metadata": {},
   "outputs": [],
   "source": []
  }
 ],
 "metadata": {
  "kernelspec": {
   "display_name": "Python 3 (ipykernel)",
   "language": "python",
   "name": "python3"
  },
  "language_info": {
   "codemirror_mode": {
    "name": "ipython",
    "version": 3
   },
   "file_extension": ".py",
   "mimetype": "text/x-python",
   "name": "python",
   "nbconvert_exporter": "python",
   "pygments_lexer": "ipython3",
   "version": "3.11.5"
  }
 },
 "nbformat": 4,
 "nbformat_minor": 5
}
